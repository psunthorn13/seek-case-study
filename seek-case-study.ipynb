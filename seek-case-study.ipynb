{
 "cells": [
  {
   "metadata": {},
   "cell_type": "markdown",
   "source": [
    "# 📊 SEEK Case Study\n",
    "\n",
    "We propose two solutions for the SEEK case study:\n",
    "1. **LLM-Based Information Extraction from Job Ads** \n",
    "2. **Smart Job Search** \n",
    "\n",
    "This notebook focuses on **Solution 1 only**.  \n",
    "\n",
    "---\n",
    "\n",
    "## 📁 Notebook Outline (Solution 1 only)\n",
    "\n",
    "0. **Import Libraries** – Load required packages  \n",
    "1. **Load & Preprocess Data** – Read and clean job ads  \n",
    "2. **EDA** – Explore key patterns in the data  \n",
    "3. **LLM-Based Information Extraction from Job Ads** – Use LLMs to extract metadata from job ads\n",
    "4. **Evaluation** – Assess extraction performance\n",
    "\n",
    "---\n",
    "\n",
    "## 🚀 Solution 2: Smart Job Search\n",
    "\n",
    "A separate Streamlit app demonstrates **Solution 2: Smart Job Search**, using vector search and LLMs to enhance job seeker experience.:\n",
    "\n",
    "- 🌐 [Live Demo](https://smart-job-search-6c2561d72e46.herokuapp.com/)  \n",
    "- 💻 [Code](https://github.com/psunthorn13/seek-case-study)\n",
    "\n",
    "For more details, see the project slide deck."
   ],
   "id": "a0b05f47852f12c9"
  },
  {
   "metadata": {},
   "cell_type": "markdown",
   "source": [
    "# 0. Import Libraries\n",
    "\n",
    "Load required packages"
   ],
   "id": "995b1ac895654b8e"
  },
  {
   "metadata": {},
   "cell_type": "code",
   "outputs": [],
   "execution_count": null,
   "source": "# !pip install -r requirements.txt",
   "id": "f9f81f10ca40b43f"
  },
  {
   "cell_type": "code",
   "id": "initial_id",
   "metadata": {
    "collapsed": true,
    "ExecuteTime": {
     "end_time": "2025-10-19T20:59:28.804196Z",
     "start_time": "2025-10-19T20:59:28.802356Z"
    }
   },
   "source": [
    "import json\n",
    "from openai import OpenAI\n",
    "from pydantic import BaseModel\n",
    "import re\n",
    "\n",
    "import pandas as pd\n",
    "import plotly.express as px"
   ],
   "outputs": [],
   "execution_count": 8
  },
  {
   "metadata": {},
   "cell_type": "markdown",
   "source": [
    "# 1.Load & Preprocess Data\n",
    "\n",
    "In this section, we load the job ads data from a JSON file and preprocess the text content by removing HTML tags."
   ],
   "id": "128acec2e6b1d544"
  },
  {
   "metadata": {},
   "cell_type": "markdown",
   "source": "",
   "id": "ced85329b32048bc"
  },
  {
   "metadata": {
    "ExecuteTime": {
     "end_time": "2025-10-19T20:59:29.798532Z",
     "start_time": "2025-10-19T20:59:28.889464Z"
    }
   },
   "cell_type": "code",
   "source": [
    "# Read the JSON file and convert it into a pandas DataFrame\n",
    "with open('data/ads-50k.json', 'r') as f:\n",
    "    records = [json.loads(line) for line in f]\n",
    "\n",
    "job_df = pd.DataFrame(records)\n",
    "\n",
    "# Flatten the metadata column\n",
    "metadata_df = pd.json_normalize(job_df['metadata']).add_prefix('metadata.')\n",
    "job_df = pd.concat([job_df, metadata_df], axis=1)"
   ],
   "id": "2b4d7668074381eb",
   "outputs": [],
   "execution_count": 9
  },
  {
   "metadata": {
    "ExecuteTime": {
     "end_time": "2025-10-19T20:59:32.962541Z",
     "start_time": "2025-10-19T20:59:29.809057Z"
    }
   },
   "cell_type": "code",
   "source": [
    "# Function to remove HTML tags\n",
    "def clean_html(text):\n",
    "    if pd.isna(text):\n",
    "        return text\n",
    "    # Remove HTML tags\n",
    "    clean_text = re.sub(r'<.*?>', ' ', str(text))\n",
    "    # Replace multiple spaces with a single space\n",
    "    clean_text = re.sub(r'\\s+', ' ', clean_text)\n",
    "    # Strip leading and trailing spaces\n",
    "    clean_text = clean_text.strip()\n",
    "    return clean_text\n",
    "\n",
    "# Apply the cleaning function to the content column\n",
    "job_df['cleaned_content'] = job_df['content'].apply(clean_html)\n",
    "    "
   ],
   "id": "c974cb7f4e87719a",
   "outputs": [],
   "execution_count": 10
  },
  {
   "metadata": {},
   "cell_type": "markdown",
   "source": [
    "## 2. Exploratory Data Analysis (EDA)\n",
    "\n",
    "In this section, we perform **Exploratory Data Analysis (EDA)** to better understand the dataset. We will:\n",
    "\n",
    "- Examine **missing values** across key features  \n",
    "- Visualise the **distribution of categorical variables**  \n",
    "- Explore **word count patterns** in abstract and content fields  \n",
    "\n",
    "---\n",
    "\n",
    "### 📊 Dataset Overview\n",
    "\n",
    "The dataset is provided in **JSON format** and contains the following fields:\n",
    "\n",
    "- **Job ID** – Unique identifier  \n",
    "- **Title** – Job title  \n",
    "- **Abstract** – Short summary of the role  \n",
    "- **Content** – Full job description  \n",
    "- **Metadata** – Salary, bullet points, classification, location, etc.\n",
    "\n",
    "---\n",
    "\n",
    "### 🧩 Missing Values Analysis\n",
    "\n",
    "| Feature            | Missing Percentage |\n",
    "|--------------------|--------------------|\n",
    "| Salary Text        | 67%                |\n",
    "| Bullet Points      | 47%                |\n",
    "| Area Name          | 34%                |\n",
    "| Suburb Name        | 26%                |\n",
    "\n",
    "✅ **No missing values** in: `Title`, `Abstract`, `Content`, `Classification`, `Sub-class`, `Location Name`, `Work Type`\n",
    "\n",
    "---\n",
    "\n",
    "### 📍 Key Findings\n",
    "\n",
    "- **Job Type**: ~70% of positions are **Full-Time**  \n",
    "- **Location**: ~47% of roles are in **Sydney (26%)** and **Melbourne (21%)**  \n",
    "- **Text Length**:  \n",
    "  - `Abstract` typically contains ~**20 words**  \n",
    "  - `Content` typically contains ~**300 words**\n",
    "\n",
    "---\n",
    "\n",
    "### 📈 Top Job Classifications\n",
    "\n",
    "| Classification                              | Share |\n",
    "|---------------------------------------------|-------|\n",
    "| Information & Communication Technology     | 11%  |\n",
    "| Trades & Services                          | 10%  |\n",
    "| Healthcare & Medical                       |  9%  |\n",
    "| Manufacturing, Transport & Logistics      |  6%  |\n",
    "| Accounting                                 |  5%  |\n",
    "\n",
    "---\n"
   ],
   "id": "30b9a0b342ee4b00"
  },
  {
   "metadata": {},
   "cell_type": "markdown",
   "source": "",
   "id": "3cf78c52b0ccd9ae"
  },
  {
   "metadata": {
    "ExecuteTime": {
     "end_time": "2025-10-19T20:59:32.974180Z",
     "start_time": "2025-10-19T20:59:32.969815Z"
    }
   },
   "cell_type": "code",
   "source": [
    "# Function to generate null percentage dataframe\n",
    "def generate_null_percentage(df: pd.DataFrame) -> pd.DataFrame:\n",
    "    # Calculate null count and percentage for each column\n",
    "    null_counts = df.isnull().sum()\n",
    "    total_rows = len(df)\n",
    "    null_percentages = (null_counts / total_rows * 100).round(2)\n",
    "    \n",
    "    # Create result dataframe\n",
    "    null_df = pd.DataFrame({\n",
    "        'Column': null_counts.index,\n",
    "        'Null Count': null_counts.values,\n",
    "        'Null Percentage': null_percentages.values\n",
    "    })\n",
    "    \n",
    "    # Sort by null percentage in descending order\n",
    "    null_df = null_df.sort_values('Null Percentage', ascending=False)\n",
    "    \n",
    "    return null_df\n",
    "\n",
    "# Function to plot distribution of a specified column\n",
    "def plot_distribution(df: pd.DataFrame, \n",
    "                      column_name: str,\n",
    "                      title: str | None = None,\n",
    "                      top_n: int | None = 10)-> None:\n",
    "    # Calculate and sort percentage distribution in descending order\n",
    "    dist = df[column_name].value_counts(normalize=True).sort_values(ascending=False).head(top_n) * 100\n",
    "    \n",
    "    # Sort for better visualization\n",
    "    dist = dist.sort_values(ascending=True) \n",
    "    \n",
    "    # Set default title if none provided\n",
    "    if title is None:\n",
    "        title = f'Distribution of {column_name} (%)'\n",
    "    \n",
    "    # Create horizontal bar chart\n",
    "    fig = px.bar(\n",
    "        dist,\n",
    "        x=dist.values,\n",
    "        y=dist.index,\n",
    "        orientation='h',\n",
    "        labels={'x': 'Percentage', 'y': ''},  # Empty y label\n",
    "        title=title,\n",
    "        text=dist.values.round(1)  # Show values on bars\n",
    "    )\n",
    "    \n",
    "    # Format the text to show percentage with 1 decimal place\n",
    "    fig.update_traces(texttemplate='%{text:.1f}%', textposition='inside')\n",
    "    \n",
    "    # Hide the y-axis title\n",
    "    fig.update_layout(yaxis_title=None)\n",
    "    \n",
    "    fig.show()\n",
    "\n",
    "def plot_word_count_distribution(df: pd.DataFrame, \n",
    "                                column_name: str, \n",
    "                                title: str | None = None,\n",
    "                                bins: int = 20) -> None:\n",
    "\n",
    "    # Calculate word counts for the specified column\n",
    "    # Filter out missing values first\n",
    "    word_counts = df[column_name].dropna().apply(lambda x: len(str(x).split()))\n",
    "    \n",
    "    # Set default title if none provided\n",
    "    if title is None:\n",
    "        title = f'Distribution of Word Count in {column_name}'\n",
    "    \n",
    "    # Create histogram\n",
    "    fig = px.histogram(\n",
    "        word_counts, \n",
    "        x=word_counts,\n",
    "        nbins=bins,\n",
    "        labels={'x': 'Number of Words', 'y': 'Count'},\n",
    "        title=title,\n",
    "        text_auto=True  # Show count values on bars\n",
    "    )\n",
    "    \n",
    "    # Add average line\n",
    "    mean_value = word_counts.mean()\n",
    "    fig.add_vline(x=mean_value, line_dash=\"dash\", line_color=\"red\",\n",
    "                  annotation_text=f\"Mean: {mean_value:.1f} words\",\n",
    "                  annotation_position=\"top right\")\n",
    "    \n",
    "    # Format layout\n",
    "    fig.update_layout(bargap=0.1)\n",
    "    \n",
    "    fig.show()"
   ],
   "id": "5d0a16c9eb074713",
   "outputs": [],
   "execution_count": 11
  },
  {
   "metadata": {
    "ExecuteTime": {
     "end_time": "2025-10-19T20:59:32.993523Z",
     "start_time": "2025-10-19T20:59:32.981486Z"
    }
   },
   "cell_type": "code",
   "source": [
    "# Display the first few rows of the job dataframe\n",
    "job_df.head()"
   ],
   "id": "edcccf1a22406c6",
   "outputs": [
    {
     "data": {
      "text/plain": [
       "         id                                              title  \\\n",
       "0  38915469                             Recruitment Consultant   \n",
       "1  38934839                     Computers Salesperson - Coburg   \n",
       "2  38946054                              Senior Developer | SA   \n",
       "3  38833950  Senior Commercial Property Manager | Leading T...   \n",
       "4  38856271               Technology Manager | Travel Industry   \n",
       "\n",
       "                                            abstract  \\\n",
       "0  We are looking for someone to focus purely on ...   \n",
       "1  Passionate about exceptional customer service?...   \n",
       "2  Readifarians are known for discovering the lat...   \n",
       "3  ~ Rare opportunity for a Senior PM to step int...   \n",
       "4  Rare opportunity for an experienced Technology...   \n",
       "\n",
       "                                             content  \\\n",
       "0  <HTML><p>Are you looking to join a thriving bu...   \n",
       "1  <HTML><p>&middot;&nbsp;&nbsp;Casual hours as r...   \n",
       "2  <HTML><p>Readify helps organizations innovate ...   \n",
       "3  <HTML><p><strong>WayPoint Recruitment&nbsp;</s...   \n",
       "4  <HTML>This is a key role within a market leadi...   \n",
       "\n",
       "                                            metadata  \\\n",
       "0  {'standout': {'bullet1': 'Join a Sector that i...   \n",
       "1  {'additionalSalaryText': 'Attractive Commissio...   \n",
       "2  {'standout': {'bullet1': 'Design, develop, tes...   \n",
       "3  {'additionalSalaryText': '$140k + Car Park - C...   \n",
       "4  {'standout': {'bullet1': 'Lead overarching str...   \n",
       "\n",
       "                       metadata.additionalSalaryText  \\\n",
       "0                                         commission   \n",
       "1  Attractive Commission - Uncapped Earning Poten...   \n",
       "2                                                NaN   \n",
       "3  $140k + Car Park - Call James Calleja 0430 058...   \n",
       "4               $110k - $120k p.a. + Numerous Perks!   \n",
       "\n",
       "                           metadata.standout.bullet1  \\\n",
       "0  Join a Sector that is considered Recession Pro...   \n",
       "1                                                NaN   \n",
       "2  Design, develop, test and deliver custom softw...   \n",
       "3                                                NaN   \n",
       "4  Lead overarching strategy around Technology wi...   \n",
       "\n",
       "                           metadata.standout.bullet2  \\\n",
       "0  Excellent opportunity  for Career Progression ...   \n",
       "1                                                NaN   \n",
       "2  Keep your skills current with 20 x paid profes...   \n",
       "3                                                NaN   \n",
       "4  You will be responsible for all Technology and...   \n",
       "\n",
       "                           metadata.standout.bullet3  \\\n",
       "0  Make a Diference whilst earning Money and havi...   \n",
       "1                                                NaN   \n",
       "2              Flexible & inclusive work environment   \n",
       "3                                                NaN   \n",
       "4  Competitive Salary package of $110K - $120K + ...   \n",
       "\n",
       "             metadata.classification.name  \\\n",
       "0                    Education & Training   \n",
       "1              Retail & Consumer Products   \n",
       "2  Information & Communication Technology   \n",
       "3                  Real Estate & Property   \n",
       "4  Information & Communication Technology   \n",
       "\n",
       "             metadata.subClassification.name metadata.location.name  \\\n",
       "0                                      Other                 Sydney   \n",
       "1                          Retail Assistants              Melbourne   \n",
       "2                                Consultants               Adelaide   \n",
       "3  Commercial Sales, Leasing & Property Mgmt              Melbourne   \n",
       "4                                 Management               Auckland   \n",
       "\n",
       "  metadata.workType.name   metadata.area.name metadata.suburb.name  \\\n",
       "0              Full Time                  NaN                  NaN   \n",
       "1        Casual/Vacation     Northern Suburbs               Coburg   \n",
       "2              Full Time                  NaN                  NaN   \n",
       "3              Full Time  CBD & Inner Suburbs            Melbourne   \n",
       "4              Full Time                  NaN                  NaN   \n",
       "\n",
       "                                     cleaned_content  \n",
       "0  Are you looking to join a thriving business th...  \n",
       "1  &middot;&nbsp;&nbsp;Casual hours as required (...  \n",
       "2  Readify helps organizations innovate with tech...  \n",
       "3  WayPoint Recruitment&nbsp; have partnered up w...  \n",
       "4  This is a key role within a market leading Tra...  "
      ],
      "text/html": [
       "<div>\n",
       "<style scoped>\n",
       "    .dataframe tbody tr th:only-of-type {\n",
       "        vertical-align: middle;\n",
       "    }\n",
       "\n",
       "    .dataframe tbody tr th {\n",
       "        vertical-align: top;\n",
       "    }\n",
       "\n",
       "    .dataframe thead th {\n",
       "        text-align: right;\n",
       "    }\n",
       "</style>\n",
       "<table border=\"1\" class=\"dataframe\">\n",
       "  <thead>\n",
       "    <tr style=\"text-align: right;\">\n",
       "      <th></th>\n",
       "      <th>id</th>\n",
       "      <th>title</th>\n",
       "      <th>abstract</th>\n",
       "      <th>content</th>\n",
       "      <th>metadata</th>\n",
       "      <th>metadata.additionalSalaryText</th>\n",
       "      <th>metadata.standout.bullet1</th>\n",
       "      <th>metadata.standout.bullet2</th>\n",
       "      <th>metadata.standout.bullet3</th>\n",
       "      <th>metadata.classification.name</th>\n",
       "      <th>metadata.subClassification.name</th>\n",
       "      <th>metadata.location.name</th>\n",
       "      <th>metadata.workType.name</th>\n",
       "      <th>metadata.area.name</th>\n",
       "      <th>metadata.suburb.name</th>\n",
       "      <th>cleaned_content</th>\n",
       "    </tr>\n",
       "  </thead>\n",
       "  <tbody>\n",
       "    <tr>\n",
       "      <th>0</th>\n",
       "      <td>38915469</td>\n",
       "      <td>Recruitment Consultant</td>\n",
       "      <td>We are looking for someone to focus purely on ...</td>\n",
       "      <td>&lt;HTML&gt;&lt;p&gt;Are you looking to join a thriving bu...</td>\n",
       "      <td>{'standout': {'bullet1': 'Join a Sector that i...</td>\n",
       "      <td>commission</td>\n",
       "      <td>Join a Sector that is considered Recession Pro...</td>\n",
       "      <td>Excellent opportunity  for Career Progression ...</td>\n",
       "      <td>Make a Diference whilst earning Money and havi...</td>\n",
       "      <td>Education &amp; Training</td>\n",
       "      <td>Other</td>\n",
       "      <td>Sydney</td>\n",
       "      <td>Full Time</td>\n",
       "      <td>NaN</td>\n",
       "      <td>NaN</td>\n",
       "      <td>Are you looking to join a thriving business th...</td>\n",
       "    </tr>\n",
       "    <tr>\n",
       "      <th>1</th>\n",
       "      <td>38934839</td>\n",
       "      <td>Computers Salesperson - Coburg</td>\n",
       "      <td>Passionate about exceptional customer service?...</td>\n",
       "      <td>&lt;HTML&gt;&lt;p&gt;&amp;middot;&amp;nbsp;&amp;nbsp;Casual hours as r...</td>\n",
       "      <td>{'additionalSalaryText': 'Attractive Commissio...</td>\n",
       "      <td>Attractive Commission - Uncapped Earning Poten...</td>\n",
       "      <td>NaN</td>\n",
       "      <td>NaN</td>\n",
       "      <td>NaN</td>\n",
       "      <td>Retail &amp; Consumer Products</td>\n",
       "      <td>Retail Assistants</td>\n",
       "      <td>Melbourne</td>\n",
       "      <td>Casual/Vacation</td>\n",
       "      <td>Northern Suburbs</td>\n",
       "      <td>Coburg</td>\n",
       "      <td>&amp;middot;&amp;nbsp;&amp;nbsp;Casual hours as required (...</td>\n",
       "    </tr>\n",
       "    <tr>\n",
       "      <th>2</th>\n",
       "      <td>38946054</td>\n",
       "      <td>Senior Developer | SA</td>\n",
       "      <td>Readifarians are known for discovering the lat...</td>\n",
       "      <td>&lt;HTML&gt;&lt;p&gt;Readify helps organizations innovate ...</td>\n",
       "      <td>{'standout': {'bullet1': 'Design, develop, tes...</td>\n",
       "      <td>NaN</td>\n",
       "      <td>Design, develop, test and deliver custom softw...</td>\n",
       "      <td>Keep your skills current with 20 x paid profes...</td>\n",
       "      <td>Flexible &amp; inclusive work environment</td>\n",
       "      <td>Information &amp; Communication Technology</td>\n",
       "      <td>Consultants</td>\n",
       "      <td>Adelaide</td>\n",
       "      <td>Full Time</td>\n",
       "      <td>NaN</td>\n",
       "      <td>NaN</td>\n",
       "      <td>Readify helps organizations innovate with tech...</td>\n",
       "    </tr>\n",
       "    <tr>\n",
       "      <th>3</th>\n",
       "      <td>38833950</td>\n",
       "      <td>Senior Commercial Property Manager | Leading T...</td>\n",
       "      <td>~ Rare opportunity for a Senior PM to step int...</td>\n",
       "      <td>&lt;HTML&gt;&lt;p&gt;&lt;strong&gt;WayPoint Recruitment&amp;nbsp;&lt;/s...</td>\n",
       "      <td>{'additionalSalaryText': '$140k + Car Park - C...</td>\n",
       "      <td>$140k + Car Park - Call James Calleja 0430 058...</td>\n",
       "      <td>NaN</td>\n",
       "      <td>NaN</td>\n",
       "      <td>NaN</td>\n",
       "      <td>Real Estate &amp; Property</td>\n",
       "      <td>Commercial Sales, Leasing &amp; Property Mgmt</td>\n",
       "      <td>Melbourne</td>\n",
       "      <td>Full Time</td>\n",
       "      <td>CBD &amp; Inner Suburbs</td>\n",
       "      <td>Melbourne</td>\n",
       "      <td>WayPoint Recruitment&amp;nbsp; have partnered up w...</td>\n",
       "    </tr>\n",
       "    <tr>\n",
       "      <th>4</th>\n",
       "      <td>38856271</td>\n",
       "      <td>Technology Manager | Travel Industry</td>\n",
       "      <td>Rare opportunity for an experienced Technology...</td>\n",
       "      <td>&lt;HTML&gt;This is a key role within a market leadi...</td>\n",
       "      <td>{'standout': {'bullet1': 'Lead overarching str...</td>\n",
       "      <td>$110k - $120k p.a. + Numerous Perks!</td>\n",
       "      <td>Lead overarching strategy around Technology wi...</td>\n",
       "      <td>You will be responsible for all Technology and...</td>\n",
       "      <td>Competitive Salary package of $110K - $120K + ...</td>\n",
       "      <td>Information &amp; Communication Technology</td>\n",
       "      <td>Management</td>\n",
       "      <td>Auckland</td>\n",
       "      <td>Full Time</td>\n",
       "      <td>NaN</td>\n",
       "      <td>NaN</td>\n",
       "      <td>This is a key role within a market leading Tra...</td>\n",
       "    </tr>\n",
       "  </tbody>\n",
       "</table>\n",
       "</div>"
      ]
     },
     "execution_count": 12,
     "metadata": {},
     "output_type": "execute_result"
    }
   ],
   "execution_count": 12
  },
  {
   "metadata": {
    "ExecuteTime": {
     "end_time": "2025-10-19T20:59:33.053236Z",
     "start_time": "2025-10-19T20:59:33.017930Z"
    }
   },
   "cell_type": "code",
   "source": [
    "# Generate null percentage dataframe\n",
    "null_df = generate_null_percentage(job_df)\n",
    "null_df"
   ],
   "id": "392295a071a27477",
   "outputs": [
    {
     "data": {
      "text/plain": [
       "                             Column  Null Count  Null Percentage\n",
       "5     metadata.additionalSalaryText       33651            67.30\n",
       "6         metadata.standout.bullet1       23315            46.63\n",
       "7         metadata.standout.bullet2       23315            46.63\n",
       "8         metadata.standout.bullet3       23315            46.63\n",
       "13               metadata.area.name       17156            34.31\n",
       "14             metadata.suburb.name       12998            26.00\n",
       "0                                id           0             0.00\n",
       "1                             title           0             0.00\n",
       "2                          abstract           0             0.00\n",
       "3                           content           0             0.00\n",
       "4                          metadata           0             0.00\n",
       "9      metadata.classification.name           0             0.00\n",
       "10  metadata.subClassification.name           0             0.00\n",
       "11           metadata.location.name           0             0.00\n",
       "12           metadata.workType.name           0             0.00\n",
       "15                  cleaned_content           0             0.00"
      ],
      "text/html": [
       "<div>\n",
       "<style scoped>\n",
       "    .dataframe tbody tr th:only-of-type {\n",
       "        vertical-align: middle;\n",
       "    }\n",
       "\n",
       "    .dataframe tbody tr th {\n",
       "        vertical-align: top;\n",
       "    }\n",
       "\n",
       "    .dataframe thead th {\n",
       "        text-align: right;\n",
       "    }\n",
       "</style>\n",
       "<table border=\"1\" class=\"dataframe\">\n",
       "  <thead>\n",
       "    <tr style=\"text-align: right;\">\n",
       "      <th></th>\n",
       "      <th>Column</th>\n",
       "      <th>Null Count</th>\n",
       "      <th>Null Percentage</th>\n",
       "    </tr>\n",
       "  </thead>\n",
       "  <tbody>\n",
       "    <tr>\n",
       "      <th>5</th>\n",
       "      <td>metadata.additionalSalaryText</td>\n",
       "      <td>33651</td>\n",
       "      <td>67.30</td>\n",
       "    </tr>\n",
       "    <tr>\n",
       "      <th>6</th>\n",
       "      <td>metadata.standout.bullet1</td>\n",
       "      <td>23315</td>\n",
       "      <td>46.63</td>\n",
       "    </tr>\n",
       "    <tr>\n",
       "      <th>7</th>\n",
       "      <td>metadata.standout.bullet2</td>\n",
       "      <td>23315</td>\n",
       "      <td>46.63</td>\n",
       "    </tr>\n",
       "    <tr>\n",
       "      <th>8</th>\n",
       "      <td>metadata.standout.bullet3</td>\n",
       "      <td>23315</td>\n",
       "      <td>46.63</td>\n",
       "    </tr>\n",
       "    <tr>\n",
       "      <th>13</th>\n",
       "      <td>metadata.area.name</td>\n",
       "      <td>17156</td>\n",
       "      <td>34.31</td>\n",
       "    </tr>\n",
       "    <tr>\n",
       "      <th>14</th>\n",
       "      <td>metadata.suburb.name</td>\n",
       "      <td>12998</td>\n",
       "      <td>26.00</td>\n",
       "    </tr>\n",
       "    <tr>\n",
       "      <th>0</th>\n",
       "      <td>id</td>\n",
       "      <td>0</td>\n",
       "      <td>0.00</td>\n",
       "    </tr>\n",
       "    <tr>\n",
       "      <th>1</th>\n",
       "      <td>title</td>\n",
       "      <td>0</td>\n",
       "      <td>0.00</td>\n",
       "    </tr>\n",
       "    <tr>\n",
       "      <th>2</th>\n",
       "      <td>abstract</td>\n",
       "      <td>0</td>\n",
       "      <td>0.00</td>\n",
       "    </tr>\n",
       "    <tr>\n",
       "      <th>3</th>\n",
       "      <td>content</td>\n",
       "      <td>0</td>\n",
       "      <td>0.00</td>\n",
       "    </tr>\n",
       "    <tr>\n",
       "      <th>4</th>\n",
       "      <td>metadata</td>\n",
       "      <td>0</td>\n",
       "      <td>0.00</td>\n",
       "    </tr>\n",
       "    <tr>\n",
       "      <th>9</th>\n",
       "      <td>metadata.classification.name</td>\n",
       "      <td>0</td>\n",
       "      <td>0.00</td>\n",
       "    </tr>\n",
       "    <tr>\n",
       "      <th>10</th>\n",
       "      <td>metadata.subClassification.name</td>\n",
       "      <td>0</td>\n",
       "      <td>0.00</td>\n",
       "    </tr>\n",
       "    <tr>\n",
       "      <th>11</th>\n",
       "      <td>metadata.location.name</td>\n",
       "      <td>0</td>\n",
       "      <td>0.00</td>\n",
       "    </tr>\n",
       "    <tr>\n",
       "      <th>12</th>\n",
       "      <td>metadata.workType.name</td>\n",
       "      <td>0</td>\n",
       "      <td>0.00</td>\n",
       "    </tr>\n",
       "    <tr>\n",
       "      <th>15</th>\n",
       "      <td>cleaned_content</td>\n",
       "      <td>0</td>\n",
       "      <td>0.00</td>\n",
       "    </tr>\n",
       "  </tbody>\n",
       "</table>\n",
       "</div>"
      ]
     },
     "execution_count": 13,
     "metadata": {},
     "output_type": "execute_result"
    }
   ],
   "execution_count": 13
  },
  {
   "metadata": {
    "ExecuteTime": {
     "end_time": "2025-10-19T20:59:34.316450Z",
     "start_time": "2025-10-19T20:59:33.117596Z"
    }
   },
   "cell_type": "code",
   "source": [
    "# Plot distributions for key categorical columns\n",
    "columns_to_plot_distribution = [\n",
    "    'metadata.classification.name',\n",
    "    'metadata.subClassification.name',\n",
    "    'metadata.location.name',\n",
    "    'metadata.area.name',\n",
    "    'metadata.suburb.name',\n",
    "    'metadata.workType.name'\n",
    "]\n",
    "\n",
    "# Plot distributions\n",
    "for col in columns_to_plot_distribution:\n",
    "    plot_distribution(job_df, col)\n"
   ],
   "id": "fd71bbe60c4c64f1",
   "outputs": [
    {
     "data": {
      "application/vnd.plotly.v1+json": {
       "data": [
        {
         "hovertemplate": "Percentage=%{x}<br>metadata.classification.name=%{y}<br>text=%{text}<extra></extra>",
         "legendgroup": "",
         "marker": {
          "color": "#636efa",
          "pattern": {
           "shape": ""
          }
         },
         "name": "",
         "orientation": "h",
         "showlegend": false,
         "text": {
          "dtype": "f8",
          "bdata": "ZmZmZmZmEkDNzMzMzMwSQJqZmZmZmRNAmpmZmZmZE0BmZmZmZmYUQM3MzMzMzBZAmpmZmZmZGUBmZmZmZmYiQAAAAAAAACNAAAAAAAAAJUA="
         },
         "textposition": "inside",
         "x": {
          "dtype": "f8",
          "bdata": "vHSTGARWEkAYBFYOLbISQO58PzVeuhNAYhBYObTIE0Dn+6nx0k0UQKwcWmQ73xZATmIQWDm0GUBMN4lBYGUiQIts5/up8SJAcT0K16PwJEA="
         },
         "xaxis": "x",
         "y": [
          "Construction",
          "Education & Training",
          "Hospitality & Tourism",
          "Sales",
          "Administration & Office Support",
          "Accounting",
          "Manufacturing, Transport & Logistics",
          "Healthcare & Medical",
          "Trades & Services",
          "Information & Communication Technology"
         ],
         "yaxis": "y",
         "type": "bar",
         "texttemplate": "%{text:.1f}%"
        }
       ],
       "layout": {
        "template": {
         "data": {
          "histogram2dcontour": [
           {
            "type": "histogram2dcontour",
            "colorbar": {
             "outlinewidth": 0,
             "ticks": ""
            },
            "colorscale": [
             [
              0.0,
              "#0d0887"
             ],
             [
              0.1111111111111111,
              "#46039f"
             ],
             [
              0.2222222222222222,
              "#7201a8"
             ],
             [
              0.3333333333333333,
              "#9c179e"
             ],
             [
              0.4444444444444444,
              "#bd3786"
             ],
             [
              0.5555555555555556,
              "#d8576b"
             ],
             [
              0.6666666666666666,
              "#ed7953"
             ],
             [
              0.7777777777777778,
              "#fb9f3a"
             ],
             [
              0.8888888888888888,
              "#fdca26"
             ],
             [
              1.0,
              "#f0f921"
             ]
            ]
           }
          ],
          "choropleth": [
           {
            "type": "choropleth",
            "colorbar": {
             "outlinewidth": 0,
             "ticks": ""
            }
           }
          ],
          "histogram2d": [
           {
            "type": "histogram2d",
            "colorbar": {
             "outlinewidth": 0,
             "ticks": ""
            },
            "colorscale": [
             [
              0.0,
              "#0d0887"
             ],
             [
              0.1111111111111111,
              "#46039f"
             ],
             [
              0.2222222222222222,
              "#7201a8"
             ],
             [
              0.3333333333333333,
              "#9c179e"
             ],
             [
              0.4444444444444444,
              "#bd3786"
             ],
             [
              0.5555555555555556,
              "#d8576b"
             ],
             [
              0.6666666666666666,
              "#ed7953"
             ],
             [
              0.7777777777777778,
              "#fb9f3a"
             ],
             [
              0.8888888888888888,
              "#fdca26"
             ],
             [
              1.0,
              "#f0f921"
             ]
            ]
           }
          ],
          "heatmap": [
           {
            "type": "heatmap",
            "colorbar": {
             "outlinewidth": 0,
             "ticks": ""
            },
            "colorscale": [
             [
              0.0,
              "#0d0887"
             ],
             [
              0.1111111111111111,
              "#46039f"
             ],
             [
              0.2222222222222222,
              "#7201a8"
             ],
             [
              0.3333333333333333,
              "#9c179e"
             ],
             [
              0.4444444444444444,
              "#bd3786"
             ],
             [
              0.5555555555555556,
              "#d8576b"
             ],
             [
              0.6666666666666666,
              "#ed7953"
             ],
             [
              0.7777777777777778,
              "#fb9f3a"
             ],
             [
              0.8888888888888888,
              "#fdca26"
             ],
             [
              1.0,
              "#f0f921"
             ]
            ]
           }
          ],
          "contourcarpet": [
           {
            "type": "contourcarpet",
            "colorbar": {
             "outlinewidth": 0,
             "ticks": ""
            }
           }
          ],
          "contour": [
           {
            "type": "contour",
            "colorbar": {
             "outlinewidth": 0,
             "ticks": ""
            },
            "colorscale": [
             [
              0.0,
              "#0d0887"
             ],
             [
              0.1111111111111111,
              "#46039f"
             ],
             [
              0.2222222222222222,
              "#7201a8"
             ],
             [
              0.3333333333333333,
              "#9c179e"
             ],
             [
              0.4444444444444444,
              "#bd3786"
             ],
             [
              0.5555555555555556,
              "#d8576b"
             ],
             [
              0.6666666666666666,
              "#ed7953"
             ],
             [
              0.7777777777777778,
              "#fb9f3a"
             ],
             [
              0.8888888888888888,
              "#fdca26"
             ],
             [
              1.0,
              "#f0f921"
             ]
            ]
           }
          ],
          "surface": [
           {
            "type": "surface",
            "colorbar": {
             "outlinewidth": 0,
             "ticks": ""
            },
            "colorscale": [
             [
              0.0,
              "#0d0887"
             ],
             [
              0.1111111111111111,
              "#46039f"
             ],
             [
              0.2222222222222222,
              "#7201a8"
             ],
             [
              0.3333333333333333,
              "#9c179e"
             ],
             [
              0.4444444444444444,
              "#bd3786"
             ],
             [
              0.5555555555555556,
              "#d8576b"
             ],
             [
              0.6666666666666666,
              "#ed7953"
             ],
             [
              0.7777777777777778,
              "#fb9f3a"
             ],
             [
              0.8888888888888888,
              "#fdca26"
             ],
             [
              1.0,
              "#f0f921"
             ]
            ]
           }
          ],
          "mesh3d": [
           {
            "type": "mesh3d",
            "colorbar": {
             "outlinewidth": 0,
             "ticks": ""
            }
           }
          ],
          "scatter": [
           {
            "marker": {
             "line": {
              "color": "#283442"
             }
            },
            "type": "scatter"
           }
          ],
          "parcoords": [
           {
            "type": "parcoords",
            "line": {
             "colorbar": {
              "outlinewidth": 0,
              "ticks": ""
             }
            }
           }
          ],
          "scatterpolargl": [
           {
            "type": "scatterpolargl",
            "marker": {
             "colorbar": {
              "outlinewidth": 0,
              "ticks": ""
             }
            }
           }
          ],
          "bar": [
           {
            "error_x": {
             "color": "#f2f5fa"
            },
            "error_y": {
             "color": "#f2f5fa"
            },
            "marker": {
             "line": {
              "color": "rgb(17,17,17)",
              "width": 0.5
             },
             "pattern": {
              "fillmode": "overlay",
              "size": 10,
              "solidity": 0.2
             }
            },
            "type": "bar"
           }
          ],
          "scattergeo": [
           {
            "type": "scattergeo",
            "marker": {
             "colorbar": {
              "outlinewidth": 0,
              "ticks": ""
             }
            }
           }
          ],
          "scatterpolar": [
           {
            "type": "scatterpolar",
            "marker": {
             "colorbar": {
              "outlinewidth": 0,
              "ticks": ""
             }
            }
           }
          ],
          "histogram": [
           {
            "marker": {
             "pattern": {
              "fillmode": "overlay",
              "size": 10,
              "solidity": 0.2
             }
            },
            "type": "histogram"
           }
          ],
          "scattergl": [
           {
            "marker": {
             "line": {
              "color": "#283442"
             }
            },
            "type": "scattergl"
           }
          ],
          "scatter3d": [
           {
            "type": "scatter3d",
            "line": {
             "colorbar": {
              "outlinewidth": 0,
              "ticks": ""
             }
            },
            "marker": {
             "colorbar": {
              "outlinewidth": 0,
              "ticks": ""
             }
            }
           }
          ],
          "scattermap": [
           {
            "type": "scattermap",
            "marker": {
             "colorbar": {
              "outlinewidth": 0,
              "ticks": ""
             }
            }
           }
          ],
          "scattermapbox": [
           {
            "type": "scattermapbox",
            "marker": {
             "colorbar": {
              "outlinewidth": 0,
              "ticks": ""
             }
            }
           }
          ],
          "scatterternary": [
           {
            "type": "scatterternary",
            "marker": {
             "colorbar": {
              "outlinewidth": 0,
              "ticks": ""
             }
            }
           }
          ],
          "scattercarpet": [
           {
            "type": "scattercarpet",
            "marker": {
             "colorbar": {
              "outlinewidth": 0,
              "ticks": ""
             }
            }
           }
          ],
          "carpet": [
           {
            "aaxis": {
             "endlinecolor": "#A2B1C6",
             "gridcolor": "#506784",
             "linecolor": "#506784",
             "minorgridcolor": "#506784",
             "startlinecolor": "#A2B1C6"
            },
            "baxis": {
             "endlinecolor": "#A2B1C6",
             "gridcolor": "#506784",
             "linecolor": "#506784",
             "minorgridcolor": "#506784",
             "startlinecolor": "#A2B1C6"
            },
            "type": "carpet"
           }
          ],
          "table": [
           {
            "cells": {
             "fill": {
              "color": "#506784"
             },
             "line": {
              "color": "rgb(17,17,17)"
             }
            },
            "header": {
             "fill": {
              "color": "#2a3f5f"
             },
             "line": {
              "color": "rgb(17,17,17)"
             }
            },
            "type": "table"
           }
          ],
          "barpolar": [
           {
            "marker": {
             "line": {
              "color": "rgb(17,17,17)",
              "width": 0.5
             },
             "pattern": {
              "fillmode": "overlay",
              "size": 10,
              "solidity": 0.2
             }
            },
            "type": "barpolar"
           }
          ],
          "pie": [
           {
            "automargin": true,
            "type": "pie"
           }
          ]
         },
         "layout": {
          "autotypenumbers": "strict",
          "colorway": [
           "#636efa",
           "#EF553B",
           "#00cc96",
           "#ab63fa",
           "#FFA15A",
           "#19d3f3",
           "#FF6692",
           "#B6E880",
           "#FF97FF",
           "#FECB52"
          ],
          "font": {
           "color": "#f2f5fa"
          },
          "hovermode": "closest",
          "hoverlabel": {
           "align": "left"
          },
          "paper_bgcolor": "rgb(17,17,17)",
          "plot_bgcolor": "rgb(17,17,17)",
          "polar": {
           "bgcolor": "rgb(17,17,17)",
           "angularaxis": {
            "gridcolor": "#506784",
            "linecolor": "#506784",
            "ticks": ""
           },
           "radialaxis": {
            "gridcolor": "#506784",
            "linecolor": "#506784",
            "ticks": ""
           }
          },
          "ternary": {
           "bgcolor": "rgb(17,17,17)",
           "aaxis": {
            "gridcolor": "#506784",
            "linecolor": "#506784",
            "ticks": ""
           },
           "baxis": {
            "gridcolor": "#506784",
            "linecolor": "#506784",
            "ticks": ""
           },
           "caxis": {
            "gridcolor": "#506784",
            "linecolor": "#506784",
            "ticks": ""
           }
          },
          "coloraxis": {
           "colorbar": {
            "outlinewidth": 0,
            "ticks": ""
           }
          },
          "colorscale": {
           "sequential": [
            [
             0.0,
             "#0d0887"
            ],
            [
             0.1111111111111111,
             "#46039f"
            ],
            [
             0.2222222222222222,
             "#7201a8"
            ],
            [
             0.3333333333333333,
             "#9c179e"
            ],
            [
             0.4444444444444444,
             "#bd3786"
            ],
            [
             0.5555555555555556,
             "#d8576b"
            ],
            [
             0.6666666666666666,
             "#ed7953"
            ],
            [
             0.7777777777777778,
             "#fb9f3a"
            ],
            [
             0.8888888888888888,
             "#fdca26"
            ],
            [
             1.0,
             "#f0f921"
            ]
           ],
           "sequentialminus": [
            [
             0.0,
             "#0d0887"
            ],
            [
             0.1111111111111111,
             "#46039f"
            ],
            [
             0.2222222222222222,
             "#7201a8"
            ],
            [
             0.3333333333333333,
             "#9c179e"
            ],
            [
             0.4444444444444444,
             "#bd3786"
            ],
            [
             0.5555555555555556,
             "#d8576b"
            ],
            [
             0.6666666666666666,
             "#ed7953"
            ],
            [
             0.7777777777777778,
             "#fb9f3a"
            ],
            [
             0.8888888888888888,
             "#fdca26"
            ],
            [
             1.0,
             "#f0f921"
            ]
           ],
           "diverging": [
            [
             0,
             "#8e0152"
            ],
            [
             0.1,
             "#c51b7d"
            ],
            [
             0.2,
             "#de77ae"
            ],
            [
             0.3,
             "#f1b6da"
            ],
            [
             0.4,
             "#fde0ef"
            ],
            [
             0.5,
             "#f7f7f7"
            ],
            [
             0.6,
             "#e6f5d0"
            ],
            [
             0.7,
             "#b8e186"
            ],
            [
             0.8,
             "#7fbc41"
            ],
            [
             0.9,
             "#4d9221"
            ],
            [
             1,
             "#276419"
            ]
           ]
          },
          "xaxis": {
           "gridcolor": "#283442",
           "linecolor": "#506784",
           "ticks": "",
           "title": {
            "standoff": 15
           },
           "zerolinecolor": "#283442",
           "automargin": true,
           "zerolinewidth": 2
          },
          "yaxis": {
           "gridcolor": "#283442",
           "linecolor": "#506784",
           "ticks": "",
           "title": {
            "standoff": 15
           },
           "zerolinecolor": "#283442",
           "automargin": true,
           "zerolinewidth": 2
          },
          "scene": {
           "xaxis": {
            "backgroundcolor": "rgb(17,17,17)",
            "gridcolor": "#506784",
            "linecolor": "#506784",
            "showbackground": true,
            "ticks": "",
            "zerolinecolor": "#C8D4E3",
            "gridwidth": 2
           },
           "yaxis": {
            "backgroundcolor": "rgb(17,17,17)",
            "gridcolor": "#506784",
            "linecolor": "#506784",
            "showbackground": true,
            "ticks": "",
            "zerolinecolor": "#C8D4E3",
            "gridwidth": 2
           },
           "zaxis": {
            "backgroundcolor": "rgb(17,17,17)",
            "gridcolor": "#506784",
            "linecolor": "#506784",
            "showbackground": true,
            "ticks": "",
            "zerolinecolor": "#C8D4E3",
            "gridwidth": 2
           }
          },
          "shapedefaults": {
           "line": {
            "color": "#f2f5fa"
           }
          },
          "annotationdefaults": {
           "arrowcolor": "#f2f5fa",
           "arrowhead": 0,
           "arrowwidth": 1
          },
          "geo": {
           "bgcolor": "rgb(17,17,17)",
           "landcolor": "rgb(17,17,17)",
           "subunitcolor": "#506784",
           "showland": true,
           "showlakes": true,
           "lakecolor": "rgb(17,17,17)"
          },
          "title": {
           "x": 0.05
          },
          "updatemenudefaults": {
           "bgcolor": "#506784",
           "borderwidth": 0
          },
          "sliderdefaults": {
           "bgcolor": "#C8D4E3",
           "borderwidth": 1,
           "bordercolor": "rgb(17,17,17)",
           "tickwidth": 0
          },
          "mapbox": {
           "style": "dark"
          }
         }
        },
        "xaxis": {
         "anchor": "y",
         "domain": [
          0.0,
          1.0
         ],
         "title": {
          "text": "Percentage"
         }
        },
        "yaxis": {
         "anchor": "x",
         "domain": [
          0.0,
          1.0
         ],
         "title": {}
        },
        "legend": {
         "tracegroupgap": 0
        },
        "title": {
         "text": "Distribution of metadata.classification.name (%)"
        },
        "barmode": "relative"
       },
       "config": {
        "plotlyServerURL": "https://plot.ly"
       }
      }
     },
     "metadata": {},
     "output_type": "display_data"
    },
    {
     "data": {
      "application/vnd.plotly.v1+json": {
       "data": [
        {
         "hovertemplate": "Percentage=%{x}<br>metadata.subClassification.name=%{y}<br>text=%{text}<extra></extra>",
         "legendgroup": "",
         "marker": {
          "color": "#636efa",
          "pattern": {
           "shape": ""
          }
         },
         "name": "",
         "orientation": "h",
         "showlegend": false,
         "text": {
          "dtype": "f8",
          "bdata": "zczMzMzM9D8AAAAAAAD4P5qZmZmZmfk/zczMzMzM/D/NzMzMzMz8P83MzMzMzABAzczMzMzMAEBmZmZmZmYCQJqZmZmZmQlAmpmZmZmZFUA="
         },
         "textposition": "inside",
         "x": {
          "dtype": "f8",
          "bdata": "/Knx0k1i9D8IrBxaZDv3P0OLbOf7qfk/okW28/3U/D+gGi/dJAb9P8/3U+OlmwBA9P3UeOkmAUB/arx0kxgCQBbZzvdT4wlAGy/dJAaBFUA="
         },
         "xaxis": "x",
         "y": [
          "Business/Systems Analysts",
          "Retail Assistants",
          "Chefs/Cooks",
          "Automotive Trades",
          "Warehousing, Storage & Distribution",
          "Sales Representatives/Consultants",
          "Developers/Programmers",
          "Administrative Assistants",
          "Management",
          "Other"
         ],
         "yaxis": "y",
         "type": "bar",
         "texttemplate": "%{text:.1f}%"
        }
       ],
       "layout": {
        "template": {
         "data": {
          "histogram2dcontour": [
           {
            "type": "histogram2dcontour",
            "colorbar": {
             "outlinewidth": 0,
             "ticks": ""
            },
            "colorscale": [
             [
              0.0,
              "#0d0887"
             ],
             [
              0.1111111111111111,
              "#46039f"
             ],
             [
              0.2222222222222222,
              "#7201a8"
             ],
             [
              0.3333333333333333,
              "#9c179e"
             ],
             [
              0.4444444444444444,
              "#bd3786"
             ],
             [
              0.5555555555555556,
              "#d8576b"
             ],
             [
              0.6666666666666666,
              "#ed7953"
             ],
             [
              0.7777777777777778,
              "#fb9f3a"
             ],
             [
              0.8888888888888888,
              "#fdca26"
             ],
             [
              1.0,
              "#f0f921"
             ]
            ]
           }
          ],
          "choropleth": [
           {
            "type": "choropleth",
            "colorbar": {
             "outlinewidth": 0,
             "ticks": ""
            }
           }
          ],
          "histogram2d": [
           {
            "type": "histogram2d",
            "colorbar": {
             "outlinewidth": 0,
             "ticks": ""
            },
            "colorscale": [
             [
              0.0,
              "#0d0887"
             ],
             [
              0.1111111111111111,
              "#46039f"
             ],
             [
              0.2222222222222222,
              "#7201a8"
             ],
             [
              0.3333333333333333,
              "#9c179e"
             ],
             [
              0.4444444444444444,
              "#bd3786"
             ],
             [
              0.5555555555555556,
              "#d8576b"
             ],
             [
              0.6666666666666666,
              "#ed7953"
             ],
             [
              0.7777777777777778,
              "#fb9f3a"
             ],
             [
              0.8888888888888888,
              "#fdca26"
             ],
             [
              1.0,
              "#f0f921"
             ]
            ]
           }
          ],
          "heatmap": [
           {
            "type": "heatmap",
            "colorbar": {
             "outlinewidth": 0,
             "ticks": ""
            },
            "colorscale": [
             [
              0.0,
              "#0d0887"
             ],
             [
              0.1111111111111111,
              "#46039f"
             ],
             [
              0.2222222222222222,
              "#7201a8"
             ],
             [
              0.3333333333333333,
              "#9c179e"
             ],
             [
              0.4444444444444444,
              "#bd3786"
             ],
             [
              0.5555555555555556,
              "#d8576b"
             ],
             [
              0.6666666666666666,
              "#ed7953"
             ],
             [
              0.7777777777777778,
              "#fb9f3a"
             ],
             [
              0.8888888888888888,
              "#fdca26"
             ],
             [
              1.0,
              "#f0f921"
             ]
            ]
           }
          ],
          "contourcarpet": [
           {
            "type": "contourcarpet",
            "colorbar": {
             "outlinewidth": 0,
             "ticks": ""
            }
           }
          ],
          "contour": [
           {
            "type": "contour",
            "colorbar": {
             "outlinewidth": 0,
             "ticks": ""
            },
            "colorscale": [
             [
              0.0,
              "#0d0887"
             ],
             [
              0.1111111111111111,
              "#46039f"
             ],
             [
              0.2222222222222222,
              "#7201a8"
             ],
             [
              0.3333333333333333,
              "#9c179e"
             ],
             [
              0.4444444444444444,
              "#bd3786"
             ],
             [
              0.5555555555555556,
              "#d8576b"
             ],
             [
              0.6666666666666666,
              "#ed7953"
             ],
             [
              0.7777777777777778,
              "#fb9f3a"
             ],
             [
              0.8888888888888888,
              "#fdca26"
             ],
             [
              1.0,
              "#f0f921"
             ]
            ]
           }
          ],
          "surface": [
           {
            "type": "surface",
            "colorbar": {
             "outlinewidth": 0,
             "ticks": ""
            },
            "colorscale": [
             [
              0.0,
              "#0d0887"
             ],
             [
              0.1111111111111111,
              "#46039f"
             ],
             [
              0.2222222222222222,
              "#7201a8"
             ],
             [
              0.3333333333333333,
              "#9c179e"
             ],
             [
              0.4444444444444444,
              "#bd3786"
             ],
             [
              0.5555555555555556,
              "#d8576b"
             ],
             [
              0.6666666666666666,
              "#ed7953"
             ],
             [
              0.7777777777777778,
              "#fb9f3a"
             ],
             [
              0.8888888888888888,
              "#fdca26"
             ],
             [
              1.0,
              "#f0f921"
             ]
            ]
           }
          ],
          "mesh3d": [
           {
            "type": "mesh3d",
            "colorbar": {
             "outlinewidth": 0,
             "ticks": ""
            }
           }
          ],
          "scatter": [
           {
            "marker": {
             "line": {
              "color": "#283442"
             }
            },
            "type": "scatter"
           }
          ],
          "parcoords": [
           {
            "type": "parcoords",
            "line": {
             "colorbar": {
              "outlinewidth": 0,
              "ticks": ""
             }
            }
           }
          ],
          "scatterpolargl": [
           {
            "type": "scatterpolargl",
            "marker": {
             "colorbar": {
              "outlinewidth": 0,
              "ticks": ""
             }
            }
           }
          ],
          "bar": [
           {
            "error_x": {
             "color": "#f2f5fa"
            },
            "error_y": {
             "color": "#f2f5fa"
            },
            "marker": {
             "line": {
              "color": "rgb(17,17,17)",
              "width": 0.5
             },
             "pattern": {
              "fillmode": "overlay",
              "size": 10,
              "solidity": 0.2
             }
            },
            "type": "bar"
           }
          ],
          "scattergeo": [
           {
            "type": "scattergeo",
            "marker": {
             "colorbar": {
              "outlinewidth": 0,
              "ticks": ""
             }
            }
           }
          ],
          "scatterpolar": [
           {
            "type": "scatterpolar",
            "marker": {
             "colorbar": {
              "outlinewidth": 0,
              "ticks": ""
             }
            }
           }
          ],
          "histogram": [
           {
            "marker": {
             "pattern": {
              "fillmode": "overlay",
              "size": 10,
              "solidity": 0.2
             }
            },
            "type": "histogram"
           }
          ],
          "scattergl": [
           {
            "marker": {
             "line": {
              "color": "#283442"
             }
            },
            "type": "scattergl"
           }
          ],
          "scatter3d": [
           {
            "type": "scatter3d",
            "line": {
             "colorbar": {
              "outlinewidth": 0,
              "ticks": ""
             }
            },
            "marker": {
             "colorbar": {
              "outlinewidth": 0,
              "ticks": ""
             }
            }
           }
          ],
          "scattermap": [
           {
            "type": "scattermap",
            "marker": {
             "colorbar": {
              "outlinewidth": 0,
              "ticks": ""
             }
            }
           }
          ],
          "scattermapbox": [
           {
            "type": "scattermapbox",
            "marker": {
             "colorbar": {
              "outlinewidth": 0,
              "ticks": ""
             }
            }
           }
          ],
          "scatterternary": [
           {
            "type": "scatterternary",
            "marker": {
             "colorbar": {
              "outlinewidth": 0,
              "ticks": ""
             }
            }
           }
          ],
          "scattercarpet": [
           {
            "type": "scattercarpet",
            "marker": {
             "colorbar": {
              "outlinewidth": 0,
              "ticks": ""
             }
            }
           }
          ],
          "carpet": [
           {
            "aaxis": {
             "endlinecolor": "#A2B1C6",
             "gridcolor": "#506784",
             "linecolor": "#506784",
             "minorgridcolor": "#506784",
             "startlinecolor": "#A2B1C6"
            },
            "baxis": {
             "endlinecolor": "#A2B1C6",
             "gridcolor": "#506784",
             "linecolor": "#506784",
             "minorgridcolor": "#506784",
             "startlinecolor": "#A2B1C6"
            },
            "type": "carpet"
           }
          ],
          "table": [
           {
            "cells": {
             "fill": {
              "color": "#506784"
             },
             "line": {
              "color": "rgb(17,17,17)"
             }
            },
            "header": {
             "fill": {
              "color": "#2a3f5f"
             },
             "line": {
              "color": "rgb(17,17,17)"
             }
            },
            "type": "table"
           }
          ],
          "barpolar": [
           {
            "marker": {
             "line": {
              "color": "rgb(17,17,17)",
              "width": 0.5
             },
             "pattern": {
              "fillmode": "overlay",
              "size": 10,
              "solidity": 0.2
             }
            },
            "type": "barpolar"
           }
          ],
          "pie": [
           {
            "automargin": true,
            "type": "pie"
           }
          ]
         },
         "layout": {
          "autotypenumbers": "strict",
          "colorway": [
           "#636efa",
           "#EF553B",
           "#00cc96",
           "#ab63fa",
           "#FFA15A",
           "#19d3f3",
           "#FF6692",
           "#B6E880",
           "#FF97FF",
           "#FECB52"
          ],
          "font": {
           "color": "#f2f5fa"
          },
          "hovermode": "closest",
          "hoverlabel": {
           "align": "left"
          },
          "paper_bgcolor": "rgb(17,17,17)",
          "plot_bgcolor": "rgb(17,17,17)",
          "polar": {
           "bgcolor": "rgb(17,17,17)",
           "angularaxis": {
            "gridcolor": "#506784",
            "linecolor": "#506784",
            "ticks": ""
           },
           "radialaxis": {
            "gridcolor": "#506784",
            "linecolor": "#506784",
            "ticks": ""
           }
          },
          "ternary": {
           "bgcolor": "rgb(17,17,17)",
           "aaxis": {
            "gridcolor": "#506784",
            "linecolor": "#506784",
            "ticks": ""
           },
           "baxis": {
            "gridcolor": "#506784",
            "linecolor": "#506784",
            "ticks": ""
           },
           "caxis": {
            "gridcolor": "#506784",
            "linecolor": "#506784",
            "ticks": ""
           }
          },
          "coloraxis": {
           "colorbar": {
            "outlinewidth": 0,
            "ticks": ""
           }
          },
          "colorscale": {
           "sequential": [
            [
             0.0,
             "#0d0887"
            ],
            [
             0.1111111111111111,
             "#46039f"
            ],
            [
             0.2222222222222222,
             "#7201a8"
            ],
            [
             0.3333333333333333,
             "#9c179e"
            ],
            [
             0.4444444444444444,
             "#bd3786"
            ],
            [
             0.5555555555555556,
             "#d8576b"
            ],
            [
             0.6666666666666666,
             "#ed7953"
            ],
            [
             0.7777777777777778,
             "#fb9f3a"
            ],
            [
             0.8888888888888888,
             "#fdca26"
            ],
            [
             1.0,
             "#f0f921"
            ]
           ],
           "sequentialminus": [
            [
             0.0,
             "#0d0887"
            ],
            [
             0.1111111111111111,
             "#46039f"
            ],
            [
             0.2222222222222222,
             "#7201a8"
            ],
            [
             0.3333333333333333,
             "#9c179e"
            ],
            [
             0.4444444444444444,
             "#bd3786"
            ],
            [
             0.5555555555555556,
             "#d8576b"
            ],
            [
             0.6666666666666666,
             "#ed7953"
            ],
            [
             0.7777777777777778,
             "#fb9f3a"
            ],
            [
             0.8888888888888888,
             "#fdca26"
            ],
            [
             1.0,
             "#f0f921"
            ]
           ],
           "diverging": [
            [
             0,
             "#8e0152"
            ],
            [
             0.1,
             "#c51b7d"
            ],
            [
             0.2,
             "#de77ae"
            ],
            [
             0.3,
             "#f1b6da"
            ],
            [
             0.4,
             "#fde0ef"
            ],
            [
             0.5,
             "#f7f7f7"
            ],
            [
             0.6,
             "#e6f5d0"
            ],
            [
             0.7,
             "#b8e186"
            ],
            [
             0.8,
             "#7fbc41"
            ],
            [
             0.9,
             "#4d9221"
            ],
            [
             1,
             "#276419"
            ]
           ]
          },
          "xaxis": {
           "gridcolor": "#283442",
           "linecolor": "#506784",
           "ticks": "",
           "title": {
            "standoff": 15
           },
           "zerolinecolor": "#283442",
           "automargin": true,
           "zerolinewidth": 2
          },
          "yaxis": {
           "gridcolor": "#283442",
           "linecolor": "#506784",
           "ticks": "",
           "title": {
            "standoff": 15
           },
           "zerolinecolor": "#283442",
           "automargin": true,
           "zerolinewidth": 2
          },
          "scene": {
           "xaxis": {
            "backgroundcolor": "rgb(17,17,17)",
            "gridcolor": "#506784",
            "linecolor": "#506784",
            "showbackground": true,
            "ticks": "",
            "zerolinecolor": "#C8D4E3",
            "gridwidth": 2
           },
           "yaxis": {
            "backgroundcolor": "rgb(17,17,17)",
            "gridcolor": "#506784",
            "linecolor": "#506784",
            "showbackground": true,
            "ticks": "",
            "zerolinecolor": "#C8D4E3",
            "gridwidth": 2
           },
           "zaxis": {
            "backgroundcolor": "rgb(17,17,17)",
            "gridcolor": "#506784",
            "linecolor": "#506784",
            "showbackground": true,
            "ticks": "",
            "zerolinecolor": "#C8D4E3",
            "gridwidth": 2
           }
          },
          "shapedefaults": {
           "line": {
            "color": "#f2f5fa"
           }
          },
          "annotationdefaults": {
           "arrowcolor": "#f2f5fa",
           "arrowhead": 0,
           "arrowwidth": 1
          },
          "geo": {
           "bgcolor": "rgb(17,17,17)",
           "landcolor": "rgb(17,17,17)",
           "subunitcolor": "#506784",
           "showland": true,
           "showlakes": true,
           "lakecolor": "rgb(17,17,17)"
          },
          "title": {
           "x": 0.05
          },
          "updatemenudefaults": {
           "bgcolor": "#506784",
           "borderwidth": 0
          },
          "sliderdefaults": {
           "bgcolor": "#C8D4E3",
           "borderwidth": 1,
           "bordercolor": "rgb(17,17,17)",
           "tickwidth": 0
          },
          "mapbox": {
           "style": "dark"
          }
         }
        },
        "xaxis": {
         "anchor": "y",
         "domain": [
          0.0,
          1.0
         ],
         "title": {
          "text": "Percentage"
         }
        },
        "yaxis": {
         "anchor": "x",
         "domain": [
          0.0,
          1.0
         ],
         "title": {}
        },
        "legend": {
         "tracegroupgap": 0
        },
        "title": {
         "text": "Distribution of metadata.subClassification.name (%)"
        },
        "barmode": "relative"
       },
       "config": {
        "plotlyServerURL": "https://plot.ly"
       }
      }
     },
     "metadata": {},
     "output_type": "display_data"
    },
    {
     "data": {
      "application/vnd.plotly.v1+json": {
       "data": [
        {
         "hovertemplate": "Percentage=%{x}<br>metadata.location.name=%{y}<br>text=%{text}<extra></extra>",
         "legendgroup": "",
         "marker": {
          "color": "#636efa",
          "pattern": {
           "shape": ""
          }
         },
         "name": "",
         "orientation": "h",
         "showlegend": false,
         "text": {
          "dtype": "f8",
          "bdata": "ZmZmZmZm9j/NzMzMzMz8P2ZmZmZmZgJAZmZmZmZmBkAzMzMzMzMHQJqZmZmZmRdAmpmZmZmZG0AzMzMzMzMhQM3MzMzMTDVAZmZmZmZmOkA="
         },
         "textposition": "inside",
         "x": {
          "dtype": "f8",
          "bdata": "YOXQItv59j8nMQisHFr8PxBYObTIdgJA6iYxCKwcBkCLbOf7qfEGQMUgsHJokRdABoGVQ4tsG0CXbhKDwEohQIcW2c73UzVArkfhehRuOkA="
         },
         "xaxis": "x",
         "y": [
          "Canterbury",
          "Newcastle, Maitland & Hunter",
          "Wellington",
          "ACT",
          "Adelaide",
          "Perth",
          "Auckland",
          "Brisbane",
          "Melbourne",
          "Sydney"
         ],
         "yaxis": "y",
         "type": "bar",
         "texttemplate": "%{text:.1f}%"
        }
       ],
       "layout": {
        "template": {
         "data": {
          "histogram2dcontour": [
           {
            "type": "histogram2dcontour",
            "colorbar": {
             "outlinewidth": 0,
             "ticks": ""
            },
            "colorscale": [
             [
              0.0,
              "#0d0887"
             ],
             [
              0.1111111111111111,
              "#46039f"
             ],
             [
              0.2222222222222222,
              "#7201a8"
             ],
             [
              0.3333333333333333,
              "#9c179e"
             ],
             [
              0.4444444444444444,
              "#bd3786"
             ],
             [
              0.5555555555555556,
              "#d8576b"
             ],
             [
              0.6666666666666666,
              "#ed7953"
             ],
             [
              0.7777777777777778,
              "#fb9f3a"
             ],
             [
              0.8888888888888888,
              "#fdca26"
             ],
             [
              1.0,
              "#f0f921"
             ]
            ]
           }
          ],
          "choropleth": [
           {
            "type": "choropleth",
            "colorbar": {
             "outlinewidth": 0,
             "ticks": ""
            }
           }
          ],
          "histogram2d": [
           {
            "type": "histogram2d",
            "colorbar": {
             "outlinewidth": 0,
             "ticks": ""
            },
            "colorscale": [
             [
              0.0,
              "#0d0887"
             ],
             [
              0.1111111111111111,
              "#46039f"
             ],
             [
              0.2222222222222222,
              "#7201a8"
             ],
             [
              0.3333333333333333,
              "#9c179e"
             ],
             [
              0.4444444444444444,
              "#bd3786"
             ],
             [
              0.5555555555555556,
              "#d8576b"
             ],
             [
              0.6666666666666666,
              "#ed7953"
             ],
             [
              0.7777777777777778,
              "#fb9f3a"
             ],
             [
              0.8888888888888888,
              "#fdca26"
             ],
             [
              1.0,
              "#f0f921"
             ]
            ]
           }
          ],
          "heatmap": [
           {
            "type": "heatmap",
            "colorbar": {
             "outlinewidth": 0,
             "ticks": ""
            },
            "colorscale": [
             [
              0.0,
              "#0d0887"
             ],
             [
              0.1111111111111111,
              "#46039f"
             ],
             [
              0.2222222222222222,
              "#7201a8"
             ],
             [
              0.3333333333333333,
              "#9c179e"
             ],
             [
              0.4444444444444444,
              "#bd3786"
             ],
             [
              0.5555555555555556,
              "#d8576b"
             ],
             [
              0.6666666666666666,
              "#ed7953"
             ],
             [
              0.7777777777777778,
              "#fb9f3a"
             ],
             [
              0.8888888888888888,
              "#fdca26"
             ],
             [
              1.0,
              "#f0f921"
             ]
            ]
           }
          ],
          "contourcarpet": [
           {
            "type": "contourcarpet",
            "colorbar": {
             "outlinewidth": 0,
             "ticks": ""
            }
           }
          ],
          "contour": [
           {
            "type": "contour",
            "colorbar": {
             "outlinewidth": 0,
             "ticks": ""
            },
            "colorscale": [
             [
              0.0,
              "#0d0887"
             ],
             [
              0.1111111111111111,
              "#46039f"
             ],
             [
              0.2222222222222222,
              "#7201a8"
             ],
             [
              0.3333333333333333,
              "#9c179e"
             ],
             [
              0.4444444444444444,
              "#bd3786"
             ],
             [
              0.5555555555555556,
              "#d8576b"
             ],
             [
              0.6666666666666666,
              "#ed7953"
             ],
             [
              0.7777777777777778,
              "#fb9f3a"
             ],
             [
              0.8888888888888888,
              "#fdca26"
             ],
             [
              1.0,
              "#f0f921"
             ]
            ]
           }
          ],
          "surface": [
           {
            "type": "surface",
            "colorbar": {
             "outlinewidth": 0,
             "ticks": ""
            },
            "colorscale": [
             [
              0.0,
              "#0d0887"
             ],
             [
              0.1111111111111111,
              "#46039f"
             ],
             [
              0.2222222222222222,
              "#7201a8"
             ],
             [
              0.3333333333333333,
              "#9c179e"
             ],
             [
              0.4444444444444444,
              "#bd3786"
             ],
             [
              0.5555555555555556,
              "#d8576b"
             ],
             [
              0.6666666666666666,
              "#ed7953"
             ],
             [
              0.7777777777777778,
              "#fb9f3a"
             ],
             [
              0.8888888888888888,
              "#fdca26"
             ],
             [
              1.0,
              "#f0f921"
             ]
            ]
           }
          ],
          "mesh3d": [
           {
            "type": "mesh3d",
            "colorbar": {
             "outlinewidth": 0,
             "ticks": ""
            }
           }
          ],
          "scatter": [
           {
            "marker": {
             "line": {
              "color": "#283442"
             }
            },
            "type": "scatter"
           }
          ],
          "parcoords": [
           {
            "type": "parcoords",
            "line": {
             "colorbar": {
              "outlinewidth": 0,
              "ticks": ""
             }
            }
           }
          ],
          "scatterpolargl": [
           {
            "type": "scatterpolargl",
            "marker": {
             "colorbar": {
              "outlinewidth": 0,
              "ticks": ""
             }
            }
           }
          ],
          "bar": [
           {
            "error_x": {
             "color": "#f2f5fa"
            },
            "error_y": {
             "color": "#f2f5fa"
            },
            "marker": {
             "line": {
              "color": "rgb(17,17,17)",
              "width": 0.5
             },
             "pattern": {
              "fillmode": "overlay",
              "size": 10,
              "solidity": 0.2
             }
            },
            "type": "bar"
           }
          ],
          "scattergeo": [
           {
            "type": "scattergeo",
            "marker": {
             "colorbar": {
              "outlinewidth": 0,
              "ticks": ""
             }
            }
           }
          ],
          "scatterpolar": [
           {
            "type": "scatterpolar",
            "marker": {
             "colorbar": {
              "outlinewidth": 0,
              "ticks": ""
             }
            }
           }
          ],
          "histogram": [
           {
            "marker": {
             "pattern": {
              "fillmode": "overlay",
              "size": 10,
              "solidity": 0.2
             }
            },
            "type": "histogram"
           }
          ],
          "scattergl": [
           {
            "marker": {
             "line": {
              "color": "#283442"
             }
            },
            "type": "scattergl"
           }
          ],
          "scatter3d": [
           {
            "type": "scatter3d",
            "line": {
             "colorbar": {
              "outlinewidth": 0,
              "ticks": ""
             }
            },
            "marker": {
             "colorbar": {
              "outlinewidth": 0,
              "ticks": ""
             }
            }
           }
          ],
          "scattermap": [
           {
            "type": "scattermap",
            "marker": {
             "colorbar": {
              "outlinewidth": 0,
              "ticks": ""
             }
            }
           }
          ],
          "scattermapbox": [
           {
            "type": "scattermapbox",
            "marker": {
             "colorbar": {
              "outlinewidth": 0,
              "ticks": ""
             }
            }
           }
          ],
          "scatterternary": [
           {
            "type": "scatterternary",
            "marker": {
             "colorbar": {
              "outlinewidth": 0,
              "ticks": ""
             }
            }
           }
          ],
          "scattercarpet": [
           {
            "type": "scattercarpet",
            "marker": {
             "colorbar": {
              "outlinewidth": 0,
              "ticks": ""
             }
            }
           }
          ],
          "carpet": [
           {
            "aaxis": {
             "endlinecolor": "#A2B1C6",
             "gridcolor": "#506784",
             "linecolor": "#506784",
             "minorgridcolor": "#506784",
             "startlinecolor": "#A2B1C6"
            },
            "baxis": {
             "endlinecolor": "#A2B1C6",
             "gridcolor": "#506784",
             "linecolor": "#506784",
             "minorgridcolor": "#506784",
             "startlinecolor": "#A2B1C6"
            },
            "type": "carpet"
           }
          ],
          "table": [
           {
            "cells": {
             "fill": {
              "color": "#506784"
             },
             "line": {
              "color": "rgb(17,17,17)"
             }
            },
            "header": {
             "fill": {
              "color": "#2a3f5f"
             },
             "line": {
              "color": "rgb(17,17,17)"
             }
            },
            "type": "table"
           }
          ],
          "barpolar": [
           {
            "marker": {
             "line": {
              "color": "rgb(17,17,17)",
              "width": 0.5
             },
             "pattern": {
              "fillmode": "overlay",
              "size": 10,
              "solidity": 0.2
             }
            },
            "type": "barpolar"
           }
          ],
          "pie": [
           {
            "automargin": true,
            "type": "pie"
           }
          ]
         },
         "layout": {
          "autotypenumbers": "strict",
          "colorway": [
           "#636efa",
           "#EF553B",
           "#00cc96",
           "#ab63fa",
           "#FFA15A",
           "#19d3f3",
           "#FF6692",
           "#B6E880",
           "#FF97FF",
           "#FECB52"
          ],
          "font": {
           "color": "#f2f5fa"
          },
          "hovermode": "closest",
          "hoverlabel": {
           "align": "left"
          },
          "paper_bgcolor": "rgb(17,17,17)",
          "plot_bgcolor": "rgb(17,17,17)",
          "polar": {
           "bgcolor": "rgb(17,17,17)",
           "angularaxis": {
            "gridcolor": "#506784",
            "linecolor": "#506784",
            "ticks": ""
           },
           "radialaxis": {
            "gridcolor": "#506784",
            "linecolor": "#506784",
            "ticks": ""
           }
          },
          "ternary": {
           "bgcolor": "rgb(17,17,17)",
           "aaxis": {
            "gridcolor": "#506784",
            "linecolor": "#506784",
            "ticks": ""
           },
           "baxis": {
            "gridcolor": "#506784",
            "linecolor": "#506784",
            "ticks": ""
           },
           "caxis": {
            "gridcolor": "#506784",
            "linecolor": "#506784",
            "ticks": ""
           }
          },
          "coloraxis": {
           "colorbar": {
            "outlinewidth": 0,
            "ticks": ""
           }
          },
          "colorscale": {
           "sequential": [
            [
             0.0,
             "#0d0887"
            ],
            [
             0.1111111111111111,
             "#46039f"
            ],
            [
             0.2222222222222222,
             "#7201a8"
            ],
            [
             0.3333333333333333,
             "#9c179e"
            ],
            [
             0.4444444444444444,
             "#bd3786"
            ],
            [
             0.5555555555555556,
             "#d8576b"
            ],
            [
             0.6666666666666666,
             "#ed7953"
            ],
            [
             0.7777777777777778,
             "#fb9f3a"
            ],
            [
             0.8888888888888888,
             "#fdca26"
            ],
            [
             1.0,
             "#f0f921"
            ]
           ],
           "sequentialminus": [
            [
             0.0,
             "#0d0887"
            ],
            [
             0.1111111111111111,
             "#46039f"
            ],
            [
             0.2222222222222222,
             "#7201a8"
            ],
            [
             0.3333333333333333,
             "#9c179e"
            ],
            [
             0.4444444444444444,
             "#bd3786"
            ],
            [
             0.5555555555555556,
             "#d8576b"
            ],
            [
             0.6666666666666666,
             "#ed7953"
            ],
            [
             0.7777777777777778,
             "#fb9f3a"
            ],
            [
             0.8888888888888888,
             "#fdca26"
            ],
            [
             1.0,
             "#f0f921"
            ]
           ],
           "diverging": [
            [
             0,
             "#8e0152"
            ],
            [
             0.1,
             "#c51b7d"
            ],
            [
             0.2,
             "#de77ae"
            ],
            [
             0.3,
             "#f1b6da"
            ],
            [
             0.4,
             "#fde0ef"
            ],
            [
             0.5,
             "#f7f7f7"
            ],
            [
             0.6,
             "#e6f5d0"
            ],
            [
             0.7,
             "#b8e186"
            ],
            [
             0.8,
             "#7fbc41"
            ],
            [
             0.9,
             "#4d9221"
            ],
            [
             1,
             "#276419"
            ]
           ]
          },
          "xaxis": {
           "gridcolor": "#283442",
           "linecolor": "#506784",
           "ticks": "",
           "title": {
            "standoff": 15
           },
           "zerolinecolor": "#283442",
           "automargin": true,
           "zerolinewidth": 2
          },
          "yaxis": {
           "gridcolor": "#283442",
           "linecolor": "#506784",
           "ticks": "",
           "title": {
            "standoff": 15
           },
           "zerolinecolor": "#283442",
           "automargin": true,
           "zerolinewidth": 2
          },
          "scene": {
           "xaxis": {
            "backgroundcolor": "rgb(17,17,17)",
            "gridcolor": "#506784",
            "linecolor": "#506784",
            "showbackground": true,
            "ticks": "",
            "zerolinecolor": "#C8D4E3",
            "gridwidth": 2
           },
           "yaxis": {
            "backgroundcolor": "rgb(17,17,17)",
            "gridcolor": "#506784",
            "linecolor": "#506784",
            "showbackground": true,
            "ticks": "",
            "zerolinecolor": "#C8D4E3",
            "gridwidth": 2
           },
           "zaxis": {
            "backgroundcolor": "rgb(17,17,17)",
            "gridcolor": "#506784",
            "linecolor": "#506784",
            "showbackground": true,
            "ticks": "",
            "zerolinecolor": "#C8D4E3",
            "gridwidth": 2
           }
          },
          "shapedefaults": {
           "line": {
            "color": "#f2f5fa"
           }
          },
          "annotationdefaults": {
           "arrowcolor": "#f2f5fa",
           "arrowhead": 0,
           "arrowwidth": 1
          },
          "geo": {
           "bgcolor": "rgb(17,17,17)",
           "landcolor": "rgb(17,17,17)",
           "subunitcolor": "#506784",
           "showland": true,
           "showlakes": true,
           "lakecolor": "rgb(17,17,17)"
          },
          "title": {
           "x": 0.05
          },
          "updatemenudefaults": {
           "bgcolor": "#506784",
           "borderwidth": 0
          },
          "sliderdefaults": {
           "bgcolor": "#C8D4E3",
           "borderwidth": 1,
           "bordercolor": "rgb(17,17,17)",
           "tickwidth": 0
          },
          "mapbox": {
           "style": "dark"
          }
         }
        },
        "xaxis": {
         "anchor": "y",
         "domain": [
          0.0,
          1.0
         ],
         "title": {
          "text": "Percentage"
         }
        },
        "yaxis": {
         "anchor": "x",
         "domain": [
          0.0,
          1.0
         ],
         "title": {}
        },
        "legend": {
         "tracegroupgap": 0
        },
        "title": {
         "text": "Distribution of metadata.location.name (%)"
        },
        "barmode": "relative"
       },
       "config": {
        "plotlyServerURL": "https://plot.ly"
       }
      }
     },
     "metadata": {},
     "output_type": "display_data"
    },
    {
     "data": {
      "application/vnd.plotly.v1+json": {
       "data": [
        {
         "hovertemplate": "Percentage=%{x}<br>metadata.area.name=%{y}<br>text=%{text}<extra></extra>",
         "legendgroup": "",
         "marker": {
          "color": "#636efa",
          "pattern": {
           "shape": ""
          }
         },
         "name": "",
         "orientation": "h",
         "showlegend": false,
         "text": {
          "dtype": "f8",
          "bdata": "zczMzMzMCEDNzMzMzMwMQGZmZmZmZhBAMzMzMzMzEUCamZmZmZkRQGZmZmZmZhJAMzMzMzMzFUCamZmZmZkXQDMzMzMzMzNAmpmZmZmZNUA="
         },
         "textposition": "inside",
         "x": {
          "dtype": "f8",
          "bdata": "4zwFSF4QCUBEMLxkOxUNQOuCI98pWxBAE7ewNMIJEUA86z2KWrgRQH4QNX4QNRJA+FAZXHIkFUBvlh3pabkXQBP6CUBeKzNAb1PE3c2XNUA="
         },
         "xaxis": "x",
         "y": [
          "Western Suburbs",
          "CBD, Inner & Western Suburbs",
          "Northern Suburbs",
          "North Shore & Northern Beaches",
          "Eastern Suburbs",
          "Bayside & South Eastern Suburbs",
          "Auckland Central",
          "Parramatta & Western Suburbs",
          "CBD, Inner West & Eastern Suburbs",
          "CBD & Inner Suburbs"
         ],
         "yaxis": "y",
         "type": "bar",
         "texttemplate": "%{text:.1f}%"
        }
       ],
       "layout": {
        "template": {
         "data": {
          "histogram2dcontour": [
           {
            "type": "histogram2dcontour",
            "colorbar": {
             "outlinewidth": 0,
             "ticks": ""
            },
            "colorscale": [
             [
              0.0,
              "#0d0887"
             ],
             [
              0.1111111111111111,
              "#46039f"
             ],
             [
              0.2222222222222222,
              "#7201a8"
             ],
             [
              0.3333333333333333,
              "#9c179e"
             ],
             [
              0.4444444444444444,
              "#bd3786"
             ],
             [
              0.5555555555555556,
              "#d8576b"
             ],
             [
              0.6666666666666666,
              "#ed7953"
             ],
             [
              0.7777777777777778,
              "#fb9f3a"
             ],
             [
              0.8888888888888888,
              "#fdca26"
             ],
             [
              1.0,
              "#f0f921"
             ]
            ]
           }
          ],
          "choropleth": [
           {
            "type": "choropleth",
            "colorbar": {
             "outlinewidth": 0,
             "ticks": ""
            }
           }
          ],
          "histogram2d": [
           {
            "type": "histogram2d",
            "colorbar": {
             "outlinewidth": 0,
             "ticks": ""
            },
            "colorscale": [
             [
              0.0,
              "#0d0887"
             ],
             [
              0.1111111111111111,
              "#46039f"
             ],
             [
              0.2222222222222222,
              "#7201a8"
             ],
             [
              0.3333333333333333,
              "#9c179e"
             ],
             [
              0.4444444444444444,
              "#bd3786"
             ],
             [
              0.5555555555555556,
              "#d8576b"
             ],
             [
              0.6666666666666666,
              "#ed7953"
             ],
             [
              0.7777777777777778,
              "#fb9f3a"
             ],
             [
              0.8888888888888888,
              "#fdca26"
             ],
             [
              1.0,
              "#f0f921"
             ]
            ]
           }
          ],
          "heatmap": [
           {
            "type": "heatmap",
            "colorbar": {
             "outlinewidth": 0,
             "ticks": ""
            },
            "colorscale": [
             [
              0.0,
              "#0d0887"
             ],
             [
              0.1111111111111111,
              "#46039f"
             ],
             [
              0.2222222222222222,
              "#7201a8"
             ],
             [
              0.3333333333333333,
              "#9c179e"
             ],
             [
              0.4444444444444444,
              "#bd3786"
             ],
             [
              0.5555555555555556,
              "#d8576b"
             ],
             [
              0.6666666666666666,
              "#ed7953"
             ],
             [
              0.7777777777777778,
              "#fb9f3a"
             ],
             [
              0.8888888888888888,
              "#fdca26"
             ],
             [
              1.0,
              "#f0f921"
             ]
            ]
           }
          ],
          "contourcarpet": [
           {
            "type": "contourcarpet",
            "colorbar": {
             "outlinewidth": 0,
             "ticks": ""
            }
           }
          ],
          "contour": [
           {
            "type": "contour",
            "colorbar": {
             "outlinewidth": 0,
             "ticks": ""
            },
            "colorscale": [
             [
              0.0,
              "#0d0887"
             ],
             [
              0.1111111111111111,
              "#46039f"
             ],
             [
              0.2222222222222222,
              "#7201a8"
             ],
             [
              0.3333333333333333,
              "#9c179e"
             ],
             [
              0.4444444444444444,
              "#bd3786"
             ],
             [
              0.5555555555555556,
              "#d8576b"
             ],
             [
              0.6666666666666666,
              "#ed7953"
             ],
             [
              0.7777777777777778,
              "#fb9f3a"
             ],
             [
              0.8888888888888888,
              "#fdca26"
             ],
             [
              1.0,
              "#f0f921"
             ]
            ]
           }
          ],
          "surface": [
           {
            "type": "surface",
            "colorbar": {
             "outlinewidth": 0,
             "ticks": ""
            },
            "colorscale": [
             [
              0.0,
              "#0d0887"
             ],
             [
              0.1111111111111111,
              "#46039f"
             ],
             [
              0.2222222222222222,
              "#7201a8"
             ],
             [
              0.3333333333333333,
              "#9c179e"
             ],
             [
              0.4444444444444444,
              "#bd3786"
             ],
             [
              0.5555555555555556,
              "#d8576b"
             ],
             [
              0.6666666666666666,
              "#ed7953"
             ],
             [
              0.7777777777777778,
              "#fb9f3a"
             ],
             [
              0.8888888888888888,
              "#fdca26"
             ],
             [
              1.0,
              "#f0f921"
             ]
            ]
           }
          ],
          "mesh3d": [
           {
            "type": "mesh3d",
            "colorbar": {
             "outlinewidth": 0,
             "ticks": ""
            }
           }
          ],
          "scatter": [
           {
            "marker": {
             "line": {
              "color": "#283442"
             }
            },
            "type": "scatter"
           }
          ],
          "parcoords": [
           {
            "type": "parcoords",
            "line": {
             "colorbar": {
              "outlinewidth": 0,
              "ticks": ""
             }
            }
           }
          ],
          "scatterpolargl": [
           {
            "type": "scatterpolargl",
            "marker": {
             "colorbar": {
              "outlinewidth": 0,
              "ticks": ""
             }
            }
           }
          ],
          "bar": [
           {
            "error_x": {
             "color": "#f2f5fa"
            },
            "error_y": {
             "color": "#f2f5fa"
            },
            "marker": {
             "line": {
              "color": "rgb(17,17,17)",
              "width": 0.5
             },
             "pattern": {
              "fillmode": "overlay",
              "size": 10,
              "solidity": 0.2
             }
            },
            "type": "bar"
           }
          ],
          "scattergeo": [
           {
            "type": "scattergeo",
            "marker": {
             "colorbar": {
              "outlinewidth": 0,
              "ticks": ""
             }
            }
           }
          ],
          "scatterpolar": [
           {
            "type": "scatterpolar",
            "marker": {
             "colorbar": {
              "outlinewidth": 0,
              "ticks": ""
             }
            }
           }
          ],
          "histogram": [
           {
            "marker": {
             "pattern": {
              "fillmode": "overlay",
              "size": 10,
              "solidity": 0.2
             }
            },
            "type": "histogram"
           }
          ],
          "scattergl": [
           {
            "marker": {
             "line": {
              "color": "#283442"
             }
            },
            "type": "scattergl"
           }
          ],
          "scatter3d": [
           {
            "type": "scatter3d",
            "line": {
             "colorbar": {
              "outlinewidth": 0,
              "ticks": ""
             }
            },
            "marker": {
             "colorbar": {
              "outlinewidth": 0,
              "ticks": ""
             }
            }
           }
          ],
          "scattermap": [
           {
            "type": "scattermap",
            "marker": {
             "colorbar": {
              "outlinewidth": 0,
              "ticks": ""
             }
            }
           }
          ],
          "scattermapbox": [
           {
            "type": "scattermapbox",
            "marker": {
             "colorbar": {
              "outlinewidth": 0,
              "ticks": ""
             }
            }
           }
          ],
          "scatterternary": [
           {
            "type": "scatterternary",
            "marker": {
             "colorbar": {
              "outlinewidth": 0,
              "ticks": ""
             }
            }
           }
          ],
          "scattercarpet": [
           {
            "type": "scattercarpet",
            "marker": {
             "colorbar": {
              "outlinewidth": 0,
              "ticks": ""
             }
            }
           }
          ],
          "carpet": [
           {
            "aaxis": {
             "endlinecolor": "#A2B1C6",
             "gridcolor": "#506784",
             "linecolor": "#506784",
             "minorgridcolor": "#506784",
             "startlinecolor": "#A2B1C6"
            },
            "baxis": {
             "endlinecolor": "#A2B1C6",
             "gridcolor": "#506784",
             "linecolor": "#506784",
             "minorgridcolor": "#506784",
             "startlinecolor": "#A2B1C6"
            },
            "type": "carpet"
           }
          ],
          "table": [
           {
            "cells": {
             "fill": {
              "color": "#506784"
             },
             "line": {
              "color": "rgb(17,17,17)"
             }
            },
            "header": {
             "fill": {
              "color": "#2a3f5f"
             },
             "line": {
              "color": "rgb(17,17,17)"
             }
            },
            "type": "table"
           }
          ],
          "barpolar": [
           {
            "marker": {
             "line": {
              "color": "rgb(17,17,17)",
              "width": 0.5
             },
             "pattern": {
              "fillmode": "overlay",
              "size": 10,
              "solidity": 0.2
             }
            },
            "type": "barpolar"
           }
          ],
          "pie": [
           {
            "automargin": true,
            "type": "pie"
           }
          ]
         },
         "layout": {
          "autotypenumbers": "strict",
          "colorway": [
           "#636efa",
           "#EF553B",
           "#00cc96",
           "#ab63fa",
           "#FFA15A",
           "#19d3f3",
           "#FF6692",
           "#B6E880",
           "#FF97FF",
           "#FECB52"
          ],
          "font": {
           "color": "#f2f5fa"
          },
          "hovermode": "closest",
          "hoverlabel": {
           "align": "left"
          },
          "paper_bgcolor": "rgb(17,17,17)",
          "plot_bgcolor": "rgb(17,17,17)",
          "polar": {
           "bgcolor": "rgb(17,17,17)",
           "angularaxis": {
            "gridcolor": "#506784",
            "linecolor": "#506784",
            "ticks": ""
           },
           "radialaxis": {
            "gridcolor": "#506784",
            "linecolor": "#506784",
            "ticks": ""
           }
          },
          "ternary": {
           "bgcolor": "rgb(17,17,17)",
           "aaxis": {
            "gridcolor": "#506784",
            "linecolor": "#506784",
            "ticks": ""
           },
           "baxis": {
            "gridcolor": "#506784",
            "linecolor": "#506784",
            "ticks": ""
           },
           "caxis": {
            "gridcolor": "#506784",
            "linecolor": "#506784",
            "ticks": ""
           }
          },
          "coloraxis": {
           "colorbar": {
            "outlinewidth": 0,
            "ticks": ""
           }
          },
          "colorscale": {
           "sequential": [
            [
             0.0,
             "#0d0887"
            ],
            [
             0.1111111111111111,
             "#46039f"
            ],
            [
             0.2222222222222222,
             "#7201a8"
            ],
            [
             0.3333333333333333,
             "#9c179e"
            ],
            [
             0.4444444444444444,
             "#bd3786"
            ],
            [
             0.5555555555555556,
             "#d8576b"
            ],
            [
             0.6666666666666666,
             "#ed7953"
            ],
            [
             0.7777777777777778,
             "#fb9f3a"
            ],
            [
             0.8888888888888888,
             "#fdca26"
            ],
            [
             1.0,
             "#f0f921"
            ]
           ],
           "sequentialminus": [
            [
             0.0,
             "#0d0887"
            ],
            [
             0.1111111111111111,
             "#46039f"
            ],
            [
             0.2222222222222222,
             "#7201a8"
            ],
            [
             0.3333333333333333,
             "#9c179e"
            ],
            [
             0.4444444444444444,
             "#bd3786"
            ],
            [
             0.5555555555555556,
             "#d8576b"
            ],
            [
             0.6666666666666666,
             "#ed7953"
            ],
            [
             0.7777777777777778,
             "#fb9f3a"
            ],
            [
             0.8888888888888888,
             "#fdca26"
            ],
            [
             1.0,
             "#f0f921"
            ]
           ],
           "diverging": [
            [
             0,
             "#8e0152"
            ],
            [
             0.1,
             "#c51b7d"
            ],
            [
             0.2,
             "#de77ae"
            ],
            [
             0.3,
             "#f1b6da"
            ],
            [
             0.4,
             "#fde0ef"
            ],
            [
             0.5,
             "#f7f7f7"
            ],
            [
             0.6,
             "#e6f5d0"
            ],
            [
             0.7,
             "#b8e186"
            ],
            [
             0.8,
             "#7fbc41"
            ],
            [
             0.9,
             "#4d9221"
            ],
            [
             1,
             "#276419"
            ]
           ]
          },
          "xaxis": {
           "gridcolor": "#283442",
           "linecolor": "#506784",
           "ticks": "",
           "title": {
            "standoff": 15
           },
           "zerolinecolor": "#283442",
           "automargin": true,
           "zerolinewidth": 2
          },
          "yaxis": {
           "gridcolor": "#283442",
           "linecolor": "#506784",
           "ticks": "",
           "title": {
            "standoff": 15
           },
           "zerolinecolor": "#283442",
           "automargin": true,
           "zerolinewidth": 2
          },
          "scene": {
           "xaxis": {
            "backgroundcolor": "rgb(17,17,17)",
            "gridcolor": "#506784",
            "linecolor": "#506784",
            "showbackground": true,
            "ticks": "",
            "zerolinecolor": "#C8D4E3",
            "gridwidth": 2
           },
           "yaxis": {
            "backgroundcolor": "rgb(17,17,17)",
            "gridcolor": "#506784",
            "linecolor": "#506784",
            "showbackground": true,
            "ticks": "",
            "zerolinecolor": "#C8D4E3",
            "gridwidth": 2
           },
           "zaxis": {
            "backgroundcolor": "rgb(17,17,17)",
            "gridcolor": "#506784",
            "linecolor": "#506784",
            "showbackground": true,
            "ticks": "",
            "zerolinecolor": "#C8D4E3",
            "gridwidth": 2
           }
          },
          "shapedefaults": {
           "line": {
            "color": "#f2f5fa"
           }
          },
          "annotationdefaults": {
           "arrowcolor": "#f2f5fa",
           "arrowhead": 0,
           "arrowwidth": 1
          },
          "geo": {
           "bgcolor": "rgb(17,17,17)",
           "landcolor": "rgb(17,17,17)",
           "subunitcolor": "#506784",
           "showland": true,
           "showlakes": true,
           "lakecolor": "rgb(17,17,17)"
          },
          "title": {
           "x": 0.05
          },
          "updatemenudefaults": {
           "bgcolor": "#506784",
           "borderwidth": 0
          },
          "sliderdefaults": {
           "bgcolor": "#C8D4E3",
           "borderwidth": 1,
           "bordercolor": "rgb(17,17,17)",
           "tickwidth": 0
          },
          "mapbox": {
           "style": "dark"
          }
         }
        },
        "xaxis": {
         "anchor": "y",
         "domain": [
          0.0,
          1.0
         ],
         "title": {
          "text": "Percentage"
         }
        },
        "yaxis": {
         "anchor": "x",
         "domain": [
          0.0,
          1.0
         ],
         "title": {}
        },
        "legend": {
         "tracegroupgap": 0
        },
        "title": {
         "text": "Distribution of metadata.area.name (%)"
        },
        "barmode": "relative"
       },
       "config": {
        "plotlyServerURL": "https://plot.ly"
       }
      }
     },
     "metadata": {},
     "output_type": "display_data"
    },
    {
     "data": {
      "application/vnd.plotly.v1+json": {
       "data": [
        {
         "hovertemplate": "Percentage=%{x}<br>metadata.suburb.name=%{y}<br>text=%{text}<extra></extra>",
         "legendgroup": "",
         "marker": {
          "color": "#636efa",
          "pattern": {
           "shape": ""
          }
         },
         "name": "",
         "orientation": "h",
         "showlegend": false,
         "text": {
          "dtype": "f8",
          "bdata": "zczMzMzM7D+amZmZmZnxP83MzMzMzPQ/zczMzMzM9D8zMzMzMzP7P5qZmZmZmQVAzczMzMzMCEAAAAAAAAASQM3MzMzMzCRAAAAAAAAALUA="
         },
         "textposition": "inside",
         "x": {
          "dtype": "f8",
          "bdata": "uOZGzNEO7T+griThPejwP8M4svAplfQ/kModK8ST9T/SFWuBiwb7P4wJ9o+sNQVANDFscT+rCECN+ak0uiMSQNg0kRqA3iRAvCUFHKsKLUA="
         },
         "xaxis": "x",
         "y": [
          "Newcastle",
          "Parramatta",
          "Canberra",
          "Adelaide",
          "Wellington CBD",
          "Perth",
          "Auckland CBD",
          "Brisbane",
          "Melbourne",
          "Sydney"
         ],
         "yaxis": "y",
         "type": "bar",
         "texttemplate": "%{text:.1f}%"
        }
       ],
       "layout": {
        "template": {
         "data": {
          "histogram2dcontour": [
           {
            "type": "histogram2dcontour",
            "colorbar": {
             "outlinewidth": 0,
             "ticks": ""
            },
            "colorscale": [
             [
              0.0,
              "#0d0887"
             ],
             [
              0.1111111111111111,
              "#46039f"
             ],
             [
              0.2222222222222222,
              "#7201a8"
             ],
             [
              0.3333333333333333,
              "#9c179e"
             ],
             [
              0.4444444444444444,
              "#bd3786"
             ],
             [
              0.5555555555555556,
              "#d8576b"
             ],
             [
              0.6666666666666666,
              "#ed7953"
             ],
             [
              0.7777777777777778,
              "#fb9f3a"
             ],
             [
              0.8888888888888888,
              "#fdca26"
             ],
             [
              1.0,
              "#f0f921"
             ]
            ]
           }
          ],
          "choropleth": [
           {
            "type": "choropleth",
            "colorbar": {
             "outlinewidth": 0,
             "ticks": ""
            }
           }
          ],
          "histogram2d": [
           {
            "type": "histogram2d",
            "colorbar": {
             "outlinewidth": 0,
             "ticks": ""
            },
            "colorscale": [
             [
              0.0,
              "#0d0887"
             ],
             [
              0.1111111111111111,
              "#46039f"
             ],
             [
              0.2222222222222222,
              "#7201a8"
             ],
             [
              0.3333333333333333,
              "#9c179e"
             ],
             [
              0.4444444444444444,
              "#bd3786"
             ],
             [
              0.5555555555555556,
              "#d8576b"
             ],
             [
              0.6666666666666666,
              "#ed7953"
             ],
             [
              0.7777777777777778,
              "#fb9f3a"
             ],
             [
              0.8888888888888888,
              "#fdca26"
             ],
             [
              1.0,
              "#f0f921"
             ]
            ]
           }
          ],
          "heatmap": [
           {
            "type": "heatmap",
            "colorbar": {
             "outlinewidth": 0,
             "ticks": ""
            },
            "colorscale": [
             [
              0.0,
              "#0d0887"
             ],
             [
              0.1111111111111111,
              "#46039f"
             ],
             [
              0.2222222222222222,
              "#7201a8"
             ],
             [
              0.3333333333333333,
              "#9c179e"
             ],
             [
              0.4444444444444444,
              "#bd3786"
             ],
             [
              0.5555555555555556,
              "#d8576b"
             ],
             [
              0.6666666666666666,
              "#ed7953"
             ],
             [
              0.7777777777777778,
              "#fb9f3a"
             ],
             [
              0.8888888888888888,
              "#fdca26"
             ],
             [
              1.0,
              "#f0f921"
             ]
            ]
           }
          ],
          "contourcarpet": [
           {
            "type": "contourcarpet",
            "colorbar": {
             "outlinewidth": 0,
             "ticks": ""
            }
           }
          ],
          "contour": [
           {
            "type": "contour",
            "colorbar": {
             "outlinewidth": 0,
             "ticks": ""
            },
            "colorscale": [
             [
              0.0,
              "#0d0887"
             ],
             [
              0.1111111111111111,
              "#46039f"
             ],
             [
              0.2222222222222222,
              "#7201a8"
             ],
             [
              0.3333333333333333,
              "#9c179e"
             ],
             [
              0.4444444444444444,
              "#bd3786"
             ],
             [
              0.5555555555555556,
              "#d8576b"
             ],
             [
              0.6666666666666666,
              "#ed7953"
             ],
             [
              0.7777777777777778,
              "#fb9f3a"
             ],
             [
              0.8888888888888888,
              "#fdca26"
             ],
             [
              1.0,
              "#f0f921"
             ]
            ]
           }
          ],
          "surface": [
           {
            "type": "surface",
            "colorbar": {
             "outlinewidth": 0,
             "ticks": ""
            },
            "colorscale": [
             [
              0.0,
              "#0d0887"
             ],
             [
              0.1111111111111111,
              "#46039f"
             ],
             [
              0.2222222222222222,
              "#7201a8"
             ],
             [
              0.3333333333333333,
              "#9c179e"
             ],
             [
              0.4444444444444444,
              "#bd3786"
             ],
             [
              0.5555555555555556,
              "#d8576b"
             ],
             [
              0.6666666666666666,
              "#ed7953"
             ],
             [
              0.7777777777777778,
              "#fb9f3a"
             ],
             [
              0.8888888888888888,
              "#fdca26"
             ],
             [
              1.0,
              "#f0f921"
             ]
            ]
           }
          ],
          "mesh3d": [
           {
            "type": "mesh3d",
            "colorbar": {
             "outlinewidth": 0,
             "ticks": ""
            }
           }
          ],
          "scatter": [
           {
            "marker": {
             "line": {
              "color": "#283442"
             }
            },
            "type": "scatter"
           }
          ],
          "parcoords": [
           {
            "type": "parcoords",
            "line": {
             "colorbar": {
              "outlinewidth": 0,
              "ticks": ""
             }
            }
           }
          ],
          "scatterpolargl": [
           {
            "type": "scatterpolargl",
            "marker": {
             "colorbar": {
              "outlinewidth": 0,
              "ticks": ""
             }
            }
           }
          ],
          "bar": [
           {
            "error_x": {
             "color": "#f2f5fa"
            },
            "error_y": {
             "color": "#f2f5fa"
            },
            "marker": {
             "line": {
              "color": "rgb(17,17,17)",
              "width": 0.5
             },
             "pattern": {
              "fillmode": "overlay",
              "size": 10,
              "solidity": 0.2
             }
            },
            "type": "bar"
           }
          ],
          "scattergeo": [
           {
            "type": "scattergeo",
            "marker": {
             "colorbar": {
              "outlinewidth": 0,
              "ticks": ""
             }
            }
           }
          ],
          "scatterpolar": [
           {
            "type": "scatterpolar",
            "marker": {
             "colorbar": {
              "outlinewidth": 0,
              "ticks": ""
             }
            }
           }
          ],
          "histogram": [
           {
            "marker": {
             "pattern": {
              "fillmode": "overlay",
              "size": 10,
              "solidity": 0.2
             }
            },
            "type": "histogram"
           }
          ],
          "scattergl": [
           {
            "marker": {
             "line": {
              "color": "#283442"
             }
            },
            "type": "scattergl"
           }
          ],
          "scatter3d": [
           {
            "type": "scatter3d",
            "line": {
             "colorbar": {
              "outlinewidth": 0,
              "ticks": ""
             }
            },
            "marker": {
             "colorbar": {
              "outlinewidth": 0,
              "ticks": ""
             }
            }
           }
          ],
          "scattermap": [
           {
            "type": "scattermap",
            "marker": {
             "colorbar": {
              "outlinewidth": 0,
              "ticks": ""
             }
            }
           }
          ],
          "scattermapbox": [
           {
            "type": "scattermapbox",
            "marker": {
             "colorbar": {
              "outlinewidth": 0,
              "ticks": ""
             }
            }
           }
          ],
          "scatterternary": [
           {
            "type": "scatterternary",
            "marker": {
             "colorbar": {
              "outlinewidth": 0,
              "ticks": ""
             }
            }
           }
          ],
          "scattercarpet": [
           {
            "type": "scattercarpet",
            "marker": {
             "colorbar": {
              "outlinewidth": 0,
              "ticks": ""
             }
            }
           }
          ],
          "carpet": [
           {
            "aaxis": {
             "endlinecolor": "#A2B1C6",
             "gridcolor": "#506784",
             "linecolor": "#506784",
             "minorgridcolor": "#506784",
             "startlinecolor": "#A2B1C6"
            },
            "baxis": {
             "endlinecolor": "#A2B1C6",
             "gridcolor": "#506784",
             "linecolor": "#506784",
             "minorgridcolor": "#506784",
             "startlinecolor": "#A2B1C6"
            },
            "type": "carpet"
           }
          ],
          "table": [
           {
            "cells": {
             "fill": {
              "color": "#506784"
             },
             "line": {
              "color": "rgb(17,17,17)"
             }
            },
            "header": {
             "fill": {
              "color": "#2a3f5f"
             },
             "line": {
              "color": "rgb(17,17,17)"
             }
            },
            "type": "table"
           }
          ],
          "barpolar": [
           {
            "marker": {
             "line": {
              "color": "rgb(17,17,17)",
              "width": 0.5
             },
             "pattern": {
              "fillmode": "overlay",
              "size": 10,
              "solidity": 0.2
             }
            },
            "type": "barpolar"
           }
          ],
          "pie": [
           {
            "automargin": true,
            "type": "pie"
           }
          ]
         },
         "layout": {
          "autotypenumbers": "strict",
          "colorway": [
           "#636efa",
           "#EF553B",
           "#00cc96",
           "#ab63fa",
           "#FFA15A",
           "#19d3f3",
           "#FF6692",
           "#B6E880",
           "#FF97FF",
           "#FECB52"
          ],
          "font": {
           "color": "#f2f5fa"
          },
          "hovermode": "closest",
          "hoverlabel": {
           "align": "left"
          },
          "paper_bgcolor": "rgb(17,17,17)",
          "plot_bgcolor": "rgb(17,17,17)",
          "polar": {
           "bgcolor": "rgb(17,17,17)",
           "angularaxis": {
            "gridcolor": "#506784",
            "linecolor": "#506784",
            "ticks": ""
           },
           "radialaxis": {
            "gridcolor": "#506784",
            "linecolor": "#506784",
            "ticks": ""
           }
          },
          "ternary": {
           "bgcolor": "rgb(17,17,17)",
           "aaxis": {
            "gridcolor": "#506784",
            "linecolor": "#506784",
            "ticks": ""
           },
           "baxis": {
            "gridcolor": "#506784",
            "linecolor": "#506784",
            "ticks": ""
           },
           "caxis": {
            "gridcolor": "#506784",
            "linecolor": "#506784",
            "ticks": ""
           }
          },
          "coloraxis": {
           "colorbar": {
            "outlinewidth": 0,
            "ticks": ""
           }
          },
          "colorscale": {
           "sequential": [
            [
             0.0,
             "#0d0887"
            ],
            [
             0.1111111111111111,
             "#46039f"
            ],
            [
             0.2222222222222222,
             "#7201a8"
            ],
            [
             0.3333333333333333,
             "#9c179e"
            ],
            [
             0.4444444444444444,
             "#bd3786"
            ],
            [
             0.5555555555555556,
             "#d8576b"
            ],
            [
             0.6666666666666666,
             "#ed7953"
            ],
            [
             0.7777777777777778,
             "#fb9f3a"
            ],
            [
             0.8888888888888888,
             "#fdca26"
            ],
            [
             1.0,
             "#f0f921"
            ]
           ],
           "sequentialminus": [
            [
             0.0,
             "#0d0887"
            ],
            [
             0.1111111111111111,
             "#46039f"
            ],
            [
             0.2222222222222222,
             "#7201a8"
            ],
            [
             0.3333333333333333,
             "#9c179e"
            ],
            [
             0.4444444444444444,
             "#bd3786"
            ],
            [
             0.5555555555555556,
             "#d8576b"
            ],
            [
             0.6666666666666666,
             "#ed7953"
            ],
            [
             0.7777777777777778,
             "#fb9f3a"
            ],
            [
             0.8888888888888888,
             "#fdca26"
            ],
            [
             1.0,
             "#f0f921"
            ]
           ],
           "diverging": [
            [
             0,
             "#8e0152"
            ],
            [
             0.1,
             "#c51b7d"
            ],
            [
             0.2,
             "#de77ae"
            ],
            [
             0.3,
             "#f1b6da"
            ],
            [
             0.4,
             "#fde0ef"
            ],
            [
             0.5,
             "#f7f7f7"
            ],
            [
             0.6,
             "#e6f5d0"
            ],
            [
             0.7,
             "#b8e186"
            ],
            [
             0.8,
             "#7fbc41"
            ],
            [
             0.9,
             "#4d9221"
            ],
            [
             1,
             "#276419"
            ]
           ]
          },
          "xaxis": {
           "gridcolor": "#283442",
           "linecolor": "#506784",
           "ticks": "",
           "title": {
            "standoff": 15
           },
           "zerolinecolor": "#283442",
           "automargin": true,
           "zerolinewidth": 2
          },
          "yaxis": {
           "gridcolor": "#283442",
           "linecolor": "#506784",
           "ticks": "",
           "title": {
            "standoff": 15
           },
           "zerolinecolor": "#283442",
           "automargin": true,
           "zerolinewidth": 2
          },
          "scene": {
           "xaxis": {
            "backgroundcolor": "rgb(17,17,17)",
            "gridcolor": "#506784",
            "linecolor": "#506784",
            "showbackground": true,
            "ticks": "",
            "zerolinecolor": "#C8D4E3",
            "gridwidth": 2
           },
           "yaxis": {
            "backgroundcolor": "rgb(17,17,17)",
            "gridcolor": "#506784",
            "linecolor": "#506784",
            "showbackground": true,
            "ticks": "",
            "zerolinecolor": "#C8D4E3",
            "gridwidth": 2
           },
           "zaxis": {
            "backgroundcolor": "rgb(17,17,17)",
            "gridcolor": "#506784",
            "linecolor": "#506784",
            "showbackground": true,
            "ticks": "",
            "zerolinecolor": "#C8D4E3",
            "gridwidth": 2
           }
          },
          "shapedefaults": {
           "line": {
            "color": "#f2f5fa"
           }
          },
          "annotationdefaults": {
           "arrowcolor": "#f2f5fa",
           "arrowhead": 0,
           "arrowwidth": 1
          },
          "geo": {
           "bgcolor": "rgb(17,17,17)",
           "landcolor": "rgb(17,17,17)",
           "subunitcolor": "#506784",
           "showland": true,
           "showlakes": true,
           "lakecolor": "rgb(17,17,17)"
          },
          "title": {
           "x": 0.05
          },
          "updatemenudefaults": {
           "bgcolor": "#506784",
           "borderwidth": 0
          },
          "sliderdefaults": {
           "bgcolor": "#C8D4E3",
           "borderwidth": 1,
           "bordercolor": "rgb(17,17,17)",
           "tickwidth": 0
          },
          "mapbox": {
           "style": "dark"
          }
         }
        },
        "xaxis": {
         "anchor": "y",
         "domain": [
          0.0,
          1.0
         ],
         "title": {
          "text": "Percentage"
         }
        },
        "yaxis": {
         "anchor": "x",
         "domain": [
          0.0,
          1.0
         ],
         "title": {}
        },
        "legend": {
         "tracegroupgap": 0
        },
        "title": {
         "text": "Distribution of metadata.suburb.name (%)"
        },
        "barmode": "relative"
       },
       "config": {
        "plotlyServerURL": "https://plot.ly"
       }
      }
     },
     "metadata": {},
     "output_type": "display_data"
    },
    {
     "data": {
      "application/vnd.plotly.v1+json": {
       "data": [
        {
         "hovertemplate": "Percentage=%{x}<br>metadata.workType.name=%{y}<br>text=%{text}<extra></extra>",
         "legendgroup": "",
         "marker": {
          "color": "#636efa",
          "pattern": {
           "shape": ""
          }
         },
         "name": "",
         "orientation": "h",
         "showlegend": false,
         "text": {
          "dtype": "f8",
          "bdata": "ZmZmZmZmGkBmZmZmZmYaQJqZmZmZGTFAzczMzMxsUUA="
         },
         "textposition": "inside",
         "x": {
          "dtype": "f8",
          "bdata": "5/up8dJNGkBcj8L1KFwaQJHtfD81HjFA5/up8dJtUUA="
         },
         "xaxis": "x",
         "y": [
          "Part Time",
          "Casual/Vacation",
          "Contract/Temp",
          "Full Time"
         ],
         "yaxis": "y",
         "type": "bar",
         "texttemplate": "%{text:.1f}%"
        }
       ],
       "layout": {
        "template": {
         "data": {
          "histogram2dcontour": [
           {
            "type": "histogram2dcontour",
            "colorbar": {
             "outlinewidth": 0,
             "ticks": ""
            },
            "colorscale": [
             [
              0.0,
              "#0d0887"
             ],
             [
              0.1111111111111111,
              "#46039f"
             ],
             [
              0.2222222222222222,
              "#7201a8"
             ],
             [
              0.3333333333333333,
              "#9c179e"
             ],
             [
              0.4444444444444444,
              "#bd3786"
             ],
             [
              0.5555555555555556,
              "#d8576b"
             ],
             [
              0.6666666666666666,
              "#ed7953"
             ],
             [
              0.7777777777777778,
              "#fb9f3a"
             ],
             [
              0.8888888888888888,
              "#fdca26"
             ],
             [
              1.0,
              "#f0f921"
             ]
            ]
           }
          ],
          "choropleth": [
           {
            "type": "choropleth",
            "colorbar": {
             "outlinewidth": 0,
             "ticks": ""
            }
           }
          ],
          "histogram2d": [
           {
            "type": "histogram2d",
            "colorbar": {
             "outlinewidth": 0,
             "ticks": ""
            },
            "colorscale": [
             [
              0.0,
              "#0d0887"
             ],
             [
              0.1111111111111111,
              "#46039f"
             ],
             [
              0.2222222222222222,
              "#7201a8"
             ],
             [
              0.3333333333333333,
              "#9c179e"
             ],
             [
              0.4444444444444444,
              "#bd3786"
             ],
             [
              0.5555555555555556,
              "#d8576b"
             ],
             [
              0.6666666666666666,
              "#ed7953"
             ],
             [
              0.7777777777777778,
              "#fb9f3a"
             ],
             [
              0.8888888888888888,
              "#fdca26"
             ],
             [
              1.0,
              "#f0f921"
             ]
            ]
           }
          ],
          "heatmap": [
           {
            "type": "heatmap",
            "colorbar": {
             "outlinewidth": 0,
             "ticks": ""
            },
            "colorscale": [
             [
              0.0,
              "#0d0887"
             ],
             [
              0.1111111111111111,
              "#46039f"
             ],
             [
              0.2222222222222222,
              "#7201a8"
             ],
             [
              0.3333333333333333,
              "#9c179e"
             ],
             [
              0.4444444444444444,
              "#bd3786"
             ],
             [
              0.5555555555555556,
              "#d8576b"
             ],
             [
              0.6666666666666666,
              "#ed7953"
             ],
             [
              0.7777777777777778,
              "#fb9f3a"
             ],
             [
              0.8888888888888888,
              "#fdca26"
             ],
             [
              1.0,
              "#f0f921"
             ]
            ]
           }
          ],
          "contourcarpet": [
           {
            "type": "contourcarpet",
            "colorbar": {
             "outlinewidth": 0,
             "ticks": ""
            }
           }
          ],
          "contour": [
           {
            "type": "contour",
            "colorbar": {
             "outlinewidth": 0,
             "ticks": ""
            },
            "colorscale": [
             [
              0.0,
              "#0d0887"
             ],
             [
              0.1111111111111111,
              "#46039f"
             ],
             [
              0.2222222222222222,
              "#7201a8"
             ],
             [
              0.3333333333333333,
              "#9c179e"
             ],
             [
              0.4444444444444444,
              "#bd3786"
             ],
             [
              0.5555555555555556,
              "#d8576b"
             ],
             [
              0.6666666666666666,
              "#ed7953"
             ],
             [
              0.7777777777777778,
              "#fb9f3a"
             ],
             [
              0.8888888888888888,
              "#fdca26"
             ],
             [
              1.0,
              "#f0f921"
             ]
            ]
           }
          ],
          "surface": [
           {
            "type": "surface",
            "colorbar": {
             "outlinewidth": 0,
             "ticks": ""
            },
            "colorscale": [
             [
              0.0,
              "#0d0887"
             ],
             [
              0.1111111111111111,
              "#46039f"
             ],
             [
              0.2222222222222222,
              "#7201a8"
             ],
             [
              0.3333333333333333,
              "#9c179e"
             ],
             [
              0.4444444444444444,
              "#bd3786"
             ],
             [
              0.5555555555555556,
              "#d8576b"
             ],
             [
              0.6666666666666666,
              "#ed7953"
             ],
             [
              0.7777777777777778,
              "#fb9f3a"
             ],
             [
              0.8888888888888888,
              "#fdca26"
             ],
             [
              1.0,
              "#f0f921"
             ]
            ]
           }
          ],
          "mesh3d": [
           {
            "type": "mesh3d",
            "colorbar": {
             "outlinewidth": 0,
             "ticks": ""
            }
           }
          ],
          "scatter": [
           {
            "marker": {
             "line": {
              "color": "#283442"
             }
            },
            "type": "scatter"
           }
          ],
          "parcoords": [
           {
            "type": "parcoords",
            "line": {
             "colorbar": {
              "outlinewidth": 0,
              "ticks": ""
             }
            }
           }
          ],
          "scatterpolargl": [
           {
            "type": "scatterpolargl",
            "marker": {
             "colorbar": {
              "outlinewidth": 0,
              "ticks": ""
             }
            }
           }
          ],
          "bar": [
           {
            "error_x": {
             "color": "#f2f5fa"
            },
            "error_y": {
             "color": "#f2f5fa"
            },
            "marker": {
             "line": {
              "color": "rgb(17,17,17)",
              "width": 0.5
             },
             "pattern": {
              "fillmode": "overlay",
              "size": 10,
              "solidity": 0.2
             }
            },
            "type": "bar"
           }
          ],
          "scattergeo": [
           {
            "type": "scattergeo",
            "marker": {
             "colorbar": {
              "outlinewidth": 0,
              "ticks": ""
             }
            }
           }
          ],
          "scatterpolar": [
           {
            "type": "scatterpolar",
            "marker": {
             "colorbar": {
              "outlinewidth": 0,
              "ticks": ""
             }
            }
           }
          ],
          "histogram": [
           {
            "marker": {
             "pattern": {
              "fillmode": "overlay",
              "size": 10,
              "solidity": 0.2
             }
            },
            "type": "histogram"
           }
          ],
          "scattergl": [
           {
            "marker": {
             "line": {
              "color": "#283442"
             }
            },
            "type": "scattergl"
           }
          ],
          "scatter3d": [
           {
            "type": "scatter3d",
            "line": {
             "colorbar": {
              "outlinewidth": 0,
              "ticks": ""
             }
            },
            "marker": {
             "colorbar": {
              "outlinewidth": 0,
              "ticks": ""
             }
            }
           }
          ],
          "scattermap": [
           {
            "type": "scattermap",
            "marker": {
             "colorbar": {
              "outlinewidth": 0,
              "ticks": ""
             }
            }
           }
          ],
          "scattermapbox": [
           {
            "type": "scattermapbox",
            "marker": {
             "colorbar": {
              "outlinewidth": 0,
              "ticks": ""
             }
            }
           }
          ],
          "scatterternary": [
           {
            "type": "scatterternary",
            "marker": {
             "colorbar": {
              "outlinewidth": 0,
              "ticks": ""
             }
            }
           }
          ],
          "scattercarpet": [
           {
            "type": "scattercarpet",
            "marker": {
             "colorbar": {
              "outlinewidth": 0,
              "ticks": ""
             }
            }
           }
          ],
          "carpet": [
           {
            "aaxis": {
             "endlinecolor": "#A2B1C6",
             "gridcolor": "#506784",
             "linecolor": "#506784",
             "minorgridcolor": "#506784",
             "startlinecolor": "#A2B1C6"
            },
            "baxis": {
             "endlinecolor": "#A2B1C6",
             "gridcolor": "#506784",
             "linecolor": "#506784",
             "minorgridcolor": "#506784",
             "startlinecolor": "#A2B1C6"
            },
            "type": "carpet"
           }
          ],
          "table": [
           {
            "cells": {
             "fill": {
              "color": "#506784"
             },
             "line": {
              "color": "rgb(17,17,17)"
             }
            },
            "header": {
             "fill": {
              "color": "#2a3f5f"
             },
             "line": {
              "color": "rgb(17,17,17)"
             }
            },
            "type": "table"
           }
          ],
          "barpolar": [
           {
            "marker": {
             "line": {
              "color": "rgb(17,17,17)",
              "width": 0.5
             },
             "pattern": {
              "fillmode": "overlay",
              "size": 10,
              "solidity": 0.2
             }
            },
            "type": "barpolar"
           }
          ],
          "pie": [
           {
            "automargin": true,
            "type": "pie"
           }
          ]
         },
         "layout": {
          "autotypenumbers": "strict",
          "colorway": [
           "#636efa",
           "#EF553B",
           "#00cc96",
           "#ab63fa",
           "#FFA15A",
           "#19d3f3",
           "#FF6692",
           "#B6E880",
           "#FF97FF",
           "#FECB52"
          ],
          "font": {
           "color": "#f2f5fa"
          },
          "hovermode": "closest",
          "hoverlabel": {
           "align": "left"
          },
          "paper_bgcolor": "rgb(17,17,17)",
          "plot_bgcolor": "rgb(17,17,17)",
          "polar": {
           "bgcolor": "rgb(17,17,17)",
           "angularaxis": {
            "gridcolor": "#506784",
            "linecolor": "#506784",
            "ticks": ""
           },
           "radialaxis": {
            "gridcolor": "#506784",
            "linecolor": "#506784",
            "ticks": ""
           }
          },
          "ternary": {
           "bgcolor": "rgb(17,17,17)",
           "aaxis": {
            "gridcolor": "#506784",
            "linecolor": "#506784",
            "ticks": ""
           },
           "baxis": {
            "gridcolor": "#506784",
            "linecolor": "#506784",
            "ticks": ""
           },
           "caxis": {
            "gridcolor": "#506784",
            "linecolor": "#506784",
            "ticks": ""
           }
          },
          "coloraxis": {
           "colorbar": {
            "outlinewidth": 0,
            "ticks": ""
           }
          },
          "colorscale": {
           "sequential": [
            [
             0.0,
             "#0d0887"
            ],
            [
             0.1111111111111111,
             "#46039f"
            ],
            [
             0.2222222222222222,
             "#7201a8"
            ],
            [
             0.3333333333333333,
             "#9c179e"
            ],
            [
             0.4444444444444444,
             "#bd3786"
            ],
            [
             0.5555555555555556,
             "#d8576b"
            ],
            [
             0.6666666666666666,
             "#ed7953"
            ],
            [
             0.7777777777777778,
             "#fb9f3a"
            ],
            [
             0.8888888888888888,
             "#fdca26"
            ],
            [
             1.0,
             "#f0f921"
            ]
           ],
           "sequentialminus": [
            [
             0.0,
             "#0d0887"
            ],
            [
             0.1111111111111111,
             "#46039f"
            ],
            [
             0.2222222222222222,
             "#7201a8"
            ],
            [
             0.3333333333333333,
             "#9c179e"
            ],
            [
             0.4444444444444444,
             "#bd3786"
            ],
            [
             0.5555555555555556,
             "#d8576b"
            ],
            [
             0.6666666666666666,
             "#ed7953"
            ],
            [
             0.7777777777777778,
             "#fb9f3a"
            ],
            [
             0.8888888888888888,
             "#fdca26"
            ],
            [
             1.0,
             "#f0f921"
            ]
           ],
           "diverging": [
            [
             0,
             "#8e0152"
            ],
            [
             0.1,
             "#c51b7d"
            ],
            [
             0.2,
             "#de77ae"
            ],
            [
             0.3,
             "#f1b6da"
            ],
            [
             0.4,
             "#fde0ef"
            ],
            [
             0.5,
             "#f7f7f7"
            ],
            [
             0.6,
             "#e6f5d0"
            ],
            [
             0.7,
             "#b8e186"
            ],
            [
             0.8,
             "#7fbc41"
            ],
            [
             0.9,
             "#4d9221"
            ],
            [
             1,
             "#276419"
            ]
           ]
          },
          "xaxis": {
           "gridcolor": "#283442",
           "linecolor": "#506784",
           "ticks": "",
           "title": {
            "standoff": 15
           },
           "zerolinecolor": "#283442",
           "automargin": true,
           "zerolinewidth": 2
          },
          "yaxis": {
           "gridcolor": "#283442",
           "linecolor": "#506784",
           "ticks": "",
           "title": {
            "standoff": 15
           },
           "zerolinecolor": "#283442",
           "automargin": true,
           "zerolinewidth": 2
          },
          "scene": {
           "xaxis": {
            "backgroundcolor": "rgb(17,17,17)",
            "gridcolor": "#506784",
            "linecolor": "#506784",
            "showbackground": true,
            "ticks": "",
            "zerolinecolor": "#C8D4E3",
            "gridwidth": 2
           },
           "yaxis": {
            "backgroundcolor": "rgb(17,17,17)",
            "gridcolor": "#506784",
            "linecolor": "#506784",
            "showbackground": true,
            "ticks": "",
            "zerolinecolor": "#C8D4E3",
            "gridwidth": 2
           },
           "zaxis": {
            "backgroundcolor": "rgb(17,17,17)",
            "gridcolor": "#506784",
            "linecolor": "#506784",
            "showbackground": true,
            "ticks": "",
            "zerolinecolor": "#C8D4E3",
            "gridwidth": 2
           }
          },
          "shapedefaults": {
           "line": {
            "color": "#f2f5fa"
           }
          },
          "annotationdefaults": {
           "arrowcolor": "#f2f5fa",
           "arrowhead": 0,
           "arrowwidth": 1
          },
          "geo": {
           "bgcolor": "rgb(17,17,17)",
           "landcolor": "rgb(17,17,17)",
           "subunitcolor": "#506784",
           "showland": true,
           "showlakes": true,
           "lakecolor": "rgb(17,17,17)"
          },
          "title": {
           "x": 0.05
          },
          "updatemenudefaults": {
           "bgcolor": "#506784",
           "borderwidth": 0
          },
          "sliderdefaults": {
           "bgcolor": "#C8D4E3",
           "borderwidth": 1,
           "bordercolor": "rgb(17,17,17)",
           "tickwidth": 0
          },
          "mapbox": {
           "style": "dark"
          }
         }
        },
        "xaxis": {
         "anchor": "y",
         "domain": [
          0.0,
          1.0
         ],
         "title": {
          "text": "Percentage"
         }
        },
        "yaxis": {
         "anchor": "x",
         "domain": [
          0.0,
          1.0
         ],
         "title": {}
        },
        "legend": {
         "tracegroupgap": 0
        },
        "title": {
         "text": "Distribution of metadata.workType.name (%)"
        },
        "barmode": "relative"
       },
       "config": {
        "plotlyServerURL": "https://plot.ly"
       }
      }
     },
     "metadata": {},
     "output_type": "display_data"
    }
   ],
   "execution_count": 14
  },
  {
   "metadata": {
    "ExecuteTime": {
     "end_time": "2025-10-19T20:59:34.920796Z",
     "start_time": "2025-10-19T20:59:34.333608Z"
    }
   },
   "cell_type": "code",
   "source": [
    "# Plot word count distributions for text columns\n",
    "columns_to_plot_word_count = [\n",
    "    'abstract',\n",
    "    'cleaned_content'\n",
    "]\n",
    "\n",
    "# Plot word count distributions\n",
    "for col in columns_to_plot_word_count:\n",
    "    plot_word_count_distribution(job_df, col)"
   ],
   "id": "9c87df91ab442e54",
   "outputs": [
    {
     "data": {
      "application/vnd.plotly.v1+json": {
       "data": [
        {
         "bingroup": "x",
         "hovertemplate": "abstract=%{x}<br>count=%{y}<extra></extra>",
         "legendgroup": "",
         "marker": {
          "color": "#636efa",
          "pattern": {
           "shape": ""
          }
         },
         "name": "",
         "nbinsx": 20,
         "orientation": "v",
         "showlegend": false,
         "texttemplate": "%{value}",
         "x": {
          "dtype": "i1",
          "bdata": "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"
         },
         "xaxis": "x",
         "yaxis": "y",
         "type": "histogram"
        }
       ],
       "layout": {
        "template": {
         "data": {
          "histogram2dcontour": [
           {
            "type": "histogram2dcontour",
            "colorbar": {
             "outlinewidth": 0,
             "ticks": ""
            },
            "colorscale": [
             [
              0.0,
              "#0d0887"
             ],
             [
              0.1111111111111111,
              "#46039f"
             ],
             [
              0.2222222222222222,
              "#7201a8"
             ],
             [
              0.3333333333333333,
              "#9c179e"
             ],
             [
              0.4444444444444444,
              "#bd3786"
             ],
             [
              0.5555555555555556,
              "#d8576b"
             ],
             [
              0.6666666666666666,
              "#ed7953"
             ],
             [
              0.7777777777777778,
              "#fb9f3a"
             ],
             [
              0.8888888888888888,
              "#fdca26"
             ],
             [
              1.0,
              "#f0f921"
             ]
            ]
           }
          ],
          "choropleth": [
           {
            "type": "choropleth",
            "colorbar": {
             "outlinewidth": 0,
             "ticks": ""
            }
           }
          ],
          "histogram2d": [
           {
            "type": "histogram2d",
            "colorbar": {
             "outlinewidth": 0,
             "ticks": ""
            },
            "colorscale": [
             [
              0.0,
              "#0d0887"
             ],
             [
              0.1111111111111111,
              "#46039f"
             ],
             [
              0.2222222222222222,
              "#7201a8"
             ],
             [
              0.3333333333333333,
              "#9c179e"
             ],
             [
              0.4444444444444444,
              "#bd3786"
             ],
             [
              0.5555555555555556,
              "#d8576b"
             ],
             [
              0.6666666666666666,
              "#ed7953"
             ],
             [
              0.7777777777777778,
              "#fb9f3a"
             ],
             [
              0.8888888888888888,
              "#fdca26"
             ],
             [
              1.0,
              "#f0f921"
             ]
            ]
           }
          ],
          "heatmap": [
           {
            "type": "heatmap",
            "colorbar": {
             "outlinewidth": 0,
             "ticks": ""
            },
            "colorscale": [
             [
              0.0,
              "#0d0887"
             ],
             [
              0.1111111111111111,
              "#46039f"
             ],
             [
              0.2222222222222222,
              "#7201a8"
             ],
             [
              0.3333333333333333,
              "#9c179e"
             ],
             [
              0.4444444444444444,
              "#bd3786"
             ],
             [
              0.5555555555555556,
              "#d8576b"
             ],
             [
              0.6666666666666666,
              "#ed7953"
             ],
             [
              0.7777777777777778,
              "#fb9f3a"
             ],
             [
              0.8888888888888888,
              "#fdca26"
             ],
             [
              1.0,
              "#f0f921"
             ]
            ]
           }
          ],
          "contourcarpet": [
           {
            "type": "contourcarpet",
            "colorbar": {
             "outlinewidth": 0,
             "ticks": ""
            }
           }
          ],
          "contour": [
           {
            "type": "contour",
            "colorbar": {
             "outlinewidth": 0,
             "ticks": ""
            },
            "colorscale": [
             [
              0.0,
              "#0d0887"
             ],
             [
              0.1111111111111111,
              "#46039f"
             ],
             [
              0.2222222222222222,
              "#7201a8"
             ],
             [
              0.3333333333333333,
              "#9c179e"
             ],
             [
              0.4444444444444444,
              "#bd3786"
             ],
             [
              0.5555555555555556,
              "#d8576b"
             ],
             [
              0.6666666666666666,
              "#ed7953"
             ],
             [
              0.7777777777777778,
              "#fb9f3a"
             ],
             [
              0.8888888888888888,
              "#fdca26"
             ],
             [
              1.0,
              "#f0f921"
             ]
            ]
           }
          ],
          "surface": [
           {
            "type": "surface",
            "colorbar": {
             "outlinewidth": 0,
             "ticks": ""
            },
            "colorscale": [
             [
              0.0,
              "#0d0887"
             ],
             [
              0.1111111111111111,
              "#46039f"
             ],
             [
              0.2222222222222222,
              "#7201a8"
             ],
             [
              0.3333333333333333,
              "#9c179e"
             ],
             [
              0.4444444444444444,
              "#bd3786"
             ],
             [
              0.5555555555555556,
              "#d8576b"
             ],
             [
              0.6666666666666666,
              "#ed7953"
             ],
             [
              0.7777777777777778,
              "#fb9f3a"
             ],
             [
              0.8888888888888888,
              "#fdca26"
             ],
             [
              1.0,
              "#f0f921"
             ]
            ]
           }
          ],
          "mesh3d": [
           {
            "type": "mesh3d",
            "colorbar": {
             "outlinewidth": 0,
             "ticks": ""
            }
           }
          ],
          "scatter": [
           {
            "marker": {
             "line": {
              "color": "#283442"
             }
            },
            "type": "scatter"
           }
          ],
          "parcoords": [
           {
            "type": "parcoords",
            "line": {
             "colorbar": {
              "outlinewidth": 0,
              "ticks": ""
             }
            }
           }
          ],
          "scatterpolargl": [
           {
            "type": "scatterpolargl",
            "marker": {
             "colorbar": {
              "outlinewidth": 0,
              "ticks": ""
             }
            }
           }
          ],
          "bar": [
           {
            "error_x": {
             "color": "#f2f5fa"
            },
            "error_y": {
             "color": "#f2f5fa"
            },
            "marker": {
             "line": {
              "color": "rgb(17,17,17)",
              "width": 0.5
             },
             "pattern": {
              "fillmode": "overlay",
              "size": 10,
              "solidity": 0.2
             }
            },
            "type": "bar"
           }
          ],
          "scattergeo": [
           {
            "type": "scattergeo",
            "marker": {
             "colorbar": {
              "outlinewidth": 0,
              "ticks": ""
             }
            }
           }
          ],
          "scatterpolar": [
           {
            "type": "scatterpolar",
            "marker": {
             "colorbar": {
              "outlinewidth": 0,
              "ticks": ""
             }
            }
           }
          ],
          "histogram": [
           {
            "marker": {
             "pattern": {
              "fillmode": "overlay",
              "size": 10,
              "solidity": 0.2
             }
            },
            "type": "histogram"
           }
          ],
          "scattergl": [
           {
            "marker": {
             "line": {
              "color": "#283442"
             }
            },
            "type": "scattergl"
           }
          ],
          "scatter3d": [
           {
            "type": "scatter3d",
            "line": {
             "colorbar": {
              "outlinewidth": 0,
              "ticks": ""
             }
            },
            "marker": {
             "colorbar": {
              "outlinewidth": 0,
              "ticks": ""
             }
            }
           }
          ],
          "scattermap": [
           {
            "type": "scattermap",
            "marker": {
             "colorbar": {
              "outlinewidth": 0,
              "ticks": ""
             }
            }
           }
          ],
          "scattermapbox": [
           {
            "type": "scattermapbox",
            "marker": {
             "colorbar": {
              "outlinewidth": 0,
              "ticks": ""
             }
            }
           }
          ],
          "scatterternary": [
           {
            "type": "scatterternary",
            "marker": {
             "colorbar": {
              "outlinewidth": 0,
              "ticks": ""
             }
            }
           }
          ],
          "scattercarpet": [
           {
            "type": "scattercarpet",
            "marker": {
             "colorbar": {
              "outlinewidth": 0,
              "ticks": ""
             }
            }
           }
          ],
          "carpet": [
           {
            "aaxis": {
             "endlinecolor": "#A2B1C6",
             "gridcolor": "#506784",
             "linecolor": "#506784",
             "minorgridcolor": "#506784",
             "startlinecolor": "#A2B1C6"
            },
            "baxis": {
             "endlinecolor": "#A2B1C6",
             "gridcolor": "#506784",
             "linecolor": "#506784",
             "minorgridcolor": "#506784",
             "startlinecolor": "#A2B1C6"
            },
            "type": "carpet"
           }
          ],
          "table": [
           {
            "cells": {
             "fill": {
              "color": "#506784"
             },
             "line": {
              "color": "rgb(17,17,17)"
             }
            },
            "header": {
             "fill": {
              "color": "#2a3f5f"
             },
             "line": {
              "color": "rgb(17,17,17)"
             }
            },
            "type": "table"
           }
          ],
          "barpolar": [
           {
            "marker": {
             "line": {
              "color": "rgb(17,17,17)",
              "width": 0.5
             },
             "pattern": {
              "fillmode": "overlay",
              "size": 10,
              "solidity": 0.2
             }
            },
            "type": "barpolar"
           }
          ],
          "pie": [
           {
            "automargin": true,
            "type": "pie"
           }
          ]
         },
         "layout": {
          "autotypenumbers": "strict",
          "colorway": [
           "#636efa",
           "#EF553B",
           "#00cc96",
           "#ab63fa",
           "#FFA15A",
           "#19d3f3",
           "#FF6692",
           "#B6E880",
           "#FF97FF",
           "#FECB52"
          ],
          "font": {
           "color": "#f2f5fa"
          },
          "hovermode": "closest",
          "hoverlabel": {
           "align": "left"
          },
          "paper_bgcolor": "rgb(17,17,17)",
          "plot_bgcolor": "rgb(17,17,17)",
          "polar": {
           "bgcolor": "rgb(17,17,17)",
           "angularaxis": {
            "gridcolor": "#506784",
            "linecolor": "#506784",
            "ticks": ""
           },
           "radialaxis": {
            "gridcolor": "#506784",
            "linecolor": "#506784",
            "ticks": ""
           }
          },
          "ternary": {
           "bgcolor": "rgb(17,17,17)",
           "aaxis": {
            "gridcolor": "#506784",
            "linecolor": "#506784",
            "ticks": ""
           },
           "baxis": {
            "gridcolor": "#506784",
            "linecolor": "#506784",
            "ticks": ""
           },
           "caxis": {
            "gridcolor": "#506784",
            "linecolor": "#506784",
            "ticks": ""
           }
          },
          "coloraxis": {
           "colorbar": {
            "outlinewidth": 0,
            "ticks": ""
           }
          },
          "colorscale": {
           "sequential": [
            [
             0.0,
             "#0d0887"
            ],
            [
             0.1111111111111111,
             "#46039f"
            ],
            [
             0.2222222222222222,
             "#7201a8"
            ],
            [
             0.3333333333333333,
             "#9c179e"
            ],
            [
             0.4444444444444444,
             "#bd3786"
            ],
            [
             0.5555555555555556,
             "#d8576b"
            ],
            [
             0.6666666666666666,
             "#ed7953"
            ],
            [
             0.7777777777777778,
             "#fb9f3a"
            ],
            [
             0.8888888888888888,
             "#fdca26"
            ],
            [
             1.0,
             "#f0f921"
            ]
           ],
           "sequentialminus": [
            [
             0.0,
             "#0d0887"
            ],
            [
             0.1111111111111111,
             "#46039f"
            ],
            [
             0.2222222222222222,
             "#7201a8"
            ],
            [
             0.3333333333333333,
             "#9c179e"
            ],
            [
             0.4444444444444444,
             "#bd3786"
            ],
            [
             0.5555555555555556,
             "#d8576b"
            ],
            [
             0.6666666666666666,
             "#ed7953"
            ],
            [
             0.7777777777777778,
             "#fb9f3a"
            ],
            [
             0.8888888888888888,
             "#fdca26"
            ],
            [
             1.0,
             "#f0f921"
            ]
           ],
           "diverging": [
            [
             0,
             "#8e0152"
            ],
            [
             0.1,
             "#c51b7d"
            ],
            [
             0.2,
             "#de77ae"
            ],
            [
             0.3,
             "#f1b6da"
            ],
            [
             0.4,
             "#fde0ef"
            ],
            [
             0.5,
             "#f7f7f7"
            ],
            [
             0.6,
             "#e6f5d0"
            ],
            [
             0.7,
             "#b8e186"
            ],
            [
             0.8,
             "#7fbc41"
            ],
            [
             0.9,
             "#4d9221"
            ],
            [
             1,
             "#276419"
            ]
           ]
          },
          "xaxis": {
           "gridcolor": "#283442",
           "linecolor": "#506784",
           "ticks": "",
           "title": {
            "standoff": 15
           },
           "zerolinecolor": "#283442",
           "automargin": true,
           "zerolinewidth": 2
          },
          "yaxis": {
           "gridcolor": "#283442",
           "linecolor": "#506784",
           "ticks": "",
           "title": {
            "standoff": 15
           },
           "zerolinecolor": "#283442",
           "automargin": true,
           "zerolinewidth": 2
          },
          "scene": {
           "xaxis": {
            "backgroundcolor": "rgb(17,17,17)",
            "gridcolor": "#506784",
            "linecolor": "#506784",
            "showbackground": true,
            "ticks": "",
            "zerolinecolor": "#C8D4E3",
            "gridwidth": 2
           },
           "yaxis": {
            "backgroundcolor": "rgb(17,17,17)",
            "gridcolor": "#506784",
            "linecolor": "#506784",
            "showbackground": true,
            "ticks": "",
            "zerolinecolor": "#C8D4E3",
            "gridwidth": 2
           },
           "zaxis": {
            "backgroundcolor": "rgb(17,17,17)",
            "gridcolor": "#506784",
            "linecolor": "#506784",
            "showbackground": true,
            "ticks": "",
            "zerolinecolor": "#C8D4E3",
            "gridwidth": 2
           }
          },
          "shapedefaults": {
           "line": {
            "color": "#f2f5fa"
           }
          },
          "annotationdefaults": {
           "arrowcolor": "#f2f5fa",
           "arrowhead": 0,
           "arrowwidth": 1
          },
          "geo": {
           "bgcolor": "rgb(17,17,17)",
           "landcolor": "rgb(17,17,17)",
           "subunitcolor": "#506784",
           "showland": true,
           "showlakes": true,
           "lakecolor": "rgb(17,17,17)"
          },
          "title": {
           "x": 0.05
          },
          "updatemenudefaults": {
           "bgcolor": "#506784",
           "borderwidth": 0
          },
          "sliderdefaults": {
           "bgcolor": "#C8D4E3",
           "borderwidth": 1,
           "bordercolor": "rgb(17,17,17)",
           "tickwidth": 0
          },
          "mapbox": {
           "style": "dark"
          }
         }
        },
        "xaxis": {
         "anchor": "y",
         "domain": [
          0.0,
          1.0
         ],
         "title": {
          "text": "abstract"
         }
        },
        "yaxis": {
         "anchor": "x",
         "domain": [
          0.0,
          1.0
         ],
         "title": {
          "text": "count"
         }
        },
        "legend": {
         "tracegroupgap": 0
        },
        "title": {
         "text": "Distribution of Word Count in abstract"
        },
        "barmode": "relative",
        "shapes": [
         {
          "line": {
           "color": "red",
           "dash": "dash"
          },
          "type": "line",
          "x0": 17.89166,
          "x1": 17.89166,
          "xref": "x",
          "y0": 0,
          "y1": 1,
          "yref": "y domain"
         }
        ],
        "annotations": [
         {
          "showarrow": false,
          "text": "Mean: 17.9 words",
          "x": 17.89166,
          "xanchor": "left",
          "xref": "x",
          "y": 1,
          "yanchor": "top",
          "yref": "y domain"
         }
        ],
        "bargap": 0.1
       },
       "config": {
        "plotlyServerURL": "https://plot.ly"
       }
      }
     },
     "metadata": {},
     "output_type": "display_data"
    },
    {
     "data": {
      "application/vnd.plotly.v1+json": {
       "data": [
        {
         "bingroup": "x",
         "hovertemplate": "cleaned_content=%{x}<br>count=%{y}<extra></extra>",
         "legendgroup": "",
         "marker": {
          "color": "#636efa",
          "pattern": {
           "shape": ""
          }
         },
         "name": "",
         "nbinsx": 20,
         "orientation": "v",
         "showlegend": false,
         "texttemplate": "%{value}",
         "x": {
          "dtype": "i2",
          "bdata": "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"
         },
         "xaxis": "x",
         "yaxis": "y",
         "type": "histogram"
        }
       ],
       "layout": {
        "template": {
         "data": {
          "histogram2dcontour": [
           {
            "type": "histogram2dcontour",
            "colorbar": {
             "outlinewidth": 0,
             "ticks": ""
            },
            "colorscale": [
             [
              0.0,
              "#0d0887"
             ],
             [
              0.1111111111111111,
              "#46039f"
             ],
             [
              0.2222222222222222,
              "#7201a8"
             ],
             [
              0.3333333333333333,
              "#9c179e"
             ],
             [
              0.4444444444444444,
              "#bd3786"
             ],
             [
              0.5555555555555556,
              "#d8576b"
             ],
             [
              0.6666666666666666,
              "#ed7953"
             ],
             [
              0.7777777777777778,
              "#fb9f3a"
             ],
             [
              0.8888888888888888,
              "#fdca26"
             ],
             [
              1.0,
              "#f0f921"
             ]
            ]
           }
          ],
          "choropleth": [
           {
            "type": "choropleth",
            "colorbar": {
             "outlinewidth": 0,
             "ticks": ""
            }
           }
          ],
          "histogram2d": [
           {
            "type": "histogram2d",
            "colorbar": {
             "outlinewidth": 0,
             "ticks": ""
            },
            "colorscale": [
             [
              0.0,
              "#0d0887"
             ],
             [
              0.1111111111111111,
              "#46039f"
             ],
             [
              0.2222222222222222,
              "#7201a8"
             ],
             [
              0.3333333333333333,
              "#9c179e"
             ],
             [
              0.4444444444444444,
              "#bd3786"
             ],
             [
              0.5555555555555556,
              "#d8576b"
             ],
             [
              0.6666666666666666,
              "#ed7953"
             ],
             [
              0.7777777777777778,
              "#fb9f3a"
             ],
             [
              0.8888888888888888,
              "#fdca26"
             ],
             [
              1.0,
              "#f0f921"
             ]
            ]
           }
          ],
          "heatmap": [
           {
            "type": "heatmap",
            "colorbar": {
             "outlinewidth": 0,
             "ticks": ""
            },
            "colorscale": [
             [
              0.0,
              "#0d0887"
             ],
             [
              0.1111111111111111,
              "#46039f"
             ],
             [
              0.2222222222222222,
              "#7201a8"
             ],
             [
              0.3333333333333333,
              "#9c179e"
             ],
             [
              0.4444444444444444,
              "#bd3786"
             ],
             [
              0.5555555555555556,
              "#d8576b"
             ],
             [
              0.6666666666666666,
              "#ed7953"
             ],
             [
              0.7777777777777778,
              "#fb9f3a"
             ],
             [
              0.8888888888888888,
              "#fdca26"
             ],
             [
              1.0,
              "#f0f921"
             ]
            ]
           }
          ],
          "contourcarpet": [
           {
            "type": "contourcarpet",
            "colorbar": {
             "outlinewidth": 0,
             "ticks": ""
            }
           }
          ],
          "contour": [
           {
            "type": "contour",
            "colorbar": {
             "outlinewidth": 0,
             "ticks": ""
            },
            "colorscale": [
             [
              0.0,
              "#0d0887"
             ],
             [
              0.1111111111111111,
              "#46039f"
             ],
             [
              0.2222222222222222,
              "#7201a8"
             ],
             [
              0.3333333333333333,
              "#9c179e"
             ],
             [
              0.4444444444444444,
              "#bd3786"
             ],
             [
              0.5555555555555556,
              "#d8576b"
             ],
             [
              0.6666666666666666,
              "#ed7953"
             ],
             [
              0.7777777777777778,
              "#fb9f3a"
             ],
             [
              0.8888888888888888,
              "#fdca26"
             ],
             [
              1.0,
              "#f0f921"
             ]
            ]
           }
          ],
          "surface": [
           {
            "type": "surface",
            "colorbar": {
             "outlinewidth": 0,
             "ticks": ""
            },
            "colorscale": [
             [
              0.0,
              "#0d0887"
             ],
             [
              0.1111111111111111,
              "#46039f"
             ],
             [
              0.2222222222222222,
              "#7201a8"
             ],
             [
              0.3333333333333333,
              "#9c179e"
             ],
             [
              0.4444444444444444,
              "#bd3786"
             ],
             [
              0.5555555555555556,
              "#d8576b"
             ],
             [
              0.6666666666666666,
              "#ed7953"
             ],
             [
              0.7777777777777778,
              "#fb9f3a"
             ],
             [
              0.8888888888888888,
              "#fdca26"
             ],
             [
              1.0,
              "#f0f921"
             ]
            ]
           }
          ],
          "mesh3d": [
           {
            "type": "mesh3d",
            "colorbar": {
             "outlinewidth": 0,
             "ticks": ""
            }
           }
          ],
          "scatter": [
           {
            "marker": {
             "line": {
              "color": "#283442"
             }
            },
            "type": "scatter"
           }
          ],
          "parcoords": [
           {
            "type": "parcoords",
            "line": {
             "colorbar": {
              "outlinewidth": 0,
              "ticks": ""
             }
            }
           }
          ],
          "scatterpolargl": [
           {
            "type": "scatterpolargl",
            "marker": {
             "colorbar": {
              "outlinewidth": 0,
              "ticks": ""
             }
            }
           }
          ],
          "bar": [
           {
            "error_x": {
             "color": "#f2f5fa"
            },
            "error_y": {
             "color": "#f2f5fa"
            },
            "marker": {
             "line": {
              "color": "rgb(17,17,17)",
              "width": 0.5
             },
             "pattern": {
              "fillmode": "overlay",
              "size": 10,
              "solidity": 0.2
             }
            },
            "type": "bar"
           }
          ],
          "scattergeo": [
           {
            "type": "scattergeo",
            "marker": {
             "colorbar": {
              "outlinewidth": 0,
              "ticks": ""
             }
            }
           }
          ],
          "scatterpolar": [
           {
            "type": "scatterpolar",
            "marker": {
             "colorbar": {
              "outlinewidth": 0,
              "ticks": ""
             }
            }
           }
          ],
          "histogram": [
           {
            "marker": {
             "pattern": {
              "fillmode": "overlay",
              "size": 10,
              "solidity": 0.2
             }
            },
            "type": "histogram"
           }
          ],
          "scattergl": [
           {
            "marker": {
             "line": {
              "color": "#283442"
             }
            },
            "type": "scattergl"
           }
          ],
          "scatter3d": [
           {
            "type": "scatter3d",
            "line": {
             "colorbar": {
              "outlinewidth": 0,
              "ticks": ""
             }
            },
            "marker": {
             "colorbar": {
              "outlinewidth": 0,
              "ticks": ""
             }
            }
           }
          ],
          "scattermap": [
           {
            "type": "scattermap",
            "marker": {
             "colorbar": {
              "outlinewidth": 0,
              "ticks": ""
             }
            }
           }
          ],
          "scattermapbox": [
           {
            "type": "scattermapbox",
            "marker": {
             "colorbar": {
              "outlinewidth": 0,
              "ticks": ""
             }
            }
           }
          ],
          "scatterternary": [
           {
            "type": "scatterternary",
            "marker": {
             "colorbar": {
              "outlinewidth": 0,
              "ticks": ""
             }
            }
           }
          ],
          "scattercarpet": [
           {
            "type": "scattercarpet",
            "marker": {
             "colorbar": {
              "outlinewidth": 0,
              "ticks": ""
             }
            }
           }
          ],
          "carpet": [
           {
            "aaxis": {
             "endlinecolor": "#A2B1C6",
             "gridcolor": "#506784",
             "linecolor": "#506784",
             "minorgridcolor": "#506784",
             "startlinecolor": "#A2B1C6"
            },
            "baxis": {
             "endlinecolor": "#A2B1C6",
             "gridcolor": "#506784",
             "linecolor": "#506784",
             "minorgridcolor": "#506784",
             "startlinecolor": "#A2B1C6"
            },
            "type": "carpet"
           }
          ],
          "table": [
           {
            "cells": {
             "fill": {
              "color": "#506784"
             },
             "line": {
              "color": "rgb(17,17,17)"
             }
            },
            "header": {
             "fill": {
              "color": "#2a3f5f"
             },
             "line": {
              "color": "rgb(17,17,17)"
             }
            },
            "type": "table"
           }
          ],
          "barpolar": [
           {
            "marker": {
             "line": {
              "color": "rgb(17,17,17)",
              "width": 0.5
             },
             "pattern": {
              "fillmode": "overlay",
              "size": 10,
              "solidity": 0.2
             }
            },
            "type": "barpolar"
           }
          ],
          "pie": [
           {
            "automargin": true,
            "type": "pie"
           }
          ]
         },
         "layout": {
          "autotypenumbers": "strict",
          "colorway": [
           "#636efa",
           "#EF553B",
           "#00cc96",
           "#ab63fa",
           "#FFA15A",
           "#19d3f3",
           "#FF6692",
           "#B6E880",
           "#FF97FF",
           "#FECB52"
          ],
          "font": {
           "color": "#f2f5fa"
          },
          "hovermode": "closest",
          "hoverlabel": {
           "align": "left"
          },
          "paper_bgcolor": "rgb(17,17,17)",
          "plot_bgcolor": "rgb(17,17,17)",
          "polar": {
           "bgcolor": "rgb(17,17,17)",
           "angularaxis": {
            "gridcolor": "#506784",
            "linecolor": "#506784",
            "ticks": ""
           },
           "radialaxis": {
            "gridcolor": "#506784",
            "linecolor": "#506784",
            "ticks": ""
           }
          },
          "ternary": {
           "bgcolor": "rgb(17,17,17)",
           "aaxis": {
            "gridcolor": "#506784",
            "linecolor": "#506784",
            "ticks": ""
           },
           "baxis": {
            "gridcolor": "#506784",
            "linecolor": "#506784",
            "ticks": ""
           },
           "caxis": {
            "gridcolor": "#506784",
            "linecolor": "#506784",
            "ticks": ""
           }
          },
          "coloraxis": {
           "colorbar": {
            "outlinewidth": 0,
            "ticks": ""
           }
          },
          "colorscale": {
           "sequential": [
            [
             0.0,
             "#0d0887"
            ],
            [
             0.1111111111111111,
             "#46039f"
            ],
            [
             0.2222222222222222,
             "#7201a8"
            ],
            [
             0.3333333333333333,
             "#9c179e"
            ],
            [
             0.4444444444444444,
             "#bd3786"
            ],
            [
             0.5555555555555556,
             "#d8576b"
            ],
            [
             0.6666666666666666,
             "#ed7953"
            ],
            [
             0.7777777777777778,
             "#fb9f3a"
            ],
            [
             0.8888888888888888,
             "#fdca26"
            ],
            [
             1.0,
             "#f0f921"
            ]
           ],
           "sequentialminus": [
            [
             0.0,
             "#0d0887"
            ],
            [
             0.1111111111111111,
             "#46039f"
            ],
            [
             0.2222222222222222,
             "#7201a8"
            ],
            [
             0.3333333333333333,
             "#9c179e"
            ],
            [
             0.4444444444444444,
             "#bd3786"
            ],
            [
             0.5555555555555556,
             "#d8576b"
            ],
            [
             0.6666666666666666,
             "#ed7953"
            ],
            [
             0.7777777777777778,
             "#fb9f3a"
            ],
            [
             0.8888888888888888,
             "#fdca26"
            ],
            [
             1.0,
             "#f0f921"
            ]
           ],
           "diverging": [
            [
             0,
             "#8e0152"
            ],
            [
             0.1,
             "#c51b7d"
            ],
            [
             0.2,
             "#de77ae"
            ],
            [
             0.3,
             "#f1b6da"
            ],
            [
             0.4,
             "#fde0ef"
            ],
            [
             0.5,
             "#f7f7f7"
            ],
            [
             0.6,
             "#e6f5d0"
            ],
            [
             0.7,
             "#b8e186"
            ],
            [
             0.8,
             "#7fbc41"
            ],
            [
             0.9,
             "#4d9221"
            ],
            [
             1,
             "#276419"
            ]
           ]
          },
          "xaxis": {
           "gridcolor": "#283442",
           "linecolor": "#506784",
           "ticks": "",
           "title": {
            "standoff": 15
           },
           "zerolinecolor": "#283442",
           "automargin": true,
           "zerolinewidth": 2
          },
          "yaxis": {
           "gridcolor": "#283442",
           "linecolor": "#506784",
           "ticks": "",
           "title": {
            "standoff": 15
           },
           "zerolinecolor": "#283442",
           "automargin": true,
           "zerolinewidth": 2
          },
          "scene": {
           "xaxis": {
            "backgroundcolor": "rgb(17,17,17)",
            "gridcolor": "#506784",
            "linecolor": "#506784",
            "showbackground": true,
            "ticks": "",
            "zerolinecolor": "#C8D4E3",
            "gridwidth": 2
           },
           "yaxis": {
            "backgroundcolor": "rgb(17,17,17)",
            "gridcolor": "#506784",
            "linecolor": "#506784",
            "showbackground": true,
            "ticks": "",
            "zerolinecolor": "#C8D4E3",
            "gridwidth": 2
           },
           "zaxis": {
            "backgroundcolor": "rgb(17,17,17)",
            "gridcolor": "#506784",
            "linecolor": "#506784",
            "showbackground": true,
            "ticks": "",
            "zerolinecolor": "#C8D4E3",
            "gridwidth": 2
           }
          },
          "shapedefaults": {
           "line": {
            "color": "#f2f5fa"
           }
          },
          "annotationdefaults": {
           "arrowcolor": "#f2f5fa",
           "arrowhead": 0,
           "arrowwidth": 1
          },
          "geo": {
           "bgcolor": "rgb(17,17,17)",
           "landcolor": "rgb(17,17,17)",
           "subunitcolor": "#506784",
           "showland": true,
           "showlakes": true,
           "lakecolor": "rgb(17,17,17)"
          },
          "title": {
           "x": 0.05
          },
          "updatemenudefaults": {
           "bgcolor": "#506784",
           "borderwidth": 0
          },
          "sliderdefaults": {
           "bgcolor": "#C8D4E3",
           "borderwidth": 1,
           "bordercolor": "rgb(17,17,17)",
           "tickwidth": 0
          },
          "mapbox": {
           "style": "dark"
          }
         }
        },
        "xaxis": {
         "anchor": "y",
         "domain": [
          0.0,
          1.0
         ],
         "title": {
          "text": "cleaned_content"
         }
        },
        "yaxis": {
         "anchor": "x",
         "domain": [
          0.0,
          1.0
         ],
         "title": {
          "text": "count"
         }
        },
        "legend": {
         "tracegroupgap": 0
        },
        "title": {
         "text": "Distribution of Word Count in cleaned_content"
        },
        "barmode": "relative",
        "shapes": [
         {
          "line": {
           "color": "red",
           "dash": "dash"
          },
          "type": "line",
          "x0": 309.3266,
          "x1": 309.3266,
          "xref": "x",
          "y0": 0,
          "y1": 1,
          "yref": "y domain"
         }
        ],
        "annotations": [
         {
          "showarrow": false,
          "text": "Mean: 309.3 words",
          "x": 309.3266,
          "xanchor": "left",
          "xref": "x",
          "y": 1,
          "yanchor": "top",
          "yref": "y domain"
         }
        ],
        "bargap": 0.1
       },
       "config": {
        "plotlyServerURL": "https://plot.ly"
       }
      }
     },
     "metadata": {},
     "output_type": "display_data"
    }
   ],
   "execution_count": 15
  },
  {
   "metadata": {},
   "cell_type": "markdown",
   "source": "",
   "id": "8584a7b14f39f0ec"
  },
  {
   "metadata": {},
   "cell_type": "markdown",
   "source": [
    "## 3. LLM-Based Information Extraction\n",
    "\n",
    "In this section, we implement the **1st solution** by leveraging a **LLM** to automatically extract key information from job advertisements.\n",
    "\n",
    "We will focus on extracting the following components from each job ad:\n",
    "\n",
    "- 🧠 **Soft Skills** – Interpersonal, communication, teamwork, leadership, problem-solving, and other non-technical skills.\n",
    "- 🛠️ **Hard Skills** – Technical skills, tools, programming languages, certifications, domain knowledge, etc.\n",
    "- 📋 **Responsibilities** – Core tasks and duties the candidate will be expected to perform.\n",
    "- ✅ **Other Requirements** – Qualifications, education, years of experience, work eligibility, language requirements, etc.\n",
    "\n",
    "---\n",
    "\n",
    "### 🧰 Implementation\n",
    "\n",
    "1. **Define the System Prompt**  \n",
    "   Craft a detailed prompt to instruct the LLM on how to parse and categorise job ad text accurately. This is a result from quick prompt engineering.\n",
    "\n",
    "2. **Create a Function to Call the OpenAI API**  \n",
    "   Use Python to send requests to the LLM with the system prompt and the job description as input.\n",
    "\n",
    "3. **Apply to a Sample of Job Ads**  \n",
    "   Test the extraction pipeline on a subset of the dataset and inspect the structured outputs.\n",
    "\n",
    "---\n"
   ],
   "id": "a53e0f3b713e2d4a"
  },
  {
   "metadata": {
    "ExecuteTime": {
     "end_time": "2025-10-19T21:36:29.421352Z",
     "start_time": "2025-10-19T21:36:29.419183Z"
    }
   },
   "cell_type": "code",
   "source": [
    "SYSTEM_PROMPT = \"\"\"\n",
    "You are an expert job advertisement analyser. Your task is to read the provided job ad text and extract key information into a structured JSON format.\n",
    "\n",
    "Follow these instructions carefully:\n",
    "\n",
    "1. Be precise and concise — extract only what is explicitly or implicitly mentioned in the ad.\n",
    "2. Organise the extracted information into the following categories:\n",
    "   - soft_skills: Interpersonal, communication, teamwork, leadership, problem-solving, and other non-technical skills.\n",
    "   - hard_skills: Technical skills, tools, programming languages, certifications, domain knowledge, etc.\n",
    "   - responsibilities: Core tasks and duties the candidate will be expected to perform.\n",
    "   - other_requirements: Qualifications, education, years of experience, work eligibility, language requirements, etc.\n",
    "3. If a category is not mentioned, return it as an empty array [].\n",
    "4. Always return valid JSON in this format:\n",
    "\n",
    "{\n",
    "  \"soft_skills\": [],\n",
    "  \"hard_skills\": [],\n",
    "  \"responsibilities\": [],\n",
    "  \"other_requirements\": []\n",
    "}\n",
    "\n",
    "Example:\n",
    "\n",
    "Input job ad:\n",
    "\"We’re seeking a Senior Data Analyst who excels in communication and stakeholder management. You’ll design dashboards, write complex SQL queries, and present insights to leadership. Must have 5+ years of experience in data analytics and a bachelor’s degree in statistics or related field.\"\n",
    "\n",
    "Output:\n",
    "{\n",
    "  \"soft_skills\": [\"communication\", \"stakeholder management\", \"presentation skills\"],\n",
    "  \"hard_skills\": [\"dashboard design\", \"SQL\", \"data analytics\"],\n",
    "  \"responsibilities\": [\"design dashboards\", \"write SQL queries\", \"present insights to leadership\"],\n",
    "  \"other_requirements\": [\"5+ years experience\", \"bachelor’s degree in statistics or related field\"]\n",
    "}\n",
    "\n",
    "\"\"\""
   ],
   "id": "b5cb065ac2eb8df6",
   "outputs": [],
   "execution_count": 50
  },
  {
   "metadata": {
    "ExecuteTime": {
     "end_time": "2025-10-19T21:36:59.440799Z",
     "start_time": "2025-10-19T21:36:59.436613Z"
    }
   },
   "cell_type": "code",
   "source": [
    "# Sample 50 job ads for evaluation\n",
    "sample_job_df = job_df.sample(n=50, random_state=42, replace=False)\n",
    "sample_job_df= sample_job_df[['id','title','cleaned_content']]"
   ],
   "id": "b015e7535d88938e",
   "outputs": [],
   "execution_count": 53
  },
  {
   "metadata": {
    "ExecuteTime": {
     "end_time": "2025-10-19T21:53:44.476008Z",
     "start_time": "2025-10-19T21:37:01.960583Z"
    }
   },
   "cell_type": "code",
   "source": [
    "# Initialise OpenAI client\n",
    "client = OpenAI()\n",
    "\n",
    "# Define the response model using Pydantic\n",
    "class JobInfoResponse(BaseModel):\n",
    "    soft_skills: list[str]\n",
    "    hard_skills: list[str]\n",
    "    responsibilities: list[str]\n",
    "    other_requirements: list[str]\n",
    "\n",
    "# Create a function to extract job info using OpenAI API    \n",
    "def extract_job_info(job_ad: str) -> dict:\n",
    "    try:\n",
    "        response = client.responses.parse(\n",
    "        model=\"gpt-5-mini\",\n",
    "        input=[\n",
    "            {\"role\": \"system\", \"content\": SYSTEM_PROMPT},\n",
    "            {\n",
    "                \"role\": \"user\",\n",
    "                \"content\": job_ad,\n",
    "            },\n",
    "        ],\n",
    "        text_format=JobInfoResponse,\n",
    "    )\n",
    "        \n",
    "        result = response.output_parsed\n",
    "\n",
    "        return {\n",
    "            'soft_skills': result.soft_skills,\n",
    "            'hard_skills': result.hard_skills,\n",
    "            'responsibilities': result.responsibilities,\n",
    "            'other_requirements': result.other_requirements\n",
    "        }\n",
    "    except Exception as e:\n",
    "        print(f\"Error processing job ad: {e}\")\n",
    "        return {\n",
    "            'soft_skills': [],\n",
    "            'hard_skills': [],\n",
    "            'responsibilities': [],\n",
    "            'other_requirements': []\n",
    "        }\n",
    "\n",
    "# Apply the function to create new columns\n",
    "results = sample_job_df['cleaned_content'].apply(extract_job_info)\n",
    "\n",
    "# Convert the results into separate columns\n",
    "sample_job_df.loc[:,'soft_skills'] = results.apply(lambda x: x['soft_skills'])\n",
    "sample_job_df.loc[:,'hard_skills'] = results.apply(lambda x: x['hard_skills'])\n",
    "sample_job_df.loc[:,'responsibilities'] = results.apply(lambda x: x['responsibilities'])\n",
    "sample_job_df.loc[:,'other_requirements'] = results.apply(lambda x: x['other_requirements'])"
   ],
   "id": "6c4ae2ccdadda18c",
   "outputs": [],
   "execution_count": 54
  },
  {
   "metadata": {
    "ExecuteTime": {
     "end_time": "2025-10-19T21:54:23.220945Z",
     "start_time": "2025-10-19T21:54:23.214444Z"
    }
   },
   "cell_type": "code",
   "source": [
    "# Display the extracted information for the first few job ads\n",
    "sample_job_df[['soft_skills','hard_skills','responsibilities','other_requirements']].head()"
   ],
   "id": "32bc29e93339f6e",
   "outputs": [
    {
     "data": {
      "text/plain": [
       "                                             soft_skills  \\\n",
       "33553  [excellent communication, customer service, pr...   \n",
       "9427   [good phone manner, attention to detail, stron...   \n",
       "199    [communication, attention to detail, customer ...   \n",
       "12447  [approachable (for internal and external custo...   \n",
       "39489  [resourcefulness, teamwork / ability to work i...   \n",
       "\n",
       "                                             hard_skills  \\\n",
       "33553  [Move CRM, LJ Hooker systems, CRM and back-end...   \n",
       "9427   [accurate keyboarding, practical knowledge of ...   \n",
       "199    [Point of Sales (POS) system operation, MYOB R...   \n",
       "12447  [operation of Boeing 737 (fixed wing flight op...   \n",
       "39489  [operation, monitoring and maintenance of ship...   \n",
       "\n",
       "                                        responsibilities  \\\n",
       "33553  [support development and delivery of systems t...   \n",
       "9427   [front desk reception, office and administrati...   \n",
       "199    [identify customer needs and assist with resea...   \n",
       "12447  [carry out commands or requests related to air...   \n",
       "39489  [repair and maintain a wide variety of systems...   \n",
       "\n",
       "                                      other_requirements  \n",
       "33553  [minimum 3 years' experience in a variety of R...  \n",
       "9427   [must hold valid certificate of registration, ...  \n",
       "199    [valid Australian manual driver's licence, own...  \n",
       "12447  [New Zealand and/or Australian Airline Transpo...  \n",
       "39489  [minimum age 17 years, Australian citizen, Yea...  "
      ],
      "text/html": [
       "<div>\n",
       "<style scoped>\n",
       "    .dataframe tbody tr th:only-of-type {\n",
       "        vertical-align: middle;\n",
       "    }\n",
       "\n",
       "    .dataframe tbody tr th {\n",
       "        vertical-align: top;\n",
       "    }\n",
       "\n",
       "    .dataframe thead th {\n",
       "        text-align: right;\n",
       "    }\n",
       "</style>\n",
       "<table border=\"1\" class=\"dataframe\">\n",
       "  <thead>\n",
       "    <tr style=\"text-align: right;\">\n",
       "      <th></th>\n",
       "      <th>soft_skills</th>\n",
       "      <th>hard_skills</th>\n",
       "      <th>responsibilities</th>\n",
       "      <th>other_requirements</th>\n",
       "    </tr>\n",
       "  </thead>\n",
       "  <tbody>\n",
       "    <tr>\n",
       "      <th>33553</th>\n",
       "      <td>[excellent communication, customer service, pr...</td>\n",
       "      <td>[Move CRM, LJ Hooker systems, CRM and back-end...</td>\n",
       "      <td>[support development and delivery of systems t...</td>\n",
       "      <td>[minimum 3 years' experience in a variety of R...</td>\n",
       "    </tr>\n",
       "    <tr>\n",
       "      <th>9427</th>\n",
       "      <td>[good phone manner, attention to detail, stron...</td>\n",
       "      <td>[accurate keyboarding, practical knowledge of ...</td>\n",
       "      <td>[front desk reception, office and administrati...</td>\n",
       "      <td>[must hold valid certificate of registration, ...</td>\n",
       "    </tr>\n",
       "    <tr>\n",
       "      <th>199</th>\n",
       "      <td>[communication, attention to detail, customer ...</td>\n",
       "      <td>[Point of Sales (POS) system operation, MYOB R...</td>\n",
       "      <td>[identify customer needs and assist with resea...</td>\n",
       "      <td>[valid Australian manual driver's licence, own...</td>\n",
       "    </tr>\n",
       "    <tr>\n",
       "      <th>12447</th>\n",
       "      <td>[approachable (for internal and external custo...</td>\n",
       "      <td>[operation of Boeing 737 (fixed wing flight op...</td>\n",
       "      <td>[carry out commands or requests related to air...</td>\n",
       "      <td>[New Zealand and/or Australian Airline Transpo...</td>\n",
       "    </tr>\n",
       "    <tr>\n",
       "      <th>39489</th>\n",
       "      <td>[resourcefulness, teamwork / ability to work i...</td>\n",
       "      <td>[operation, monitoring and maintenance of ship...</td>\n",
       "      <td>[repair and maintain a wide variety of systems...</td>\n",
       "      <td>[minimum age 17 years, Australian citizen, Yea...</td>\n",
       "    </tr>\n",
       "  </tbody>\n",
       "</table>\n",
       "</div>"
      ]
     },
     "execution_count": 56,
     "metadata": {},
     "output_type": "execute_result"
    }
   ],
   "execution_count": 56
  },
  {
   "metadata": {
    "ExecuteTime": {
     "end_time": "2025-10-19T22:07:18.258627Z",
     "start_time": "2025-10-19T22:07:18.252258Z"
    }
   },
   "cell_type": "code",
   "source": [
    "# Define the path to save the evaluation dataset\n",
    "EVALUATION_DATASET_PATH = 'data/eval_jobinfo_data.csv'\n",
    "\n",
    "# Save the sample job DataFrame with extracted information to CSV\n",
    "sample_job_df.to_csv(EVALUATION_DATASET_PATH, index=False)"
   ],
   "id": "543fd5d68dd85841",
   "outputs": [],
   "execution_count": 60
  },
  {
   "metadata": {},
   "cell_type": "markdown",
   "source": "",
   "id": "35531b74c144a811"
  },
  {
   "metadata": {
    "ExecuteTime": {
     "end_time": "2025-10-20T00:12:57.692262Z",
     "start_time": "2025-10-20T00:12:57.634501Z"
    }
   },
   "cell_type": "code",
   "source": "sample_job_df",
   "id": "2139cc9b01fa1ea7",
   "outputs": [
    {
     "data": {
      "text/plain": [
       "             id                                              title  \\\n",
       "33553  38885743  SYSTEMS TRAINING & SUPPORT SPECIALIST, LJ Hook...   \n",
       "9427   38885221                                       Receptionist   \n",
       "199    38918237         Sales Person / Forklift Driver / Warehouse   \n",
       "12447  38872849                                B737 First Officers   \n",
       "39489  38957774                       Marine Technician Submariner   \n",
       "42724  38835993                                         QA Manager   \n",
       "10822  38952335                                  Real Estate Sales   \n",
       "49498  38900437  Maintenance Project Engineer - Transport / Kai...   \n",
       "4144   38859133                  Heavy Vehicle Mechanic - Narellan   \n",
       "36958  38946240     Contracts Administrator - Fit-out/Construction   \n",
       "43106  38994450                  Weekend Chef - Aged Care, Ashwood   \n",
       "38695  39000904  Experienced Scaffolder - Intermediate or Advanced   \n",
       "6188   38956766  Te Wahipounamu Story Telling Advisor, Operatio...   \n",
       "1414   38930447     SISLEY COUNTER MANAGER - DAVID JONES DONCASTER   \n",
       "18471  38824674  General Practitioner - GP - 70% - Mixed Billin...   \n",
       "29282  38946059                     Full time Barista in Dandenong   \n",
       "15177  38910923                            ESOS Compliance Officer   \n",
       "34304  38846097                                Charismatic Auditor   \n",
       "12609  38492154                                         MIG Welder   \n",
       "12144  38878367                           Registrar - Orthopaedics   \n",
       "6113   38877674  Senior Contracts Administrator x2 | Civil Cont...   \n",
       "15908  38891102  Paraplanner - CBD, HNW Clients - Leadership Po...   \n",
       "821    38956622      Diploma or ECT Educators - My Stepping Stones   \n",
       "15118  38987923                            Early Childhood Teacher   \n",
       "13466  38939237  Perioperative Nurses | Queensland | Multiple R...   \n",
       "26497  38922491                       FCL Customer Service Officer   \n",
       "42111  38930110                       Finance Officer - Operations   \n",
       "30188  38972454                Field Engineer - Printer Technician   \n",
       "37237  38863953                                    React Developer   \n",
       "33109  38950510         Hospitality Workers - Sales Opportunities!   \n",
       "36480  38948177                                   Registered Nurse   \n",
       "24148  38866924                             Database Administrator   \n",
       "5503   39001535                Analyst Policy, Process & Procedure   \n",
       "3918   39000592         Senior Product Manager - Facial Aesthetics   \n",
       "38478  38887096  General Manager Business Strategy and Performance   \n",
       "21123  38916159                  Team Leader - Distribution Centre   \n",
       "49717  38975463        Associate Recruitment Consultant | Mid 2019   \n",
       "42294  38845661                                      Solution Lead   \n",
       "47609  38870514                           Lifestyle Support Worker   \n",
       "11076  38821855                     Commercial Lawyer 10 + yrs PAE   \n",
       "41514  38884474                         Replenishment Coordinator    \n",
       "22062  38868834                                Transport Allocator   \n",
       "9413   38844730                                  Estimator - Civil   \n",
       "38340  38903786                      CHILD CARE WORKER - ASSISTANT   \n",
       "30263  38933688                               Corporate/M&A Lawyer   \n",
       "41252  38820072             High Performance Computing Specialist    \n",
       "14644  38931054         Customer Facing Sales Opening - Sydney CBD   \n",
       "26335  38865836                         Senior Development Manager   \n",
       "28102  38887345                           Assistant Branch Manager   \n",
       "17523  38943223                               Cardiac Sonographer    \n",
       "\n",
       "                                         cleaned_content  \\\n",
       "33553  Newly located in Sydney’s CBD A great opportun...   \n",
       "9427   This is an outstanding opportunity for someone...   \n",
       "199    ABOUT THE COMPANY Simon’s Seconds and iPave is...   \n",
       "12447  Airwork Fixed Wing (AFW) Division is part of t...   \n",
       "39489  Opportunity As a Marine Technician Submariner,...   \n",
       "42724  Freedom Foods Group Limited is an ASX listed i...   \n",
       "10822  REAP Recruitment specialise in recruitment for...   \n",
       "49498  Porirua's changing. Thanks to new housing deve...   \n",
       "4144   Qualified heavy vehicle mechanic wanted to wor...   \n",
       "36958  One of Melbourne's most&nbsp; talked about and...   \n",
       "43106  Excellent work life balance Annual Salary Pack...   \n",
       "38695  readi is your workforce partner when it comes ...   \n",
       "6188   This is a 12 month temporary fixed term role.&...   \n",
       "1414   Sisley Paris is a leading French cosmetics com...   \n",
       "18471  General Practitioner &ndash; GP &ndash; 70% - ...   \n",
       "29282  A cafe in Dandenong is seeking a full time Bar...   \n",
       "15177  Great opportunity in the sought after educatio...   \n",
       "34304  THE FIRM: This international accounting firm, ...   \n",
       "12609  About the Role: About the Role: WorkPac are cu...   \n",
       "12144  Welcome to St John of God Health Care St John ...   \n",
       "6113   Our client is a major construction company and...   \n",
       "15908  Our client is an independently licensed privat...   \n",
       "821    My Stepping Stones (MSS) is excited to announc...   \n",
       "15118  Beautiful 116 place centre located in Coorparo...   \n",
       "13466  Frontline Health is a leading national healthc...   \n",
       "26497  Amazing Career Opportunities Multiple position...   \n",
       "42111  The City of Canada Bay is a thriving, colourfu...   \n",
       "30188  About the Company Our client is a proven leade...   \n",
       "37237  React Developer – Permanent - Melbourne - $100...   \n",
       "33109  Use your hospitality &amp; customer service ex...   \n",
       "36480  At Opal Aged Care, we know that companies don&...   \n",
       "24148  &nbsp; &nbsp; We have an immediate need for a ...   \n",
       "5503   Analyst Policy, Process &amp; Procedure Full-t...   \n",
       "3918   The Company Our client is a well-respected Eur...   \n",
       "38478  ABOUT US – WE KNOW THE WAY Established in 1989...   \n",
       "21123  Allstaff Australia is currently recruiting a T...   \n",
       "49717  Your new company At Hays, we are the industry ...   \n",
       "42294  The Role This Solution Lead role is a key posi...   \n",
       "47609  We are seeking a person who is passionate abou...   \n",
       "11076  About Wrays Wrays is&nbsp;one of the largest i...   \n",
       "41514  About the opportunity It’s an exciting period ...   \n",
       "22062  A permanent transport allocator with a large t...   \n",
       "9413   ABOUT THE COMPANY. This exciting opportunity i...   \n",
       "38340  CHILD CARE WORKER – ASSISTANT CERT 3 QUALIFIED...   \n",
       "30263  You Will be a mid-level Corporate/M&amp;A lawy...   \n",
       "41252  The successful applicant will be required to p...   \n",
       "14644  Are you serious about providing exceptional cu...   \n",
       "26335  Our Client Our client is a well known, private...   \n",
       "28102  Assistant Manager This international company i...   \n",
       "17523  Benefits Sponsorship and relocation packages a...   \n",
       "\n",
       "                                             soft_skills  \\\n",
       "33553  [excellent communication, customer service, pr...   \n",
       "9427   [good phone manner, attention to detail, stron...   \n",
       "199    [communication, attention to detail, customer ...   \n",
       "12447  [approachable (for internal and external custo...   \n",
       "39489  [resourcefulness, teamwork / ability to work i...   \n",
       "42724  [collaboration with multiple stakeholders, inf...   \n",
       "10822                                                 []   \n",
       "49498  [adaptability / embrace change, ownership / ac...   \n",
       "4144   [well organised, motivated, high energy, auton...   \n",
       "36958  [drive and determination, people skills, cultu...   \n",
       "43106  [customer service, warm, friendly interaction ...   \n",
       "38695  [adaptable to change, team player, excellent c...   \n",
       "6188   [community engagement (working with tangata wh...   \n",
       "1414   [enthusiastic, highly motivated, proactive app...   \n",
       "18471  [teamwork, teaching/mentoring, patient-focused...   \n",
       "29282                                                 []   \n",
       "15177  [autonomous, organized, analytical skills, pro...   \n",
       "34304  [numerical skills, logical thinking, maturity,...   \n",
       "12609  [attention to detail, commitment to complete w...   \n",
       "12144  [alignment with organisational mission and val...   \n",
       "6113   [strong interpersonal skills, management skill...   \n",
       "15908  [credibility and professionalism, communicatio...   \n",
       "821    [strong written and verbal communication, abil...   \n",
       "15118  [communication, relationship-building with chi...   \n",
       "13466  [passion for your career, excellent communicat...   \n",
       "26497  [energetic, assertive, team player, customer-o...   \n",
       "42111  [high level communication skills, ability to p...   \n",
       "30188  [excellent customer service, quality communica...   \n",
       "37237  [teamwork / collaboration with designers and d...   \n",
       "33109  [social and friendly personality, confidence, ...   \n",
       "36480  [compassion, accountability, respect, excellen...   \n",
       "24148  [troubleshooting, problem-solving, initiative,...   \n",
       "5503   [high attention to detail, excellent communica...   \n",
       "3918   [strong communication, presentation skills, te...   \n",
       "38478  [leadership, communication, influencing, coach...   \n",
       "21123  [leadership, team management, supervision, abi...   \n",
       "49717  [highly motivated, sales driven, results-orien...   \n",
       "42294  [communication, stakeholder management, transp...   \n",
       "47609  [client engagement, communication, high level ...   \n",
       "11076  [commercially astute / commercial acumen, exce...   \n",
       "41514  [confident, approachable, customer service ori...   \n",
       "22062  [hardworking attitude, excellent communication...   \n",
       "9413   [teamwork, communication, negotiation, mentori...   \n",
       "38340  [dedicated, well-organised, positive and motiv...   \n",
       "30263  [teamwork/collaboration, ability to work with ...   \n",
       "41252  [knowledge sharing, verbal and written communi...   \n",
       "14644  [outgoing, friendly, ambitious, motivated, sup...   \n",
       "26335  [leadership, training and mentoring, hands-on ...   \n",
       "28102  [enthusiastic, charismatic, highly organised, ...   \n",
       "17523  [attention to detail, high-level communication...   \n",
       "\n",
       "                                             hard_skills  \\\n",
       "33553  [Move CRM, LJ Hooker systems, CRM and back-end...   \n",
       "9427   [accurate keyboarding, practical knowledge of ...   \n",
       "199    [Point of Sales (POS) system operation, MYOB R...   \n",
       "12447  [operation of Boeing 737 (fixed wing flight op...   \n",
       "39489  [operation, monitoring and maintenance of ship...   \n",
       "42724  [Good Manufacturing Practices (GMP), SQF (Safe...   \n",
       "10822  [REA licence, completion of required REA study...   \n",
       "49498  [transport network maintenance, consent manage...   \n",
       "4144   [heavy vehicle / truck mechanic, light and med...   \n",
       "36958  [contract administration, project management, ...   \n",
       "43106  [Certificate III in Commercial Cookery (or equ...   \n",
       "38695  [scaffolding (Advanced or Intermediate Scaffol...   \n",
       "6188   [interpretation (developing and delivering pla...   \n",
       "1414   [strong skincare skills, strong make-up skills...   \n",
       "18471  [Vocational Registration (FRACGP, FACRRM, FRNZ...   \n",
       "29282                               [barista experience]   \n",
       "15177  [ESOS Framework, National Code of Practice, CR...   \n",
       "34304  [external auditing, audit assignments, Audit a...   \n",
       "12609  [MIG welding, high-quality MIG welding, stainl...   \n",
       "12144  [orthopaedics (clinical domain), surgical skil...   \n",
       "6113   [contracts administration, contract management...   \n",
       "15908  [paraplanning experience, technical capability...   \n",
       "821    [Early Childhood Teacher (ECT) qualification o...   \n",
       "15118  [knowledge of the Early Years Learning Framewo...   \n",
       "13466  [Anaesthetic nursing (CN/RN/EEN), Scrub/Scout ...   \n",
       "26497  [experience in the logistics industry, plannin...   \n",
       "42111  [accounts payable, accounts receivable, genera...   \n",
       "30188  [full disassembly and repair of laser printers...   \n",
       "37237  [React (ReactJS), React Native, JavaScript (ES...   \n",
       "33109  [hospitality experience, customer service expe...   \n",
       "36480  [Current practising Registration as a Register...   \n",
       "24148  [Microsoft SQL Server (installing, configuring...   \n",
       "5503   [quality assurance, policy, process and proced...   \n",
       "3918   [product/brand management (full product respon...   \n",
       "38478  [financial management, P&L management, budgeti...   \n",
       "21123  [warehousing processes, distribution centre pr...   \n",
       "49717  [advertising job vacancies, phone pre-screenin...   \n",
       "42294  [.NET frameworks, AWS (VPC, EC2, ECS, CloudFor...   \n",
       "47609  [Certificate III in Individual/Aged/Disability...   \n",
       "11076  [intellectual property law, contracts law, gen...   \n",
       "41514  [inventory management / inventory optimisation...   \n",
       "22062  [transport allocation / fleet driver rostering...   \n",
       "9413   [civil estimating, tendering, earthworks, road...   \n",
       "38340  [Certificate III in Children's Services, First...   \n",
       "30263  [Corporate/M&A law, experience with natural re...   \n",
       "41252  [high performance computing (HPC), Linux admin...   \n",
       "14644  [sales, marketing, event marketing, business-t...   \n",
       "26335  [development management, knowledge of the deve...   \n",
       "28102  [sales skills, customer service, marketing, br...   \n",
       "17523  [ASAR accreditation, ability to scan independe...   \n",
       "\n",
       "                                        responsibilities  \\\n",
       "33553  [support development and delivery of systems t...   \n",
       "9427   [front desk reception, office and administrati...   \n",
       "199    [identify customer needs and assist with resea...   \n",
       "12447  [carry out commands or requests related to air...   \n",
       "39489  [repair and maintain a wide variety of systems...   \n",
       "42724  [implement, maintain and ensure functioning of...   \n",
       "10822  [pursue Real Estate Sales roles with leading N...   \n",
       "49498  [maintain transport networks, pick up and deli...   \n",
       "4144   [perform light and medium truck servicing, per...   \n",
       "36958  [contract administration for commercial fit-ou...   \n",
       "43106  [cook nutritious home-style meals (hot lunches...   \n",
       "38695  [perform advanced or intermediate scaffolding ...   \n",
       "6188   [support development of iwi relationships with...   \n",
       "1414   [manage the Sisley Paris business in DONCASTER...   \n",
       "18471  [Provide general practitioner services in a fa...   \n",
       "29282  [work as a barista, full-time shift work (up t...   \n",
       "15177  [manage ESOS compliance for the Education Grou...   \n",
       "34304  [perform audit assignments, work on Audit and ...   \n",
       "12609  [perform MIG welding (including stainless stee...   \n",
       "12144  [perform duties of Registrar - Orthopaedics, w...   \n",
       "6113   [manage contracts and commercials across proje...   \n",
       "15908  [focus solely on complex strategies, develop, ...   \n",
       "821    [provide early childhood education and care, a...   \n",
       "15118  [design, implement and evaluate programs for c...   \n",
       "13466  [Provide clinical nursing care in designated s...   \n",
       "26497  [plan and schedule labour for container unpack...   \n",
       "42111  [process invoices, monitor debtor ledgers, rec...   \n",
       "30188  [service and repair a diverse range of printer...   \n",
       "37237  [Full stack (MERN) development, Develop front-...   \n",
       "33109  [interact with and win new customers, assist w...   \n",
       "36480  [Provide nursing care to aged residents, Deliv...   \n",
       "24148  [proactively manage and maintain customer infr...   \n",
       "5503   [provide assurance that the organisational qua...   \n",
       "3918   [sole responsibility for two key brands (one p...   \n",
       "38478  [drive financial business performance across a...   \n",
       "21123  [supervise and manage activities of a small te...   \n",
       "49717  [advertise current and upcoming job vacancies,...   \n",
       "42294  [Own the delivery of initiatives, Lead deliver...   \n",
       "47609  [actively engage clients in Leisure and Lifest...   \n",
       "11076  [advise clients on intellectual property matte...   \n",
       "41514  [optimise inventory levels, ensure stock is re...   \n",
       "22062  [allocate a fleet of drivers, ensure drivers m...   \n",
       "9413   [assist in tendering of earthworks and subdivi...   \n",
       "38340  [assist the Team Leader with developing, plann...   \n",
       "30263  [report to three partners at an international ...   \n",
       "41252  [provide inputs and insights to future plannin...   \n",
       "14644  [be the face of the client's brand, interact w...   \n",
       "26335  [full responsibility for leading developments,...   \n",
       "28102  [manage all aspects of day-to-day branch opera...   \n",
       "17523  [perform independent cardiac scans, operate an...   \n",
       "\n",
       "                                      other_requirements  \n",
       "33553  [minimum 3 years' experience in a variety of R...  \n",
       "9427   [must hold valid certificate of registration, ...  \n",
       "199    [valid Australian manual driver's licence, own...  \n",
       "12447  [New Zealand and/or Australian Airline Transpo...  \n",
       "39489  [minimum age 17 years, Australian citizen, Yea...  \n",
       "42724  [tertiary qualification in Food Science or a r...  \n",
       "10822  [be licenced by the Real Estate Authority (REA...  \n",
       "49498  [several years' experience in contract managem...  \n",
       "4144   [qualified heavy vehicle mechanic, experienced...  \n",
       "36958  [based in Melbourne (implied), current or prio...  \n",
       "43106  [Part-time weekend role (Saturday and Sunday 6...  \n",
       "38695  [must be local to Mackay or have own accommoda...  \n",
       "6188   [12 month fixed-term (temporary) role, tertiar...  \n",
       "1414   [proven track record within the cosmetics/reta...  \n",
       "18471  [Part-time role: 4 full days (70% billings), M...  \n",
       "29282  [available at least 1 day on weekends, 2+ year...  \n",
       "15177  [demonstrated deep understanding of the ESOS F...  \n",
       "34304  [minimum two years external auditing experienc...  \n",
       "12609  [minimum 2 years welding experience, previous ...  \n",
       "12144  [graduate of an Australian Medical Council (AM...  \n",
       "6113   [based in Sydney Head Office (New South Wales)...  \n",
       "15908  [experienced, capable paraplanner (no specific...  \n",
       "821    [ECT or Diploma trained, good understanding of...  \n",
       "15118  [Early Childhood Degree or ACECQA-approved equ...  \n",
       "13466  [2+ years Australian experience within your sp...  \n",
       "26497  [full-time role, experience working in the log...  \n",
       "42111  [tertiary qualifications in Accounting, minimu...  \n",
       "30188  [onsite role (work at customer sites), experie...  \n",
       "37237  [Permanent position, Based in Melbourne CBD, $...  \n",
       "33109  [work across locations in Sydney, independent ...  \n",
       "36480  [Minimum 6+ months of paid experience as a Reg...  \n",
       "24148  [Perth based, industry recognised certificates...  \n",
       "5503   [5+ years experience in the tertiary education...  \n",
       "3918   [permanent, full-time role, minimum 5 years' e...  \n",
       "38478  [minimum 5 years in an Executive level role ov...  \n",
       "21123  [experience in warehousing/distribution centre...  \n",
       "49717  [willingness to complete an intensive 9-month ...  \n",
       "42294                                                 []  \n",
       "47609  [Minimum Certificate III in Individual/Aged/Di...  \n",
       "11076  [New South Wales practising certificate, 10+ y...  \n",
       "41514  [minimum 3 years supply chain experience inclu...  \n",
       "22062  [permanent position, based in the Botany area ...  \n",
       "9413   [Bachelor's degree in Civil Engineering or sim...  \n",
       "38340  [Certificate III in Children's Services, First...  \n",
       "30263  [mid-level role, qualified Corporate/M&A lawye...  \n",
       "41252  [At least five years of experience managing an...  \n",
       "14644  [full working rights in Australia, Australian ...  \n",
       "26335  [proven development professional, solid track ...  \n",
       "28102  [based in Darwin (Darwin branch), customer ser...  \n",
       "17523  [ASAR Accredited, must be able to scan indepen...  "
      ],
      "text/html": [
       "<div>\n",
       "<style scoped>\n",
       "    .dataframe tbody tr th:only-of-type {\n",
       "        vertical-align: middle;\n",
       "    }\n",
       "\n",
       "    .dataframe tbody tr th {\n",
       "        vertical-align: top;\n",
       "    }\n",
       "\n",
       "    .dataframe thead th {\n",
       "        text-align: right;\n",
       "    }\n",
       "</style>\n",
       "<table border=\"1\" class=\"dataframe\">\n",
       "  <thead>\n",
       "    <tr style=\"text-align: right;\">\n",
       "      <th></th>\n",
       "      <th>id</th>\n",
       "      <th>title</th>\n",
       "      <th>cleaned_content</th>\n",
       "      <th>soft_skills</th>\n",
       "      <th>hard_skills</th>\n",
       "      <th>responsibilities</th>\n",
       "      <th>other_requirements</th>\n",
       "    </tr>\n",
       "  </thead>\n",
       "  <tbody>\n",
       "    <tr>\n",
       "      <th>33553</th>\n",
       "      <td>38885743</td>\n",
       "      <td>SYSTEMS TRAINING &amp; SUPPORT SPECIALIST, LJ Hook...</td>\n",
       "      <td>Newly located in Sydney’s CBD A great opportun...</td>\n",
       "      <td>[excellent communication, customer service, pr...</td>\n",
       "      <td>[Move CRM, LJ Hooker systems, CRM and back-end...</td>\n",
       "      <td>[support development and delivery of systems t...</td>\n",
       "      <td>[minimum 3 years' experience in a variety of R...</td>\n",
       "    </tr>\n",
       "    <tr>\n",
       "      <th>9427</th>\n",
       "      <td>38885221</td>\n",
       "      <td>Receptionist</td>\n",
       "      <td>This is an outstanding opportunity for someone...</td>\n",
       "      <td>[good phone manner, attention to detail, stron...</td>\n",
       "      <td>[accurate keyboarding, practical knowledge of ...</td>\n",
       "      <td>[front desk reception, office and administrati...</td>\n",
       "      <td>[must hold valid certificate of registration, ...</td>\n",
       "    </tr>\n",
       "    <tr>\n",
       "      <th>199</th>\n",
       "      <td>38918237</td>\n",
       "      <td>Sales Person / Forklift Driver / Warehouse</td>\n",
       "      <td>ABOUT THE COMPANY Simon’s Seconds and iPave is...</td>\n",
       "      <td>[communication, attention to detail, customer ...</td>\n",
       "      <td>[Point of Sales (POS) system operation, MYOB R...</td>\n",
       "      <td>[identify customer needs and assist with resea...</td>\n",
       "      <td>[valid Australian manual driver's licence, own...</td>\n",
       "    </tr>\n",
       "    <tr>\n",
       "      <th>12447</th>\n",
       "      <td>38872849</td>\n",
       "      <td>B737 First Officers</td>\n",
       "      <td>Airwork Fixed Wing (AFW) Division is part of t...</td>\n",
       "      <td>[approachable (for internal and external custo...</td>\n",
       "      <td>[operation of Boeing 737 (fixed wing flight op...</td>\n",
       "      <td>[carry out commands or requests related to air...</td>\n",
       "      <td>[New Zealand and/or Australian Airline Transpo...</td>\n",
       "    </tr>\n",
       "    <tr>\n",
       "      <th>39489</th>\n",
       "      <td>38957774</td>\n",
       "      <td>Marine Technician Submariner</td>\n",
       "      <td>Opportunity As a Marine Technician Submariner,...</td>\n",
       "      <td>[resourcefulness, teamwork / ability to work i...</td>\n",
       "      <td>[operation, monitoring and maintenance of ship...</td>\n",
       "      <td>[repair and maintain a wide variety of systems...</td>\n",
       "      <td>[minimum age 17 years, Australian citizen, Yea...</td>\n",
       "    </tr>\n",
       "    <tr>\n",
       "      <th>42724</th>\n",
       "      <td>38835993</td>\n",
       "      <td>QA Manager</td>\n",
       "      <td>Freedom Foods Group Limited is an ASX listed i...</td>\n",
       "      <td>[collaboration with multiple stakeholders, inf...</td>\n",
       "      <td>[Good Manufacturing Practices (GMP), SQF (Safe...</td>\n",
       "      <td>[implement, maintain and ensure functioning of...</td>\n",
       "      <td>[tertiary qualification in Food Science or a r...</td>\n",
       "    </tr>\n",
       "    <tr>\n",
       "      <th>10822</th>\n",
       "      <td>38952335</td>\n",
       "      <td>Real Estate Sales</td>\n",
       "      <td>REAP Recruitment specialise in recruitment for...</td>\n",
       "      <td>[]</td>\n",
       "      <td>[REA licence, completion of required REA study...</td>\n",
       "      <td>[pursue Real Estate Sales roles with leading N...</td>\n",
       "      <td>[be licenced by the Real Estate Authority (REA...</td>\n",
       "    </tr>\n",
       "    <tr>\n",
       "      <th>49498</th>\n",
       "      <td>38900437</td>\n",
       "      <td>Maintenance Project Engineer - Transport / Kai...</td>\n",
       "      <td>Porirua's changing. Thanks to new housing deve...</td>\n",
       "      <td>[adaptability / embrace change, ownership / ac...</td>\n",
       "      <td>[transport network maintenance, consent manage...</td>\n",
       "      <td>[maintain transport networks, pick up and deli...</td>\n",
       "      <td>[several years' experience in contract managem...</td>\n",
       "    </tr>\n",
       "    <tr>\n",
       "      <th>4144</th>\n",
       "      <td>38859133</td>\n",
       "      <td>Heavy Vehicle Mechanic - Narellan</td>\n",
       "      <td>Qualified heavy vehicle mechanic wanted to wor...</td>\n",
       "      <td>[well organised, motivated, high energy, auton...</td>\n",
       "      <td>[heavy vehicle / truck mechanic, light and med...</td>\n",
       "      <td>[perform light and medium truck servicing, per...</td>\n",
       "      <td>[qualified heavy vehicle mechanic, experienced...</td>\n",
       "    </tr>\n",
       "    <tr>\n",
       "      <th>36958</th>\n",
       "      <td>38946240</td>\n",
       "      <td>Contracts Administrator - Fit-out/Construction</td>\n",
       "      <td>One of Melbourne's most&amp;nbsp; talked about and...</td>\n",
       "      <td>[drive and determination, people skills, cultu...</td>\n",
       "      <td>[contract administration, project management, ...</td>\n",
       "      <td>[contract administration for commercial fit-ou...</td>\n",
       "      <td>[based in Melbourne (implied), current or prio...</td>\n",
       "    </tr>\n",
       "    <tr>\n",
       "      <th>43106</th>\n",
       "      <td>38994450</td>\n",
       "      <td>Weekend Chef - Aged Care, Ashwood</td>\n",
       "      <td>Excellent work life balance Annual Salary Pack...</td>\n",
       "      <td>[customer service, warm, friendly interaction ...</td>\n",
       "      <td>[Certificate III in Commercial Cookery (or equ...</td>\n",
       "      <td>[cook nutritious home-style meals (hot lunches...</td>\n",
       "      <td>[Part-time weekend role (Saturday and Sunday 6...</td>\n",
       "    </tr>\n",
       "    <tr>\n",
       "      <th>38695</th>\n",
       "      <td>39000904</td>\n",
       "      <td>Experienced Scaffolder - Intermediate or Advanced</td>\n",
       "      <td>readi is your workforce partner when it comes ...</td>\n",
       "      <td>[adaptable to change, team player, excellent c...</td>\n",
       "      <td>[scaffolding (Advanced or Intermediate Scaffol...</td>\n",
       "      <td>[perform advanced or intermediate scaffolding ...</td>\n",
       "      <td>[must be local to Mackay or have own accommoda...</td>\n",
       "    </tr>\n",
       "    <tr>\n",
       "      <th>6188</th>\n",
       "      <td>38956766</td>\n",
       "      <td>Te Wahipounamu Story Telling Advisor, Operatio...</td>\n",
       "      <td>This is a 12 month temporary fixed term role.&amp;...</td>\n",
       "      <td>[community engagement (working with tangata wh...</td>\n",
       "      <td>[interpretation (developing and delivering pla...</td>\n",
       "      <td>[support development of iwi relationships with...</td>\n",
       "      <td>[12 month fixed-term (temporary) role, tertiar...</td>\n",
       "    </tr>\n",
       "    <tr>\n",
       "      <th>1414</th>\n",
       "      <td>38930447</td>\n",
       "      <td>SISLEY COUNTER MANAGER - DAVID JONES DONCASTER</td>\n",
       "      <td>Sisley Paris is a leading French cosmetics com...</td>\n",
       "      <td>[enthusiastic, highly motivated, proactive app...</td>\n",
       "      <td>[strong skincare skills, strong make-up skills...</td>\n",
       "      <td>[manage the Sisley Paris business in DONCASTER...</td>\n",
       "      <td>[proven track record within the cosmetics/reta...</td>\n",
       "    </tr>\n",
       "    <tr>\n",
       "      <th>18471</th>\n",
       "      <td>38824674</td>\n",
       "      <td>General Practitioner - GP - 70% - Mixed Billin...</td>\n",
       "      <td>General Practitioner &amp;ndash; GP &amp;ndash; 70% - ...</td>\n",
       "      <td>[teamwork, teaching/mentoring, patient-focused...</td>\n",
       "      <td>[Vocational Registration (FRACGP, FACRRM, FRNZ...</td>\n",
       "      <td>[Provide general practitioner services in a fa...</td>\n",
       "      <td>[Part-time role: 4 full days (70% billings), M...</td>\n",
       "    </tr>\n",
       "    <tr>\n",
       "      <th>29282</th>\n",
       "      <td>38946059</td>\n",
       "      <td>Full time Barista in Dandenong</td>\n",
       "      <td>A cafe in Dandenong is seeking a full time Bar...</td>\n",
       "      <td>[]</td>\n",
       "      <td>[barista experience]</td>\n",
       "      <td>[work as a barista, full-time shift work (up t...</td>\n",
       "      <td>[available at least 1 day on weekends, 2+ year...</td>\n",
       "    </tr>\n",
       "    <tr>\n",
       "      <th>15177</th>\n",
       "      <td>38910923</td>\n",
       "      <td>ESOS Compliance Officer</td>\n",
       "      <td>Great opportunity in the sought after educatio...</td>\n",
       "      <td>[autonomous, organized, analytical skills, pro...</td>\n",
       "      <td>[ESOS Framework, National Code of Practice, CR...</td>\n",
       "      <td>[manage ESOS compliance for the Education Grou...</td>\n",
       "      <td>[demonstrated deep understanding of the ESOS F...</td>\n",
       "    </tr>\n",
       "    <tr>\n",
       "      <th>34304</th>\n",
       "      <td>38846097</td>\n",
       "      <td>Charismatic Auditor</td>\n",
       "      <td>THE FIRM: This international accounting firm, ...</td>\n",
       "      <td>[numerical skills, logical thinking, maturity,...</td>\n",
       "      <td>[external auditing, audit assignments, Audit a...</td>\n",
       "      <td>[perform audit assignments, work on Audit and ...</td>\n",
       "      <td>[minimum two years external auditing experienc...</td>\n",
       "    </tr>\n",
       "    <tr>\n",
       "      <th>12609</th>\n",
       "      <td>38492154</td>\n",
       "      <td>MIG Welder</td>\n",
       "      <td>About the Role: About the Role: WorkPac are cu...</td>\n",
       "      <td>[attention to detail, commitment to complete w...</td>\n",
       "      <td>[MIG welding, high-quality MIG welding, stainl...</td>\n",
       "      <td>[perform MIG welding (including stainless stee...</td>\n",
       "      <td>[minimum 2 years welding experience, previous ...</td>\n",
       "    </tr>\n",
       "    <tr>\n",
       "      <th>12144</th>\n",
       "      <td>38878367</td>\n",
       "      <td>Registrar - Orthopaedics</td>\n",
       "      <td>Welcome to St John of God Health Care St John ...</td>\n",
       "      <td>[alignment with organisational mission and val...</td>\n",
       "      <td>[orthopaedics (clinical domain), surgical skil...</td>\n",
       "      <td>[perform duties of Registrar - Orthopaedics, w...</td>\n",
       "      <td>[graduate of an Australian Medical Council (AM...</td>\n",
       "    </tr>\n",
       "    <tr>\n",
       "      <th>6113</th>\n",
       "      <td>38877674</td>\n",
       "      <td>Senior Contracts Administrator x2 | Civil Cont...</td>\n",
       "      <td>Our client is a major construction company and...</td>\n",
       "      <td>[strong interpersonal skills, management skill...</td>\n",
       "      <td>[contracts administration, contract management...</td>\n",
       "      <td>[manage contracts and commercials across proje...</td>\n",
       "      <td>[based in Sydney Head Office (New South Wales)...</td>\n",
       "    </tr>\n",
       "    <tr>\n",
       "      <th>15908</th>\n",
       "      <td>38891102</td>\n",
       "      <td>Paraplanner - CBD, HNW Clients - Leadership Po...</td>\n",
       "      <td>Our client is an independently licensed privat...</td>\n",
       "      <td>[credibility and professionalism, communicatio...</td>\n",
       "      <td>[paraplanning experience, technical capability...</td>\n",
       "      <td>[focus solely on complex strategies, develop, ...</td>\n",
       "      <td>[experienced, capable paraplanner (no specific...</td>\n",
       "    </tr>\n",
       "    <tr>\n",
       "      <th>821</th>\n",
       "      <td>38956622</td>\n",
       "      <td>Diploma or ECT Educators - My Stepping Stones</td>\n",
       "      <td>My Stepping Stones (MSS) is excited to announc...</td>\n",
       "      <td>[strong written and verbal communication, abil...</td>\n",
       "      <td>[Early Childhood Teacher (ECT) qualification o...</td>\n",
       "      <td>[provide early childhood education and care, a...</td>\n",
       "      <td>[ECT or Diploma trained, good understanding of...</td>\n",
       "    </tr>\n",
       "    <tr>\n",
       "      <th>15118</th>\n",
       "      <td>38987923</td>\n",
       "      <td>Early Childhood Teacher</td>\n",
       "      <td>Beautiful 116 place centre located in Coorparo...</td>\n",
       "      <td>[communication, relationship-building with chi...</td>\n",
       "      <td>[knowledge of the Early Years Learning Framewo...</td>\n",
       "      <td>[design, implement and evaluate programs for c...</td>\n",
       "      <td>[Early Childhood Degree or ACECQA-approved equ...</td>\n",
       "    </tr>\n",
       "    <tr>\n",
       "      <th>13466</th>\n",
       "      <td>38939237</td>\n",
       "      <td>Perioperative Nurses | Queensland | Multiple R...</td>\n",
       "      <td>Frontline Health is a leading national healthc...</td>\n",
       "      <td>[passion for your career, excellent communicat...</td>\n",
       "      <td>[Anaesthetic nursing (CN/RN/EEN), Scrub/Scout ...</td>\n",
       "      <td>[Provide clinical nursing care in designated s...</td>\n",
       "      <td>[2+ years Australian experience within your sp...</td>\n",
       "    </tr>\n",
       "    <tr>\n",
       "      <th>26497</th>\n",
       "      <td>38922491</td>\n",
       "      <td>FCL Customer Service Officer</td>\n",
       "      <td>Amazing Career Opportunities Multiple position...</td>\n",
       "      <td>[energetic, assertive, team player, customer-o...</td>\n",
       "      <td>[experience in the logistics industry, plannin...</td>\n",
       "      <td>[plan and schedule labour for container unpack...</td>\n",
       "      <td>[full-time role, experience working in the log...</td>\n",
       "    </tr>\n",
       "    <tr>\n",
       "      <th>42111</th>\n",
       "      <td>38930110</td>\n",
       "      <td>Finance Officer - Operations</td>\n",
       "      <td>The City of Canada Bay is a thriving, colourfu...</td>\n",
       "      <td>[high level communication skills, ability to p...</td>\n",
       "      <td>[accounts payable, accounts receivable, genera...</td>\n",
       "      <td>[process invoices, monitor debtor ledgers, rec...</td>\n",
       "      <td>[tertiary qualifications in Accounting, minimu...</td>\n",
       "    </tr>\n",
       "    <tr>\n",
       "      <th>30188</th>\n",
       "      <td>38972454</td>\n",
       "      <td>Field Engineer - Printer Technician</td>\n",
       "      <td>About the Company Our client is a proven leade...</td>\n",
       "      <td>[excellent customer service, quality communica...</td>\n",
       "      <td>[full disassembly and repair of laser printers...</td>\n",
       "      <td>[service and repair a diverse range of printer...</td>\n",
       "      <td>[onsite role (work at customer sites), experie...</td>\n",
       "    </tr>\n",
       "    <tr>\n",
       "      <th>37237</th>\n",
       "      <td>38863953</td>\n",
       "      <td>React Developer</td>\n",
       "      <td>React Developer – Permanent - Melbourne - $100...</td>\n",
       "      <td>[teamwork / collaboration with designers and d...</td>\n",
       "      <td>[React (ReactJS), React Native, JavaScript (ES...</td>\n",
       "      <td>[Full stack (MERN) development, Develop front-...</td>\n",
       "      <td>[Permanent position, Based in Melbourne CBD, $...</td>\n",
       "    </tr>\n",
       "    <tr>\n",
       "      <th>33109</th>\n",
       "      <td>38950510</td>\n",
       "      <td>Hospitality Workers - Sales Opportunities!</td>\n",
       "      <td>Use your hospitality &amp;amp; customer service ex...</td>\n",
       "      <td>[social and friendly personality, confidence, ...</td>\n",
       "      <td>[hospitality experience, customer service expe...</td>\n",
       "      <td>[interact with and win new customers, assist w...</td>\n",
       "      <td>[work across locations in Sydney, independent ...</td>\n",
       "    </tr>\n",
       "    <tr>\n",
       "      <th>36480</th>\n",
       "      <td>38948177</td>\n",
       "      <td>Registered Nurse</td>\n",
       "      <td>At Opal Aged Care, we know that companies don&amp;...</td>\n",
       "      <td>[compassion, accountability, respect, excellen...</td>\n",
       "      <td>[Current practising Registration as a Register...</td>\n",
       "      <td>[Provide nursing care to aged residents, Deliv...</td>\n",
       "      <td>[Minimum 6+ months of paid experience as a Reg...</td>\n",
       "    </tr>\n",
       "    <tr>\n",
       "      <th>24148</th>\n",
       "      <td>38866924</td>\n",
       "      <td>Database Administrator</td>\n",
       "      <td>&amp;nbsp; &amp;nbsp; We have an immediate need for a ...</td>\n",
       "      <td>[troubleshooting, problem-solving, initiative,...</td>\n",
       "      <td>[Microsoft SQL Server (installing, configuring...</td>\n",
       "      <td>[proactively manage and maintain customer infr...</td>\n",
       "      <td>[Perth based, industry recognised certificates...</td>\n",
       "    </tr>\n",
       "    <tr>\n",
       "      <th>5503</th>\n",
       "      <td>39001535</td>\n",
       "      <td>Analyst Policy, Process &amp; Procedure</td>\n",
       "      <td>Analyst Policy, Process &amp;amp; Procedure Full-t...</td>\n",
       "      <td>[high attention to detail, excellent communica...</td>\n",
       "      <td>[quality assurance, policy, process and proced...</td>\n",
       "      <td>[provide assurance that the organisational qua...</td>\n",
       "      <td>[5+ years experience in the tertiary education...</td>\n",
       "    </tr>\n",
       "    <tr>\n",
       "      <th>3918</th>\n",
       "      <td>39000592</td>\n",
       "      <td>Senior Product Manager - Facial Aesthetics</td>\n",
       "      <td>The Company Our client is a well-respected Eur...</td>\n",
       "      <td>[strong communication, presentation skills, te...</td>\n",
       "      <td>[product/brand management (full product respon...</td>\n",
       "      <td>[sole responsibility for two key brands (one p...</td>\n",
       "      <td>[permanent, full-time role, minimum 5 years' e...</td>\n",
       "    </tr>\n",
       "    <tr>\n",
       "      <th>38478</th>\n",
       "      <td>38887096</td>\n",
       "      <td>General Manager Business Strategy and Performance</td>\n",
       "      <td>ABOUT US – WE KNOW THE WAY Established in 1989...</td>\n",
       "      <td>[leadership, communication, influencing, coach...</td>\n",
       "      <td>[financial management, P&amp;L management, budgeti...</td>\n",
       "      <td>[drive financial business performance across a...</td>\n",
       "      <td>[minimum 5 years in an Executive level role ov...</td>\n",
       "    </tr>\n",
       "    <tr>\n",
       "      <th>21123</th>\n",
       "      <td>38916159</td>\n",
       "      <td>Team Leader - Distribution Centre</td>\n",
       "      <td>Allstaff Australia is currently recruiting a T...</td>\n",
       "      <td>[leadership, team management, supervision, abi...</td>\n",
       "      <td>[warehousing processes, distribution centre pr...</td>\n",
       "      <td>[supervise and manage activities of a small te...</td>\n",
       "      <td>[experience in warehousing/distribution centre...</td>\n",
       "    </tr>\n",
       "    <tr>\n",
       "      <th>49717</th>\n",
       "      <td>38975463</td>\n",
       "      <td>Associate Recruitment Consultant | Mid 2019</td>\n",
       "      <td>Your new company At Hays, we are the industry ...</td>\n",
       "      <td>[highly motivated, sales driven, results-orien...</td>\n",
       "      <td>[advertising job vacancies, phone pre-screenin...</td>\n",
       "      <td>[advertise current and upcoming job vacancies,...</td>\n",
       "      <td>[willingness to complete an intensive 9-month ...</td>\n",
       "    </tr>\n",
       "    <tr>\n",
       "      <th>42294</th>\n",
       "      <td>38845661</td>\n",
       "      <td>Solution Lead</td>\n",
       "      <td>The Role This Solution Lead role is a key posi...</td>\n",
       "      <td>[communication, stakeholder management, transp...</td>\n",
       "      <td>[.NET frameworks, AWS (VPC, EC2, ECS, CloudFor...</td>\n",
       "      <td>[Own the delivery of initiatives, Lead deliver...</td>\n",
       "      <td>[]</td>\n",
       "    </tr>\n",
       "    <tr>\n",
       "      <th>47609</th>\n",
       "      <td>38870514</td>\n",
       "      <td>Lifestyle Support Worker</td>\n",
       "      <td>We are seeking a person who is passionate abou...</td>\n",
       "      <td>[client engagement, communication, high level ...</td>\n",
       "      <td>[Certificate III in Individual/Aged/Disability...</td>\n",
       "      <td>[actively engage clients in Leisure and Lifest...</td>\n",
       "      <td>[Minimum Certificate III in Individual/Aged/Di...</td>\n",
       "    </tr>\n",
       "    <tr>\n",
       "      <th>11076</th>\n",
       "      <td>38821855</td>\n",
       "      <td>Commercial Lawyer 10 + yrs PAE</td>\n",
       "      <td>About Wrays Wrays is&amp;nbsp;one of the largest i...</td>\n",
       "      <td>[commercially astute / commercial acumen, exce...</td>\n",
       "      <td>[intellectual property law, contracts law, gen...</td>\n",
       "      <td>[advise clients on intellectual property matte...</td>\n",
       "      <td>[New South Wales practising certificate, 10+ y...</td>\n",
       "    </tr>\n",
       "    <tr>\n",
       "      <th>41514</th>\n",
       "      <td>38884474</td>\n",
       "      <td>Replenishment Coordinator</td>\n",
       "      <td>About the opportunity It’s an exciting period ...</td>\n",
       "      <td>[confident, approachable, customer service ori...</td>\n",
       "      <td>[inventory management / inventory optimisation...</td>\n",
       "      <td>[optimise inventory levels, ensure stock is re...</td>\n",
       "      <td>[minimum 3 years supply chain experience inclu...</td>\n",
       "    </tr>\n",
       "    <tr>\n",
       "      <th>22062</th>\n",
       "      <td>38868834</td>\n",
       "      <td>Transport Allocator</td>\n",
       "      <td>A permanent transport allocator with a large t...</td>\n",
       "      <td>[hardworking attitude, excellent communication...</td>\n",
       "      <td>[transport allocation / fleet driver rostering...</td>\n",
       "      <td>[allocate a fleet of drivers, ensure drivers m...</td>\n",
       "      <td>[permanent position, based in the Botany area ...</td>\n",
       "    </tr>\n",
       "    <tr>\n",
       "      <th>9413</th>\n",
       "      <td>38844730</td>\n",
       "      <td>Estimator - Civil</td>\n",
       "      <td>ABOUT THE COMPANY. This exciting opportunity i...</td>\n",
       "      <td>[teamwork, communication, negotiation, mentori...</td>\n",
       "      <td>[civil estimating, tendering, earthworks, road...</td>\n",
       "      <td>[assist in tendering of earthworks and subdivi...</td>\n",
       "      <td>[Bachelor's degree in Civil Engineering or sim...</td>\n",
       "    </tr>\n",
       "    <tr>\n",
       "      <th>38340</th>\n",
       "      <td>38903786</td>\n",
       "      <td>CHILD CARE WORKER - ASSISTANT</td>\n",
       "      <td>CHILD CARE WORKER – ASSISTANT CERT 3 QUALIFIED...</td>\n",
       "      <td>[dedicated, well-organised, positive and motiv...</td>\n",
       "      <td>[Certificate III in Children's Services, First...</td>\n",
       "      <td>[assist the Team Leader with developing, plann...</td>\n",
       "      <td>[Certificate III in Children's Services, First...</td>\n",
       "    </tr>\n",
       "    <tr>\n",
       "      <th>30263</th>\n",
       "      <td>38933688</td>\n",
       "      <td>Corporate/M&amp;A Lawyer</td>\n",
       "      <td>You Will be a mid-level Corporate/M&amp;amp;A lawy...</td>\n",
       "      <td>[teamwork/collaboration, ability to work with ...</td>\n",
       "      <td>[Corporate/M&amp;A law, experience with natural re...</td>\n",
       "      <td>[report to three partners at an international ...</td>\n",
       "      <td>[mid-level role, qualified Corporate/M&amp;A lawye...</td>\n",
       "    </tr>\n",
       "    <tr>\n",
       "      <th>41252</th>\n",
       "      <td>38820072</td>\n",
       "      <td>High Performance Computing Specialist</td>\n",
       "      <td>The successful applicant will be required to p...</td>\n",
       "      <td>[knowledge sharing, verbal and written communi...</td>\n",
       "      <td>[high performance computing (HPC), Linux admin...</td>\n",
       "      <td>[provide inputs and insights to future plannin...</td>\n",
       "      <td>[At least five years of experience managing an...</td>\n",
       "    </tr>\n",
       "    <tr>\n",
       "      <th>14644</th>\n",
       "      <td>38931054</td>\n",
       "      <td>Customer Facing Sales Opening - Sydney CBD</td>\n",
       "      <td>Are you serious about providing exceptional cu...</td>\n",
       "      <td>[outgoing, friendly, ambitious, motivated, sup...</td>\n",
       "      <td>[sales, marketing, event marketing, business-t...</td>\n",
       "      <td>[be the face of the client's brand, interact w...</td>\n",
       "      <td>[full working rights in Australia, Australian ...</td>\n",
       "    </tr>\n",
       "    <tr>\n",
       "      <th>26335</th>\n",
       "      <td>38865836</td>\n",
       "      <td>Senior Development Manager</td>\n",
       "      <td>Our Client Our client is a well known, private...</td>\n",
       "      <td>[leadership, training and mentoring, hands-on ...</td>\n",
       "      <td>[development management, knowledge of the deve...</td>\n",
       "      <td>[full responsibility for leading developments,...</td>\n",
       "      <td>[proven development professional, solid track ...</td>\n",
       "    </tr>\n",
       "    <tr>\n",
       "      <th>28102</th>\n",
       "      <td>38887345</td>\n",
       "      <td>Assistant Branch Manager</td>\n",
       "      <td>Assistant Manager This international company i...</td>\n",
       "      <td>[enthusiastic, charismatic, highly organised, ...</td>\n",
       "      <td>[sales skills, customer service, marketing, br...</td>\n",
       "      <td>[manage all aspects of day-to-day branch opera...</td>\n",
       "      <td>[based in Darwin (Darwin branch), customer ser...</td>\n",
       "    </tr>\n",
       "    <tr>\n",
       "      <th>17523</th>\n",
       "      <td>38943223</td>\n",
       "      <td>Cardiac Sonographer</td>\n",
       "      <td>Benefits Sponsorship and relocation packages a...</td>\n",
       "      <td>[attention to detail, high-level communication...</td>\n",
       "      <td>[ASAR accreditation, ability to scan independe...</td>\n",
       "      <td>[perform independent cardiac scans, operate an...</td>\n",
       "      <td>[ASAR Accredited, must be able to scan indepen...</td>\n",
       "    </tr>\n",
       "  </tbody>\n",
       "</table>\n",
       "</div>"
      ]
     },
     "execution_count": 127,
     "metadata": {},
     "output_type": "execute_result"
    }
   ],
   "execution_count": 127
  },
  {
   "metadata": {},
   "cell_type": "markdown",
   "source": [
    "# 4. Evaluation\n",
    "\n",
    "We evaluate the extraction performance of our LLM (from Section 3) using a stronger model (GPT-5) as a judge. The judge compares extracted information against the original job ad and classifies each item as:\n",
    "\n",
    "- ✅ Correct - accurately extracted\n",
    "- ❌ Incorrect – wrong or hallucinated\n",
    "- 🕳️ Missing – relevant but not extracted\n",
    "\n",
    "From these results, we compute precision and recall for each category.\n",
    "We performed manual spot checks to confirm the judge’s reliability. Using an LLM as a judge is a cost-effective, scalable evaluation method. For production, a hybrid approach combining LLM judgments with human annotations is recommended."
   ],
   "id": "78985ea7bfb1d4aa"
  },
  {
   "metadata": {
    "ExecuteTime": {
     "end_time": "2025-10-19T23:00:56.547737Z",
     "start_time": "2025-10-19T23:00:56.540496Z"
    }
   },
   "cell_type": "code",
   "source": [
    "# Load the evaluation dataset\n",
    "eval_df =pd.read_csv(EVALUATION_DATASET_PATH)"
   ],
   "id": "599f7e0e0051840d",
   "outputs": [],
   "execution_count": 118
  },
  {
   "metadata": {
    "ExecuteTime": {
     "end_time": "2025-10-19T23:00:57.429605Z",
     "start_time": "2025-10-19T23:00:57.425203Z"
    }
   },
   "cell_type": "code",
   "source": [
    "# Create a structured message for LLM evaluation\n",
    "def create_eval_message(row):\n",
    "    # Format the extracted lists properly\n",
    "    soft_skills = row['soft_skills']\n",
    "    hard_skills = row['hard_skills']\n",
    "    responsibilities = row['responsibilities']\n",
    "    other_requirements = row['other_requirements']\n",
    "\n",
    "    message = f\"\"\"\n",
    "Job Ad Title: {row['title']}\n",
    "\n",
    "Original Job Ad Content:\n",
    "{row['cleaned_content']}\n",
    "\n",
    "Extracted Information:\n",
    "- soft_skills: {soft_skills}\n",
    "- hard_skills: {hard_skills}\n",
    "- responsibilities: {responsibilities}\n",
    "- other_requirements: {other_requirements}\n",
    "\n",
    "\"\"\"\n",
    "    return message\n",
    "\n",
    "# Add the evaluation message column\n",
    "eval_df['eval_text'] = eval_df.apply(create_eval_message, axis=1)"
   ],
   "id": "5d03645d1f440463",
   "outputs": [],
   "execution_count": 119
  },
  {
   "metadata": {
    "ExecuteTime": {
     "end_time": "2025-10-19T23:00:59.099112Z",
     "start_time": "2025-10-19T23:00:59.096797Z"
    }
   },
   "cell_type": "code",
   "source": [
    "JUDGE_SYSTEM_PROMPT = \"\"\"\n",
    "You are a specialised evaluation system for job advertisement information extraction. Your task is to compare extracted job information against the original job advertisement and assess extraction quality.\n",
    "\n",
    "Review the original job ad text and the extracted information in these categories:\n",
    "- soft_skills: Interpersonal, communication, teamwork, and non-technical skills\n",
    "- hard_skills: Technical skills, tools, programming languages, certifications\n",
    "- responsibilities: Core tasks and duties for the role\n",
    "- other_requirements: Qualifications, education, experience, eligibility requirements\n",
    "\n",
    "For each category, determine:\n",
    "- Count correct extractions (items that appear in the ad)\n",
    "- Count incorrect extractions (items not mentioned in the ad)\n",
    "- List important items from the job ad that were missed in the extraction\n",
    "\n",
    "Return your evaluation in this JSON format:\n",
    "{\n",
    "  \"soft_skills\": {\n",
    "    \"correct_extractions\": [list of correctly extracted items],\n",
    "    \"incorrect_extractions\": [list of incorrectly extracted items],\n",
    "    \"missing_extractions\": [list of items that should have been extracted]\n",
    "  },\n",
    "  \"hard_skills\": {\n",
    "    \"correct_extractions\": [list of correctly extracted items],\n",
    "    \"incorrect_extractions\": [list of incorrectly extracted items],\n",
    "    \"missing_extractions\": [list of items that should have been extracted]\n",
    "  },\n",
    "  \"responsibilities\": {\n",
    "    \"correct_extractions\": [list of correctly extracted items],\n",
    "    \"incorrect_extractions\": [list of incorrectly extracted items],\n",
    "    \"missing_extractions\": [list of items that should have been extracted]\n",
    "  },\n",
    "  \"other_requirements\": {\n",
    "    \"correct_extractions\": [list of correctly extracted items],\n",
    "    \"incorrect_extractions\": [list of incorrectly extracted items],\n",
    "    \"missing_extractions\": [list of items that should have been extracted]\n",
    "  }\n",
    "}\n",
    "\"\"\""
   ],
   "id": "7c27b09ea9315ea2",
   "outputs": [],
   "execution_count": 120
  },
  {
   "metadata": {
    "ExecuteTime": {
     "end_time": "2025-10-19T23:01:07.922598Z",
     "start_time": "2025-10-19T23:01:07.919854Z"
    }
   },
   "cell_type": "code",
   "source": [
    "class CategoryEvaluation(BaseModel):\n",
    "    correct_extractions: list[str]\n",
    "    incorrect_extractions: list[str]\n",
    "    missing_extractions: list[str]\n",
    "        \n",
    "class EvalResponse(BaseModel):\n",
    "    soft_skills: CategoryEvaluation\n",
    "    hard_skills: CategoryEvaluation\n",
    "    responsibilities: CategoryEvaluation\n",
    "    other_requirements: CategoryEvaluation"
   ],
   "id": "e6de572fe53d3cb6",
   "outputs": [],
   "execution_count": 122
  },
  {
   "metadata": {
    "ExecuteTime": {
     "end_time": "2025-10-19T23:01:08.768167Z",
     "start_time": "2025-10-19T23:01:08.764914Z"
    }
   },
   "cell_type": "code",
   "source": [
    "# Update the llm_evaluate function to return all fields including metrics\n",
    "def llm_evaluate(eval_text: str) -> dict:\n",
    "    try:\n",
    "        response = client.responses.parse(\n",
    "            model=\"gpt-5\",\n",
    "            input=[\n",
    "                {\"role\": \"system\", \"content\": JUDGE_SYSTEM_PROMPT},\n",
    "                {\n",
    "                    \"role\": \"user\",\n",
    "                    \"content\": eval_text,\n",
    "                },\n",
    "            ],\n",
    "            text_format=EvalResponse,\n",
    "        )\n",
    "\n",
    "        result = response.output_parsed\n",
    "\n",
    "        return {\n",
    "            'soft_skills': result.soft_skills,\n",
    "            'hard_skills': result.hard_skills,\n",
    "            'responsibilities': result.responsibilities,\n",
    "            'other_requirements': result.other_requirements,\n",
    "        }\n",
    "    except Exception as e:\n",
    "        print(f\"Error processing job ad: {e}\")\n",
    "        return {\n",
    "            'soft_skills': {'correct_extractions': [], 'incorrect_extractions': [], 'missing_extractions': []},\n",
    "            'hard_skills': {'correct_extractions': [], 'incorrect_extractions': [], 'missing_extractions': []},\n",
    "            'responsibilities': {'correct_extractions': [], 'incorrect_extractions': [], 'missing_extractions': []},\n",
    "            'other_requirements': {'correct_extractions': [], 'incorrect_extractions': [], 'missing_extractions': []},\n",
    "        }\n"
   ],
   "id": "38650db0b2388510",
   "outputs": [],
   "execution_count": 123
  },
  {
   "metadata": {
    "ExecuteTime": {
     "end_time": "2025-10-19T23:46:14.753Z",
     "start_time": "2025-10-19T23:01:19.124651Z"
    }
   },
   "cell_type": "code",
   "source": [
    "# Apply the evaluation function to the first few rows for testing\n",
    "eval_results = eval_df['eval_text'].apply(llm_evaluate)"
   ],
   "id": "8aa05b9e9d9714c7",
   "outputs": [],
   "execution_count": 124
  },
  {
   "metadata": {
    "ExecuteTime": {
     "end_time": "2025-10-19T23:46:14.773762Z",
     "start_time": "2025-10-19T23:46:14.763903Z"
    }
   },
   "cell_type": "code",
   "source": [
    "# Extract all the fields into separate columns\n",
    "for category in ['soft_skills', 'hard_skills', 'responsibilities', 'other_requirements']:\n",
    "    # Correct extractions\n",
    "    eval_df.loc[:,f'{category}_correct'] = eval_results.apply(\n",
    "        lambda x: x[category].correct_extractions\n",
    "    )\n",
    "    \n",
    "    # Incorrect extractions\n",
    "    eval_df.loc[:,f'{category}_incorrect'] = eval_results.apply(\n",
    "        lambda x: x[category].incorrect_extractions\n",
    "    )\n",
    "\n",
    "    # Missing extractions\n",
    "    eval_df.loc[:,f'{category}_missing'] = eval_results.apply(\n",
    "        lambda x: x[category].missing_extractions\n",
    "    )\n",
    "\n",
    "\n",
    "# Calculate counts for precision and recall analysis\n",
    "for category in ['soft_skills', 'hard_skills', 'responsibilities', 'other_requirements']:\n",
    "    # Count of correct extractions\n",
    "    eval_df.loc[:,f'{category}_correct_count'] = eval_df[f'{category}_correct'].apply(len)\n",
    "\n",
    "    # Count of incorrect extractions\n",
    "    eval_df.loc[:,f'{category}_incorrect_count'] = eval_df[f'{category}_incorrect'].apply(len)\n",
    "\n",
    "    # Count of missing extractions\n",
    "    eval_df.loc[:,f'{category}_missing_count'] = eval_df[f'{category}_missing'].apply(len)"
   ],
   "id": "1f3e247ae9b120eb",
   "outputs": [],
   "execution_count": 125
  },
  {
   "metadata": {
    "ExecuteTime": {
     "end_time": "2025-10-19T23:46:14.798082Z",
     "start_time": "2025-10-19T23:46:14.791300Z"
    }
   },
   "cell_type": "code",
   "source": [
    "# Calculate precision, recall, and F1 score for the whole dataset\n",
    "summary_metrics = []\n",
    "\n",
    "for category in ['soft_skills', 'hard_skills', 'responsibilities', 'other_requirements']:\n",
    "    # Sum up counts across all job ads\n",
    "    total_correct = eval_df[f'{category}_correct_count'].sum()\n",
    "    total_incorrect = eval_df[f'{category}_incorrect_count'].sum()\n",
    "    total_missing = eval_df[f'{category}_missing_count'].sum()\n",
    "    \n",
    "    # Calculate metrics\n",
    "    precision = total_correct / (total_correct + total_incorrect) \n",
    "    recall = total_correct / (total_correct + total_missing) \n",
    "    \n",
    "    # Store results\n",
    "    summary_metrics.append({\n",
    "        'Category': category,\n",
    "        'Precision': round(precision, 3),\n",
    "        'Recall': round(recall, 3),\n",
    "        'Correct Count': total_correct,\n",
    "        'Incorrect Count': total_incorrect,\n",
    "        'Missing Count': total_missing\n",
    "    })\n",
    "\n",
    "# Create summary dataframe\n",
    "metrics_df = pd.DataFrame(summary_metrics)\n",
    "\n",
    "# Display the metrics\n",
    "metrics_df"
   ],
   "id": "9a71b52f1add63d5",
   "outputs": [
    {
     "data": {
      "text/plain": [
       "             Category  Precision  Recall  Correct Count  Incorrect Count  \\\n",
       "0         soft_skills      0.899   0.937            355               40   \n",
       "1         hard_skills      0.954   0.958            435               21   \n",
       "2    responsibilities      0.856   0.953            346               58   \n",
       "3  other_requirements      0.910   0.865            263               26   \n",
       "\n",
       "   Missing Count  \n",
       "0             24  \n",
       "1             19  \n",
       "2             17  \n",
       "3             41  "
      ],
      "text/html": [
       "<div>\n",
       "<style scoped>\n",
       "    .dataframe tbody tr th:only-of-type {\n",
       "        vertical-align: middle;\n",
       "    }\n",
       "\n",
       "    .dataframe tbody tr th {\n",
       "        vertical-align: top;\n",
       "    }\n",
       "\n",
       "    .dataframe thead th {\n",
       "        text-align: right;\n",
       "    }\n",
       "</style>\n",
       "<table border=\"1\" class=\"dataframe\">\n",
       "  <thead>\n",
       "    <tr style=\"text-align: right;\">\n",
       "      <th></th>\n",
       "      <th>Category</th>\n",
       "      <th>Precision</th>\n",
       "      <th>Recall</th>\n",
       "      <th>Correct Count</th>\n",
       "      <th>Incorrect Count</th>\n",
       "      <th>Missing Count</th>\n",
       "    </tr>\n",
       "  </thead>\n",
       "  <tbody>\n",
       "    <tr>\n",
       "      <th>0</th>\n",
       "      <td>soft_skills</td>\n",
       "      <td>0.899</td>\n",
       "      <td>0.937</td>\n",
       "      <td>355</td>\n",
       "      <td>40</td>\n",
       "      <td>24</td>\n",
       "    </tr>\n",
       "    <tr>\n",
       "      <th>1</th>\n",
       "      <td>hard_skills</td>\n",
       "      <td>0.954</td>\n",
       "      <td>0.958</td>\n",
       "      <td>435</td>\n",
       "      <td>21</td>\n",
       "      <td>19</td>\n",
       "    </tr>\n",
       "    <tr>\n",
       "      <th>2</th>\n",
       "      <td>responsibilities</td>\n",
       "      <td>0.856</td>\n",
       "      <td>0.953</td>\n",
       "      <td>346</td>\n",
       "      <td>58</td>\n",
       "      <td>17</td>\n",
       "    </tr>\n",
       "    <tr>\n",
       "      <th>3</th>\n",
       "      <td>other_requirements</td>\n",
       "      <td>0.910</td>\n",
       "      <td>0.865</td>\n",
       "      <td>263</td>\n",
       "      <td>26</td>\n",
       "      <td>41</td>\n",
       "    </tr>\n",
       "  </tbody>\n",
       "</table>\n",
       "</div>"
      ]
     },
     "execution_count": 126,
     "metadata": {},
     "output_type": "execute_result"
    }
   ],
   "execution_count": 126
  }
 ],
 "metadata": {
  "kernelspec": {
   "display_name": "Python 3",
   "language": "python",
   "name": "python3"
  },
  "language_info": {
   "codemirror_mode": {
    "name": "ipython",
    "version": 2
   },
   "file_extension": ".py",
   "mimetype": "text/x-python",
   "name": "python",
   "nbconvert_exporter": "python",
   "pygments_lexer": "ipython2",
   "version": "2.7.6"
  }
 },
 "nbformat": 4,
 "nbformat_minor": 5
}
